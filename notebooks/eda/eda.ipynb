{
 "cells": [
  {
   "cell_type": "markdown",
   "metadata": {},
   "source": [
    "## Notebook Overview\n",
    "\n",
    "This notebook is designed to perform data preprocessing and Exploratory Data Analysis (EDA) for three distinct tasks related to rice leaf image classification. The primary goal is to prepare the datasets for each task, including cleaning, standardizing images, organizing them according to task-specific criteria (label, variety, age), and finally, splitting them into training and validation sets. The processed datasets for each task will be zipped for easy download and subsequent use in model training."
   ]
  },
  {
   "cell_type": "markdown",
   "metadata": {},
   "source": [
    "## Environment Setup: Installing Dependencies and Libraries\n",
    "\n",
    "### Purpose\n",
    "This initial section focuses on setting up the Python environment by installing specific versions of essential libraries. This ensures the reproducibility and compatibility of the code across different execution environments.\n",
    "\n",
    "### Key Libraries to be Installed:\n",
    "- **scikit-learn (sklearn)**: A fundamental library for machine learning in Python, offering a wide range of tools for tasks such as classification, regression, clustering, dimensionality reduction, model selection, and data preprocessing.\n",
    "- **imbalanced-learn (imblearn)**: A specialized package that provides techniques for handling imbalanced datasets, which are common in classification problems. It includes methods for over-sampling, under-sampling, and combination sampling."
   ]
  },
  {
   "cell_type": "code",
   "execution_count": 1,
   "metadata": {
    "execution": {
     "iopub.execute_input": "2025-05-16T05:32:29.076721Z",
     "iopub.status.busy": "2025-05-16T05:32:29.076400Z",
     "iopub.status.idle": "2025-05-16T05:32:33.618615Z",
     "shell.execute_reply": "2025-05-16T05:32:33.616941Z",
     "shell.execute_reply.started": "2025-05-16T05:32:29.076694Z"
    },
    "scrolled": true,
    "trusted": true
   },
   "outputs": [
    {
     "name": "stdout",
     "output_type": "stream",
     "text": [
      "Requirement already satisfied: scikit-learn==1.3.2 in /usr/local/lib/python3.11/dist-packages (1.3.2)\n",
      "Requirement already satisfied: imbalanced-learn==0.11.0 in /usr/local/lib/python3.11/dist-packages (0.11.0)\n",
      "Requirement already satisfied: numpy<2.0,>=1.17.3 in /usr/local/lib/python3.11/dist-packages (from scikit-learn==1.3.2) (1.26.4)\n",
      "Requirement already satisfied: scipy>=1.5.0 in /usr/local/lib/python3.11/dist-packages (from scikit-learn==1.3.2) (1.15.2)\n",
      "Requirement already satisfied: joblib>=1.1.1 in /usr/local/lib/python3.11/dist-packages (from scikit-learn==1.3.2) (1.4.2)\n",
      "Requirement already satisfied: threadpoolctl>=2.0.0 in /usr/local/lib/python3.11/dist-packages (from scikit-learn==1.3.2) (3.6.0)\n",
      "Requirement already satisfied: mkl_fft in /usr/local/lib/python3.11/dist-packages (from numpy<2.0,>=1.17.3->scikit-learn==1.3.2) (1.3.8)\n",
      "Requirement already satisfied: mkl_random in /usr/local/lib/python3.11/dist-packages (from numpy<2.0,>=1.17.3->scikit-learn==1.3.2) (1.2.4)\n",
      "Requirement already satisfied: mkl_umath in /usr/local/lib/python3.11/dist-packages (from numpy<2.0,>=1.17.3->scikit-learn==1.3.2) (0.1.1)\n",
      "Requirement already satisfied: mkl in /usr/local/lib/python3.11/dist-packages (from numpy<2.0,>=1.17.3->scikit-learn==1.3.2) (2025.1.0)\n",
      "Requirement already satisfied: tbb4py in /usr/local/lib/python3.11/dist-packages (from numpy<2.0,>=1.17.3->scikit-learn==1.3.2) (2022.1.0)\n",
      "Requirement already satisfied: mkl-service in /usr/local/lib/python3.11/dist-packages (from numpy<2.0,>=1.17.3->scikit-learn==1.3.2) (2.4.1)\n",
      "Requirement already satisfied: intel-openmp<2026,>=2024 in /usr/local/lib/python3.11/dist-packages (from mkl->numpy<2.0,>=1.17.3->scikit-learn==1.3.2) (2024.2.0)\n",
      "Requirement already satisfied: tbb==2022.* in /usr/local/lib/python3.11/dist-packages (from mkl->numpy<2.0,>=1.17.3->scikit-learn==1.3.2) (2022.1.0)\n",
      "Requirement already satisfied: tcmlib==1.* in /usr/local/lib/python3.11/dist-packages (from tbb==2022.*->mkl->numpy<2.0,>=1.17.3->scikit-learn==1.3.2) (1.2.0)\n",
      "Requirement already satisfied: intel-cmplr-lib-rt in /usr/local/lib/python3.11/dist-packages (from mkl_umath->numpy<2.0,>=1.17.3->scikit-learn==1.3.2) (2024.2.0)\n",
      "Requirement already satisfied: intel-cmplr-lib-ur==2024.2.0 in /usr/local/lib/python3.11/dist-packages (from intel-openmp<2026,>=2024->mkl->numpy<2.0,>=1.17.3->scikit-learn==1.3.2) (2024.2.0)\n",
      "Note: you may need to restart the kernel to use updated packages.\n"
     ]
    }
   ],
   "source": [
    "pip install -U scikit-learn==1.3.2 imbalanced-learn==0.11.0"
   ]
  },
  {
   "cell_type": "code",
   "execution_count": null,
   "metadata": {
    "execution": {
     "iopub.execute_input": "2025-05-16T05:32:33.621289Z",
     "iopub.status.busy": "2025-05-16T05:32:33.620820Z",
     "iopub.status.idle": "2025-05-16T05:32:34.479636Z",
     "shell.execute_reply": "2025-05-16T05:32:34.478168Z",
     "shell.execute_reply.started": "2025-05-16T05:32:33.621250Z"
    },
    "trusted": true
   },
   "outputs": [
    {
     "name": "stdout",
     "output_type": "stream",
     "text": [
      "scikit-learn version: 1.3.2\n",
      "imbalanced-learn version: 0.11.0\n"
     ]
    }
   ],
   "source": [
    "# Import the libraries to check their versions\n",
    "import sklearn\n",
    "import imblearn\n",
    "\n",
    "# Print the version of scikit-learn\n",
    "print(\"scikit-learn version:\", sklearn.__version__)\n",
    "# Print the version of imbalanced-learn\n",
    "print(\"imbalanced-learn version:\", imblearn.__version__)"
   ]
  },
  {
   "cell_type": "markdown",
   "metadata": {},
   "source": [
    "### Import Necessary Libraries\n",
    "\n",
    "This cell imports all other Python libraries and modules required for the various data processing, manipulation, visualization, and file operation tasks performed throughout this notebook.\n",
    "\n",
    "- **Purpose**: To load all required modules into the Python environment, making them readily available for use in subsequent cells.\n",
    "- **Key Libraries Imported**:\n",
    "    - `gdown`: For downloading files from Google Drive.\n",
    "    - `csv`, `os`, `shutil`, `zipfile`, `pathlib.Path`: For file system operations, CSV handling, and archive management.\n",
    "    - `pandas (pd)`: Essential for data manipulation and analysis, primarily using its DataFrame structures.\n",
    "    - `hashlib`: For generating MD5 hashes, used here to check for file integrity and identify duplicate images.\n",
    "    - `tqdm`: For creating progress bars, which provide visual feedback for long-running operations.\n",
    "    - `cv2 (OpenCV)`: A comprehensive library for computer vision tasks, including image processing and manipulation.\n",
    "    - `numpy (np)`: The fundamental package for numerical computation in Python, widely used for array and matrix operations.\n",
    "    - `PIL (Pillow)`: The Python Imaging Library, used for opening, manipulating, and saving many different image file formats.\n",
    "    - `matplotlib.pyplot (plt)`: A widely used plotting library for creating static, interactive, and animated visualizations.\n",
    "    - `random`, `math`: Standard Python libraries for random number generation and mathematical functions, respectively.\n",
    "    - `sklearn.model_selection.train_test_split`: A function from scikit-learn for splitting datasets into training and testing (or validation) subsets.\n",
    "    - `imblearn.under_sampling.TomekLinks`, `imblearn.over_sampling.SMOTE`: Techniques from imbalanced-learn for addressing class imbalance in datasets.\n",
    "    - `collections.Counter`: For counting hashable objects, useful for determining class distributions.\n",
    "    - `tensorflow.keras.preprocessing.image.ImageDataGenerator`: A Keras utility for real-time data augmentation and loading image data for deep learning models."
   ]
  },
  {
   "cell_type": "code",
   "execution_count": null,
   "metadata": {
    "execution": {
     "iopub.execute_input": "2025-05-16T05:32:38.987464Z",
     "iopub.status.busy": "2025-05-16T05:32:38.987036Z",
     "iopub.status.idle": "2025-05-16T05:32:59.330000Z",
     "shell.execute_reply": "2025-05-16T05:32:59.329031Z",
     "shell.execute_reply.started": "2025-05-16T05:32:38.987432Z"
    },
    "trusted": true
   },
   "outputs": [
    {
     "name": "stderr",
     "output_type": "stream",
     "text": [
      "2025-05-16 05:32:42.158921: E external/local_xla/xla/stream_executor/cuda/cuda_fft.cc:477] Unable to register cuFFT factory: Attempting to register factory for plugin cuFFT when one has already been registered\n",
      "WARNING: All log messages before absl::InitializeLog() is called are written to STDERR\n",
      "E0000 00:00:1747373562.467418      85 cuda_dnn.cc:8310] Unable to register cuDNN factory: Attempting to register factory for plugin cuDNN when one has already been registered\n",
      "E0000 00:00:1747373562.550314      85 cuda_blas.cc:1418] Unable to register cuBLAS factory: Attempting to register factory for plugin cuBLAS when one has already been registered\n"
     ]
    }
   ],
   "source": [
    "# For downloading files from Google Drive\n",
    "import gdown \n",
    "# For working with CSV files\n",
    "import csv \n",
    "# For interacting with the operating system (file paths, directories)\n",
    "import os \n",
    "# For high-level file operations (copying, removing directories)\n",
    "import shutil \n",
    "# For working with ZIP archives\n",
    "import zipfile \n",
    "# For data manipulation and analysis (DataFrames)\n",
    "import pandas as pd \n",
    "# For generating MD5 hashes (checking for duplicate files)\n",
    "import hashlib \n",
    "# For displaying progress bars\n",
    "from tqdm import tqdm \n",
    "# For image processing (OpenCV)\n",
    "import cv2 \n",
    "# For numerical operations (arrays, matrices)\n",
    "import numpy as np \n",
    "# For image manipulation (Python Imaging Library)\n",
    "from PIL import Image \n",
    "# For object-oriented filesystem paths\n",
    "from pathlib import Path \n",
    "# For plotting graphs and visualizations\n",
    "import matplotlib.pyplot as plt \n",
    "# For generating random numbers and choices\n",
    "import random \n",
    "# For mathematical functions\n",
    "import math \n",
    "# For splitting data into training and testing sets\n",
    "from sklearn.model_selection import train_test_split \n",
    "# For under-sampling techniques (Tomek Links) - if needed for imbalance\n",
    "from imblearn.under_sampling import TomekLinks \n",
    "# For over-sampling techniques (SMOTE) - if needed for imbalance\n",
    "from imblearn.over_sampling import SMOTE \n",
    "# For counting occurrences of items in a collection (e.g., class distribution)\n",
    "from collections import Counter \n",
    "# For real-time data augmentation and loading images in Keras/TensorFlow\n",
    "from tensorflow.keras.preprocessing.image import ImageDataGenerator"
   ]
  },
  {
   "cell_type": "markdown",
   "metadata": {},
   "source": [
    "# Main Dataset Acquisition\n",
    "\n",
    "This section outlines the procedures for downloading and extracting the primary dataset required for the project. The dataset, consisting of training images and an associated metadata file, is sourced from Google Drive."
   ]
  },
  {
   "cell_type": "code",
   "execution_count": null,
   "metadata": {
    "execution": {
     "iopub.execute_input": "2025-04-24T15:56:22.235716Z",
     "iopub.status.busy": "2025-04-24T15:56:22.234589Z",
     "iopub.status.idle": "2025-04-24T15:56:31.987221Z",
     "shell.execute_reply": "2025-04-24T15:56:31.986133Z",
     "shell.execute_reply.started": "2025-04-24T15:56:22.235684Z"
    },
    "trusted": true
   },
   "outputs": [
    {
     "name": "stderr",
     "output_type": "stream",
     "text": [
      "Downloading...\n",
      "From (original): https://drive.google.com/uc?id=1imVvr3Ydu8CdhM-mjEJ0Wc7IiH5wKV5e\n",
      "From (redirected): https://drive.google.com/uc?id=1imVvr3Ydu8CdhM-mjEJ0Wc7IiH5wKV5e&confirm=t&uuid=8a5e6e02-5725-46fd-8fce-baa3f149386b\n",
      "To: /kaggle/working/original_data/train_images.zip\n",
      "100%|██████████| 820M/820M [00:05<00:00, 144MB/s]  "
     ]
    },
    {
     "name": "stdout",
     "output_type": "stream",
     "text": [
      "Downloaded: /kaggle/working/original_data/train_images.zip\n"
     ]
    },
    {
     "name": "stderr",
     "output_type": "stream",
     "text": [
      "\n"
     ]
    }
   ],
   "source": [
    "# Google Drive file ID for the main training images zip file\n",
    "file_id = \"1imVvr3Ydu8CdhM-mjEJ0Wc7IiH5wKV5e\"\n",
    "file_name = \"train_images.zip\"\n",
    "folder_name = \"/kaggle/working/original_data\"\n",
    "\n",
    "# Delete the folder if it already exists to prevent errors from previous runs or outdated files\n",
    "if os.path.exists(folder_name):\n",
    "    shutil.rmtree(folder_name)\n",
    "\n",
    "# Create the folder to store the downloaded data\n",
    "os.makedirs(folder_name, exist_ok=True) # exist_ok=True prevents error if folder is created by another process concurrently\n",
    "file_path = os.path.join(folder_name, file_name)\n",
    "\n",
    "# Download the file from Google Drive using gdown\n",
    "print(f\"Downloading {file_name} from Google Drive...\")\n",
    "gdown.download(f\"https://drive.google.com/uc?id={file_id}\", file_path, quiet=False)\n",
    "\n",
    "print(f\"Downloaded: {file_path}\")"
   ]
  },
  {
   "cell_type": "markdown",
   "metadata": {},
   "source": [
    "### Extract Main Training Images\n",
    "\n",
    "Following the download, this cell extracts the contents of the `train_images.zip` file. The images are typically organized within subdirectories in the archive, which will be preserved upon extraction."
   ]
  },
  {
   "cell_type": "code",
   "execution_count": null,
   "metadata": {
    "execution": {
     "iopub.execute_input": "2025-04-24T15:56:36.303602Z",
     "iopub.status.busy": "2025-04-24T15:56:36.302900Z",
     "iopub.status.idle": "2025-04-24T15:56:41.261696Z",
     "shell.execute_reply": "2025-04-24T15:56:41.260685Z",
     "shell.execute_reply.started": "2025-04-24T15:56:36.303576Z"
    },
    "trusted": true
   },
   "outputs": [
    {
     "name": "stdout",
     "output_type": "stream",
     "text": [
      "Extraction complete.\n"
     ]
    }
   ],
   "source": [
    "# Path to the downloaded zip file\n",
    "zip_file_path = \"/kaggle/working/original_data/train_images.zip\"\n",
    "# Directory where the contents will be extracted\n",
    "extraction_path = \"/kaggle/working/original_data\"\n",
    "\n",
    "print(f\"Extracting {zip_file_path} to {extraction_path}...\")\n",
    "# Open the zip file in read mode\n",
    "with zipfile.ZipFile(zip_file_path, 'r') as zip_ref:\n",
    "    # Extract all the contents into the specified directory\n",
    "    zip_ref.extractall(extraction_path)\n",
    "\n",
    "print(\"Extraction complete.\")"
   ]
  },
  {
   "cell_type": "markdown",
   "metadata": {},
   "source": [
    "### Download Metadata File\n",
    "\n",
    "This cell downloads the metadata file (`meta_train.csv`) from Google Drive. This CSV file contains essential information associated with each image in the main training dataset, such as image IDs and corresponding labels (e.g., disease type, variety, age).\n",
    "\n",
    "- **Purpose**: To obtain the structured metadata which provides labels and other attributes for the training images.\n",
    "- **Key Components**:\n",
    "    - `file_id`: The unique Google Drive identifier for the `meta_train.csv` file.\n",
    "    - `file_name`: The name of the CSV file (\"meta_train.csv\").\n",
    "    - `folder_name`: The local directory (`/kaggle/working/original_data/`) where the CSV file will be saved.\n",
    "    - `gdown.download()`: Downloads the file from the specified Google Drive URL.\n",
    "- **Inputs**:\n",
    "    - Google Drive File ID for `meta_train.csv`.\n",
    "- **Outputs**:\n",
    "    - `meta_train.csv` is downloaded to the `/kaggle/working/original_data/` directory.\n",
    "    - A confirmation message with the download path is printed.\n",
    "- **Why it Matters**: The metadata file is crucial for supervised learning. It links each image to its ground truth label and potentially other relevant features, which are necessary for training classification models and for performing stratified analyses or splits."
   ]
  },
  {
   "cell_type": "code",
   "execution_count": null,
   "metadata": {
    "execution": {
     "iopub.execute_input": "2025-04-24T15:56:44.802243Z",
     "iopub.status.busy": "2025-04-24T15:56:44.801701Z",
     "iopub.status.idle": "2025-04-24T15:56:48.081202Z",
     "shell.execute_reply": "2025-04-24T15:56:48.079985Z",
     "shell.execute_reply.started": "2025-04-24T15:56:44.802215Z"
    },
    "trusted": true
   },
   "outputs": [
    {
     "name": "stderr",
     "output_type": "stream",
     "text": [
      "Downloading...\n",
      "From: https://drive.google.com/uc?id=1HHhdIPkl4hrYer0udqFwg4U1SgwPRbkz\n",
      "To: /kaggle/working/original_data/meta_train.csv\n",
      "100%|██████████| 335k/335k [00:00<00:00, 48.5MB/s]"
     ]
    },
    {
     "name": "stdout",
     "output_type": "stream",
     "text": [
      "Downloaded: /kaggle/working/original_data/meta_train.csv\n"
     ]
    },
    {
     "name": "stderr",
     "output_type": "stream",
     "text": [
      "\n"
     ]
    }
   ],
   "source": [
    "# Google Drive file ID for the metadata CSV file\n",
    "file_id = \"1HHhdIPkl4hrYer0udqFwg4U1SgwPRbkz\"\n",
    "file_name = \"meta_train.csv\"\n",
    "folder_name = \"/kaggle/working/original_data\" # Should already exist\n",
    "\n",
    "file_path = os.path.join(folder_name, file_name)\n",
    "\n",
    "print(f\"Downloading {file_name} from Google Drive...\")\n",
    "# Download the metadata file from Google Drive\n",
    "gdown.download(f\"https://drive.google.com/uc?id={file_id}\", file_path, quiet=False)\n",
    "\n",
    "print(f\"Downloaded: {file_path}\")"
   ]
  },
  {
   "cell_type": "markdown",
   "metadata": {},
   "source": [
    "# Data Cleaning\n",
    "\n",
    "This section focuses on the initial cleaning of the dataset. The first step involves inspecting the primary metadata file for any missing values, which could impact subsequent processing or model training."
   ]
  },
  {
   "cell_type": "markdown",
   "metadata": {},
   "source": [
    "### Check for Missing Values in Metadata\n",
    "\n",
    "This cell reads the downloaded `meta_train.csv` file into a pandas DataFrame. It then uses the `.isnull().sum()` method to count the number of missing (NaN or null) values in each column of the DataFrame.\n",
    "\n",
    "- **Purpose**: To identify if there are any missing entries in the metadata. Missing data can lead to errors during data processing, introduce bias, or require specific handling strategies (e.g., imputation, removal of records).\n",
    "- **Why it Matters**: Identifying missing metadata is a critical first step in data cleaning. If significant missing data were found, strategies such as removing the affected rows/columns or imputing the missing values would need to be considered. In this case, the expectation is to find no missing values for critical fields."
   ]
  },
  {
   "cell_type": "code",
   "execution_count": null,
   "metadata": {
    "execution": {
     "iopub.execute_input": "2025-05-16T05:37:26.099919Z",
     "iopub.status.busy": "2025-05-16T05:37:26.099565Z",
     "iopub.status.idle": "2025-05-16T05:37:26.134580Z",
     "shell.execute_reply": "2025-05-16T05:37:26.133427Z",
     "shell.execute_reply.started": "2025-05-16T05:37:26.099892Z"
    },
    "trusted": true
   },
   "outputs": [
    {
     "name": "stdout",
     "output_type": "stream",
     "text": [
      "image_id    0\n",
      "label       0\n",
      "variety     0\n",
      "age         0\n",
      "dtype: int64\n"
     ]
    }
   ],
   "source": [
    "# Define the path to the metadata CSV file\n",
    "metadata_file_path = '/kaggle/working/original_data/meta_train.csv'\n",
    "\n",
    "# Load the main metadata CSV file into a pandas DataFrame\n",
    "MetaImagesDataframe = pd.read_csv(metadata_file_path)\n",
    "\n",
    "# Display the sum of missing values for each column in the DataFrame\n",
    "print(f\"Checking for missing values in {metadata_file_path}:\")\n",
    "print(MetaImagesDataframe.isnull().sum())"
   ]
  },
  {
   "cell_type": "markdown",
   "metadata": {},
   "source": [
    "## Placing All Images into a Standardized Folder\n",
    "\n",
    "This subsection describes the process of consolidating all images from the main dataset's potentially nested directory structure into a single, flat directory. This simplifies subsequent operations like duplicate checking and batch processing."
   ]
  },
  {
   "cell_type": "markdown",
   "metadata": {},
   "source": [
    "### Define Standardized Directory Paths"
   ]
  },
  {
   "cell_type": "code",
   "execution_count": null,
   "metadata": {},
   "outputs": [],
   "source": [
    "# Define the path for the directory where all images will be consolidated and standardized\n",
    "standardize_dir = \"/kaggle/working/standardized_images\"\n",
    "# Define the path to the main dataset images (extracted from train_images.zip)\n",
    "main_dataset_path = \"/kaggle/working/original_data/train_images\" # This is the folder created after extracting train_images.zip"
   ]
  },
  {
   "cell_type": "markdown",
   "metadata": {},
   "source": [
    "### Consolidate Main Dataset Images\n",
    "\n",
    "This cell copies all image files from the nested subdirectories of the `main_dataset_path` (e.g., class-specific folders) into the single `standardize_dir`. This creates a flat directory of all images from the main dataset."
   ]
  },
  {
   "cell_type": "code",
   "execution_count": null,
   "metadata": {},
   "outputs": [],
   "source": [
    "# Delete the standardized directory if it already exists to ensure a fresh start\n",
    "if os.path.exists(standardize_dir):\n",
    "    print(f\"Removing existing standardized directory: {standardize_dir}\")\n",
    "    shutil.rmtree(standardize_dir)\n",
    "    \n",
    "# Create the standardized directory\n",
    "print(f\"Creating standardized directory: {standardize_dir}\")\n",
    "os.makedirs(standardize_dir, exist_ok=True)\n",
    "\n",
    "image_copy_count = 0\n",
    "# Check if the main dataset path exists\n",
    "if os.path.isdir(main_dataset_path):\n",
    "    print(f\"Consolidating images from {main_dataset_path}...\")\n",
    "    # Iterate through each category (subdirectory) in the main dataset path\n",
    "    for category_folder_name in tqdm(os.listdir(main_dataset_path), desc=\"Processing categories\"):\n",
    "        category_path = os.path.join(main_dataset_path, category_folder_name)\n",
    "        # Check if the item is a directory (i.e., a category folder)\n",
    "        if os.path.isdir(category_path):\n",
    "            # Iterate through each image file in the category folder\n",
    "            for img_file_name in os.listdir(category_path):\n",
    "                img_src_path = os.path.join(category_path, img_file_name)\n",
    "                # Check if the item is a file and has a common image extension\n",
    "                if os.path.isfile(img_src_path) and img_file_name.lower().endswith(('.png', '.jpg', '.jpeg')):\n",
    "                    img_dest_path = os.path.join(standardize_dir, img_file_name)\n",
    "                    # Copy the image file to the standardized directory\n",
    "                    shutil.copy2(img_src_path, img_dest_path)\n",
    "                    image_copy_count += 1\n",
    "    print(f\"Copying main dataset images to standardized folder completed. Total images copied: {image_copy_count}\")\n",
    "else:\n",
    "    print(f\"Error: Main dataset path not found: {main_dataset_path}\")"
   ]
  },
  {
   "cell_type": "markdown",
   "metadata": {},
   "source": [
    "### Remove Duplicate and Corrupted Images from Standardized Folder\n",
    "\n",
    "This cell defines and applies functions to identify and remove duplicate images based on their content (MD5 hash) and to remove any corrupted image files found within the `standardize_dir`.\n",
    "\n",
    "- **Purpose**: To ensure data quality and integrity by eliminating redundant data (exact duplicates) and problematic files (corrupted images) that could interfere with subsequent processing or model training.\n",
    "- **Key Components**:\n",
    "    - `compute_md5(file_path)`: \n",
    "        - Takes a file path as input.\n",
    "        - Opens the file in binary read mode (`'rb'`).\n",
    "        - Reads the file's content and computes its MD5 hash using `hashlib.md5()`.\n",
    "        - Returns the hexadecimal representation of the hash.\n",
    "        - Includes error handling: If an exception occurs during file reading (e.g., for a corrupted image), it prints a warning, removes the problematic file using `os.remove()`, and returns `None`.\n",
    "- **Why it Matters**: Removing duplicates prevents the model from being biased towards over-represented samples and ensures that evaluation metrics are more reliable. Removing corrupted files prevents errors in later data loading and processing stages."
   ]
  },
  {
   "cell_type": "code",
   "execution_count": null,
   "metadata": {
    "execution": {
     "iopub.execute_input": "2025-04-24T16:00:54.228912Z",
     "iopub.status.busy": "2025-04-24T16:00:54.228494Z",
     "iopub.status.idle": "2025-04-24T16:00:56.363778Z",
     "shell.execute_reply": "2025-04-24T16:00:56.362520Z",
     "shell.execute_reply.started": "2025-04-24T16:00:54.228885Z"
    },
    "trusted": true
   },
   "outputs": [
    {
     "name": "stderr",
     "output_type": "stream",
     "text": [
      "Checking /kaggle/working/original_data/train_images/tungro: 100%|██████████| 1088/1088 [00:00<00:00, 4690.58it/s]\n"
     ]
    },
    {
     "name": "stdout",
     "output_type": "stream",
     "text": [
      "Removed 8 duplicates in /kaggle/working/original_data/train_images/tungro\n"
     ]
    },
    {
     "name": "stderr",
     "output_type": "stream",
     "text": [
      "Checking /kaggle/working/original_data/train_images/bacterial_panicle_blight: 100%|██████████| 337/337 [00:00<00:00, 5628.35it/s]\n"
     ]
    },
    {
     "name": "stdout",
     "output_type": "stream",
     "text": [
      "Removed 1 duplicates in /kaggle/working/original_data/train_images/bacterial_panicle_blight\n"
     ]
    },
    {
     "name": "stderr",
     "output_type": "stream",
     "text": [
      "Checking /kaggle/working/original_data/train_images/downy_mildew: 100%|██████████| 620/620 [00:00<00:00, 5004.31it/s]\n"
     ]
    },
    {
     "name": "stdout",
     "output_type": "stream",
     "text": [
      "Removed 2 duplicates in /kaggle/working/original_data/train_images/downy_mildew\n"
     ]
    },
    {
     "name": "stderr",
     "output_type": "stream",
     "text": [
      "Checking /kaggle/working/original_data/train_images/brown_spot: 100%|██████████| 965/965 [00:00<00:00, 4900.55it/s]\n"
     ]
    },
    {
     "name": "stdout",
     "output_type": "stream",
     "text": [
      "Removed 12 duplicates in /kaggle/working/original_data/train_images/brown_spot\n"
     ]
    },
    {
     "name": "stderr",
     "output_type": "stream",
     "text": [
      "Checking /kaggle/working/original_data/train_images/dead_heart: 100%|██████████| 1442/1442 [00:00<00:00, 5240.39it/s]\n"
     ]
    },
    {
     "name": "stdout",
     "output_type": "stream",
     "text": [
      "Removed 13 duplicates in /kaggle/working/original_data/train_images/dead_heart\n"
     ]
    },
    {
     "name": "stderr",
     "output_type": "stream",
     "text": [
      "Checking /kaggle/working/original_data/train_images/bacterial_leaf_streak: 100%|██████████| 380/380 [00:00<00:00, 4570.60it/s]\n"
     ]
    },
    {
     "name": "stdout",
     "output_type": "stream",
     "text": [
      "Removed 0 duplicates in /kaggle/working/original_data/train_images/bacterial_leaf_streak\n"
     ]
    },
    {
     "name": "stderr",
     "output_type": "stream",
     "text": [
      "Checking /kaggle/working/original_data/train_images/normal: 100%|██████████| 1764/1764 [00:00<00:00, 4796.36it/s]\n"
     ]
    },
    {
     "name": "stdout",
     "output_type": "stream",
     "text": [
      "Removed 15 duplicates in /kaggle/working/original_data/train_images/normal\n"
     ]
    },
    {
     "name": "stderr",
     "output_type": "stream",
     "text": [
      "Checking /kaggle/working/original_data/train_images/bacterial_leaf_blight: 100%|██████████| 479/479 [00:00<00:00, 4678.68it/s]\n"
     ]
    },
    {
     "name": "stdout",
     "output_type": "stream",
     "text": [
      "Removed 8 duplicates in /kaggle/working/original_data/train_images/bacterial_leaf_blight\n"
     ]
    },
    {
     "name": "stderr",
     "output_type": "stream",
     "text": [
      "Checking /kaggle/working/original_data/train_images/hispa: 100%|██████████| 1594/1594 [00:00<00:00, 5348.26it/s]\n"
     ]
    },
    {
     "name": "stdout",
     "output_type": "stream",
     "text": [
      "Removed 5 duplicates in /kaggle/working/original_data/train_images/hispa\n"
     ]
    },
    {
     "name": "stderr",
     "output_type": "stream",
     "text": [
      "Checking /kaggle/working/original_data/train_images/blast: 100%|██████████| 1738/1738 [00:00<00:00, 5217.85it/s]"
     ]
    },
    {
     "name": "stdout",
     "output_type": "stream",
     "text": [
      "Removed 10 duplicates in /kaggle/working/original_data/train_images/blast\n"
     ]
    },
    {
     "name": "stderr",
     "output_type": "stream",
     "text": [
      "\n"
     ]
    }
   ],
   "source": [
    "# Function to compute MD5 hash of a file\n",
    "def compute_md5(file_path):\n",
    "    try:\n",
    "        # Open file in binary read mode\n",
    "        with open(file_path, 'rb') as f:\n",
    "            # Read the file content and compute MD5 hash\n",
    "            file_hash = hashlib.md5()\n",
    "            while chunk := f.read(8192): # Read in chunks for large files\n",
    "                file_hash.update(chunk)\n",
    "            return file_hash.hexdigest()\n",
    "    except Exception as e:\n",
    "        # If an error occurs (e.g., corrupted file), print a warning and attempt to remove the file\n",
    "        print(f\"⚠️ Error computing hash for {file_path}: {e}. Attempting to remove.\")\n",
    "        try:\n",
    "            os.remove(file_path)\n",
    "            print(f\"Successfully removed corrupted file: {file_path}\")\n",
    "        except OSError as oe:\n",
    "            print(f\"Error removing corrupted file {file_path}: {oe}\")\n",
    "        return None\n",
    "\n",
    "# Function to remove duplicate files in a given folder based on MD5 hash\n",
    "def remove_duplicates_in_folder(folder_path):\n",
    "    seen_hashes = set() # Set to store hashes of files already processed\n",
    "    duplicates_removed_count = 0 # Counter for removed duplicate files\n",
    "    corrupted_files_handled = 0 # Counter for files that were corrupted and handled (removed)\n",
    "    files_to_check = [f for f in os.listdir(folder_path) if os.path.isfile(os.path.join(folder_path, f)) and f.lower().endswith(('.png', '.jpg', '.jpeg'))]\n",
    "\n",
    "    print(f\"Starting duplicate check for {len(files_to_check)} image files in {folder_path}...\")\n",
    "    # Iterate through all image files in the folder with a progress bar\n",
    "    for filename in tqdm(files_to_check, desc=f'Checking {os.path.basename(folder_path)} for duplicates'):\n",
    "        file_path = os.path.join(folder_path, filename)\n",
    "        \n",
    "        file_hash = compute_md5(file_path)\n",
    "\n",
    "        if file_hash is None: # Indicates file was corrupted and handled by compute_md5\n",
    "            corrupted_files_handled += 1\n",
    "            continue \n",
    "\n",
    "        # If hash is already seen, it's a duplicate; remove it\n",
    "        if file_hash in seen_hashes:\n",
    "            try:\n",
    "                os.remove(file_path)\n",
    "                duplicates_removed_count += 1\n",
    "            except OSError as e:\n",
    "                print(f\"Error removing duplicate file {file_path}: {e}\")\n",
    "        else:\n",
    "            # If hash is new, add it to the set of seen hashes\n",
    "            seen_hashes.add(file_hash)\n",
    "\n",
    "    print(f'Duplicate check completed for {folder_path}.')\n",
    "    print(f'Removed {duplicates_removed_count} duplicate images.')\n",
    "    if corrupted_files_handled > 0:\n",
    "        print(f'Handled (removed) {corrupted_files_handled} corrupted files during hash computation.')\n",
    "\n",
    "# Check if the standardized directory exists and then remove duplicates\n",
    "if os.path.isdir(standardize_dir):\n",
    "    remove_duplicates_in_folder(standardize_dir)\n",
    "else:\n",
    "    print(f\"Error: Standardized directory not found: {standardize_dir}. Skipping duplicate removal.\")"
   ]
  },
  {
   "cell_type": "markdown",
   "metadata": {},
   "source": [
    "## Data Pre-processing: Image Standardization\n",
    "\n",
    "This section focuses on standardizing the visual characteristics of the images in the `standardize_dir`. Uniformity in image properties like size, color mode, and pixel value range is crucial for effective model training."
   ]
  },
  {
   "cell_type": "markdown",
   "metadata": {},
   "source": [
    "### Standardize Images (Resize, Convert, Normalize)\n",
    "\n",
    "This cell defines and applies a function `standardize_images_in_folder` to process each image in the `standardize_dir`. The standardization process includes:\n",
    "1.  Converting all images to RGB color mode.\n",
    "2.  Resizing all images to a fixed `target_size` (e.g., 224x224 pixels).\n",
    "3.  Applying Gaussian blur for minor noise reduction.\n",
    "4.  Normalizing pixel values to the [0, 1] range.\n",
    "Optionally, it includes a step to identify and skip (or remove) very low-contrast images.\n",
    "\n",
    "- **Purpose**: To transform all images into a consistent format and numerical range, which is essential for stable and efficient training of deep learning models.\n",
    "- **Key Components**:\n",
    "    - `target_size = (224, 224)`: Defines the uniform dimensions to which all images will be resized.\n",
    "    - `standardize_images_in_folder(folder_path)`:\n",
    "        - Iterates through each image file in the `folder_path` using `tqdm` for a progress bar.\n",
    "        - `Image.open(file_path).convert('RGB')`: Opens an image using Pillow and ensures it is in the RGB color format. This handles images that might be grayscale, RGBA, or in other modes.\n",
    "        - `img.resize(target_size, Image.Resampling.LANCZOS)`: Resizes the image to `target_size` using the LANCZOS resampling filter, which is generally good for downscaling quality.\n",
    "        - `img_np = np.array(img)`: Converts the Pillow Image object to a NumPy array for numerical processing.\n",
    "        - `cv2.GaussianBlur(img_np, (3, 3), 0)`: Applies a gentle Gaussian blur with a 3x3 kernel. This can help reduce minor noise and irrelevant high-frequency details.\n",
    "        - `img_np_normalized = img_np_blurred / 255.0`: Normalizes the pixel values from the typical 0-255 range to the 0-1 range by dividing by 255.0.\n",
    "        - Low-contrast check (optional): `if img_np_normalized.std() < 0.01:` - If the standard deviation of the normalized pixel values is very low, the image might lack significant features. Such images can be skipped or removed.\n",
    "        - `cleaned_img_uint8 = (img_np_normalized * 255).astype(np.uint8)`: Converts the normalized (0-1 range) image back to the 0-255 uint8 format if needed for saving or certain types of display, though for model input, the normalized form is usually preferred.\n",
    "        - `cleaned_img_pil = Image.fromarray(cleaned_img_uint8)`: Converts the processed NumPy array back to a Pillow Image object.\n",
    "        - `cleaned_img_pil.save(file_path)`: Saves the standardized image, overwriting the original file in the `standardize_dir`.\n",
    "    - Error handling: Includes a `try-except` block to catch issues during image opening or processing (e.g., for residual corrupted files), print an error, and optionally remove the problematic file.\n",
    "- **Why it Matters**: Neural networks expect input data to be in a consistent shape and format. Resizing ensures all input tensors have the same dimensions. RGB conversion ensures consistent color channels. Normalization helps in stabilizing the learning process and can speed up convergence. Noise reduction can help the model focus on more salient features."
   ]
  },
  {
   "cell_type": "code",
   "execution_count": 11,
   "metadata": {
    "execution": {
     "iopub.execute_input": "2025-05-16T05:39:08.705054Z",
     "iopub.status.busy": "2025-05-16T05:39:08.703760Z",
     "iopub.status.idle": "2025-05-16T05:39:08.710048Z",
     "shell.execute_reply": "2025-05-16T05:39:08.708963Z",
     "shell.execute_reply.started": "2025-05-16T05:39:08.705011Z"
    },
    "trusted": true
   },
   "outputs": [],
   "source": [
    "standardize_dir = Path(\"/kaggle/working/standardized_images\")"
   ]
  },
  {
   "cell_type": "code",
   "execution_count": null,
   "metadata": {
    "trusted": true
   },
   "outputs": [],
   "source": [
    "# Define the target size for image standardization (width, height)\n",
    "target_size = (224, 224) # Common size for many pre-trained models\n",
    "\n",
    "# Function to standardize images within a given folder\n",
    "def standardize_images_in_folder(folder_path):\n",
    "    processed_count = 0\n",
    "    error_count = 0\n",
    "    low_contrast_skipped = 0\n",
    "    image_files = [f for f in os.listdir(folder_path) if os.path.isfile(os.path.join(folder_path, f)) and f.lower().endswith(('.png', '.jpg', '.jpeg'))]\n",
    "    \n",
    "    print(f\"Starting standardization for {len(image_files)} images in {folder_path}...\")\n",
    "    # Iterate through all files in the folder with a progress bar\n",
    "    for filename in tqdm(image_files, desc=f'Standardizing images in {os.path.basename(folder_path)}'):\n",
    "        file_path = os.path.join(folder_path, filename)\n",
    "            \n",
    "        try:\n",
    "            # Load image using PIL and convert to RGB format\n",
    "            img = Image.open(file_path).convert('RGB')\n",
    "\n",
    "            # Resize image to the target standard size using LANCZOS for quality\n",
    "            img = img.resize(target_size, Image.Resampling.LANCZOS)\n",
    "\n",
    "            # Convert PIL Image to NumPy array for OpenCV processing\n",
    "            img_np = np.array(img)\n",
    "\n",
    "            # Apply Gaussian blur for noise reduction (kernel size 3x3, std dev 0)\n",
    "            img_np_blurred = cv2.GaussianBlur(img_np, (3, 3), 0)\n",
    "\n",
    "            # Normalize pixel values to the range [0, 1] for potential model input or checks\n",
    "            img_np_normalized = img_np_blurred / 255.0\n",
    "\n",
    "            # Optional: Check for and skip low-contrast images\n",
    "            if img_np_normalized.std() < 0.01: # Threshold for low contrast\n",
    "                # print(f\"Skipped low-contrast image: {filename}\")\n",
    "                # os.remove(file_path) # Optionally remove if desired\n",
    "                low_contrast_skipped += 1\n",
    "                continue # Skip saving this image\n",
    "\n",
    "            # For saving, ensure the image is in uint8 format (0-255 range)\n",
    "            # If normalization was purely for checks, we can use img_np_blurred directly\n",
    "            # If the model expects 0-1, this step would be different or done in data loader\n",
    "            # Here, we save the blurred image (still in 0-255 range if not explicitly normalized for saving)\n",
    "            cleaned_img_pil = Image.fromarray(img_np_blurred) # img_np_blurred is already uint8\n",
    "            \n",
    "            # Save the cleaned and standardized image, overwriting the original file\n",
    "            cleaned_img_pil.save(file_path)\n",
    "            processed_count += 1\n",
    "\n",
    "        except Exception as e:\n",
    "            # Print an error message if processing fails for any image\n",
    "            print(f\"Error processing {filename}: {e}\")\n",
    "            error_count += 1\n",
    "            # Optionally remove corrupted files that cannot be processed\n",
    "            # try:\n",
    "            #     os.remove(file_path)\n",
    "            #     print(f\"Removed problematic file: {file_path}\")\n",
    "            # except OSError as oe:\n",
    "            #     print(f\"Error removing problematic file {file_path}: {oe}\")\n",
    "\n",
    "    print(f\"Image standardization process completed for {folder_path}.\")\n",
    "    print(f\"Successfully processed and saved: {processed_count} images.\")\n",
    "    if low_contrast_skipped > 0:\n",
    "        print(f\"Skipped {low_contrast_skipped} low-contrast images.\")\n",
    "    if error_count > 0:\n",
    "        print(f\"Encountered errors with {error_count} images.\")\n",
    "\n",
    "# Check if the standardized directory exists and then standardize images\n",
    "if os.path.isdir(standardize_dir):\n",
    "    standardize_images_in_folder(standardize_dir)\n",
    "else:\n",
    "    print(f\"Error: Standardized directory not found: {standardize_dir}. Skipping image standardization.\")"
   ]
  },
  {
   "cell_type": "markdown",
   "metadata": {},
   "source": [
    "# Exploratory Data Analysis (EDA)\n",
    "\n",
    "This section begins the exploratory data analysis by first confirming the total number of images remaining after all cleaning, consolidation, and standardization steps."
   ]
  },
  {
   "cell_type": "code",
   "execution_count": 40,
   "metadata": {
    "execution": {
     "iopub.execute_input": "2025-04-24T16:29:15.778944Z",
     "iopub.status.busy": "2025-04-24T16:29:15.778508Z",
     "iopub.status.idle": "2025-04-24T16:29:15.784859Z",
     "shell.execute_reply": "2025-04-24T16:29:15.783856Z",
     "shell.execute_reply.started": "2025-04-24T16:29:15.778919Z"
    },
    "trusted": true
   },
   "outputs": [],
   "source": [
    "standardize_dir = \"/kaggle/working/standardized_images\""
   ]
  },
  {
   "cell_type": "markdown",
   "metadata": {},
   "source": [
    "### Total Image Count Post-Processing\n"
   ]
  },
  {
   "cell_type": "code",
   "execution_count": 39,
   "metadata": {
    "execution": {
     "iopub.execute_input": "2025-05-16T06:29:22.262164Z",
     "iopub.status.busy": "2025-05-16T06:29:22.261763Z",
     "iopub.status.idle": "2025-05-16T06:29:22.275434Z",
     "shell.execute_reply": "2025-05-16T06:29:22.274166Z",
     "shell.execute_reply.started": "2025-05-16T06:29:22.262134Z"
    },
    "trusted": true
   },
   "outputs": [
    {
     "name": "stdout",
     "output_type": "stream",
     "text": [
      "Total images: 10333\n"
     ]
    }
   ],
   "source": [
    "print(f'Total images: {len(os.listdir(standardize_dir))}')"
   ]
  },
  {
   "cell_type": "code",
   "execution_count": null,
   "metadata": {
    "trusted": true
   },
   "outputs": [],
   "source": [
    "output_dir = Path(\"/kaggle/working/output_images\")\n",
    "\n",
    "# Delete the folder if it exists\n",
    "if os.path.exists(output_dir):\n",
    "    shutil.rmtree(output_dir)\n",
    "\n",
    "os.mkdir(output_dir)"
   ]
  },
  {
   "cell_type": "markdown",
   "metadata": {},
   "source": [
    "Function for spliting the dataset"
   ]
  },
  {
   "cell_type": "code",
   "execution_count": 16,
   "metadata": {
    "execution": {
     "iopub.execute_input": "2025-05-16T05:40:20.291965Z",
     "iopub.status.busy": "2025-05-16T05:40:20.291647Z",
     "iopub.status.idle": "2025-05-16T05:40:20.300444Z",
     "shell.execute_reply": "2025-05-16T05:40:20.299522Z",
     "shell.execute_reply.started": "2025-05-16T05:40:20.291946Z"
    },
    "trusted": true
   },
   "outputs": [],
   "source": [
    "def split_train_val_with_sklearn(category_path, train_dir, val_dir, test_size=0.2):\n",
    "    images = [f for f in os.listdir(category_path) if f.lower().endswith(('.png', '.jpg', '.jpeg'))]\n",
    "    if not images:\n",
    "        print(f\"No images found in {category_path}\")\n",
    "        return\n",
    "\n",
    "    # Get category name\n",
    "    category_name = os.path.basename(category_path)\n",
    "\n",
    "    # Paths for that category in train/val\n",
    "    train_category_path = os.path.join(train_dir, category_name)\n",
    "    val_category_path = os.path.join(val_dir, category_name)\n",
    "\n",
    "    # Reset train/val folders for this category\n",
    "    for folder in [train_category_path, val_category_path]:\n",
    "        if os.path.exists(folder):\n",
    "            shutil.rmtree(folder)\n",
    "        os.makedirs(folder, exist_ok=True)\n",
    "\n",
    "    # Split\n",
    "    train_images, val_images = train_test_split(images, test_size=test_size, random_state=42)\n",
    "\n",
    "    # Copy images\n",
    "    for img in train_images:\n",
    "        shutil.copy2(os.path.join(category_path, img), os.path.join(train_category_path, img))\n",
    "    for img in val_images:\n",
    "        shutil.copy2(os.path.join(category_path, img), os.path.join(val_category_path, img))\n",
    "\n",
    "    print(f\"{category_name}: {len(train_images)} train, {len(val_images)} val\")"
   ]
  },
  {
   "cell_type": "markdown",
   "metadata": {},
   "source": [
    "## Task 1: Prepare Output Directory\n",
    "\n",
    "This cell sets up the directory structure for Task 1. It creates a main output folder and specific subfolders for 'all' images (organized by label), 'train', and 'val' sets.\n",
    "\n",
    "- **Purpose**: To create a clean and organized directory hierarchy for storing the data processed for Task 1.\n",
    "- **Why it Matters**: A well-defined directory structure is crucial for managing datasets, especially when dealing with multiple tasks or experiments. It makes data loading for model training (e.g., using Keras' `flow_from_directory`) straightforward."
   ]
  },
  {
   "cell_type": "code",
   "execution_count": 8,
   "metadata": {
    "execution": {
     "iopub.execute_input": "2025-05-16T05:38:36.904938Z",
     "iopub.status.busy": "2025-05-16T05:38:36.904426Z",
     "iopub.status.idle": "2025-05-16T05:38:36.912827Z",
     "shell.execute_reply": "2025-05-16T05:38:36.911556Z",
     "shell.execute_reply.started": "2025-05-16T05:38:36.904894Z"
    },
    "trusted": true
   },
   "outputs": [],
   "source": [
    "output_dir_task_1 = \"/kaggle/working/output_images/Task_1/full\"\n",
    "\n",
    "# Extract the plants variety\n",
    "label_list =  set(MetaImagesDataframe['label'])"
   ]
  },
  {
   "cell_type": "code",
   "execution_count": 9,
   "metadata": {
    "execution": {
     "iopub.execute_input": "2025-05-16T05:38:38.365197Z",
     "iopub.status.busy": "2025-05-16T05:38:38.364407Z",
     "iopub.status.idle": "2025-05-16T05:38:38.369540Z",
     "shell.execute_reply": "2025-05-16T05:38:38.368532Z",
     "shell.execute_reply.started": "2025-05-16T05:38:38.365151Z"
    },
    "trusted": true
   },
   "outputs": [],
   "source": [
    "# Delete the folder if it exists\n",
    "if os.path.exists(output_dir_task_1):\n",
    "    shutil.rmtree(output_dir_task_1)\n",
    "\n",
    "os.mkdir(output_dir_task_1)"
   ]
  },
  {
   "cell_type": "code",
   "execution_count": 12,
   "metadata": {
    "execution": {
     "iopub.execute_input": "2025-05-16T05:39:12.475615Z",
     "iopub.status.busy": "2025-05-16T05:39:12.475270Z",
     "iopub.status.idle": "2025-05-16T05:39:15.237919Z",
     "shell.execute_reply": "2025-05-16T05:39:15.236924Z",
     "shell.execute_reply.started": "2025-05-16T05:39:12.475590Z"
    },
    "trusted": true
   },
   "outputs": [
    {
     "name": "stdout",
     "output_type": "stream",
     "text": [
      "Images has been split by label\n"
     ]
    }
   ],
   "source": [
    "# Create output directories for each category\n",
    "for category in label_list:\n",
    "    category_dir = os.path.join(output_dir_task_1, str(category))\n",
    "    os.makedirs(category_dir, exist_ok=True)\n",
    "\n",
    "# Copy images into the corresponding category folder\n",
    "for _, row in MetaImagesDataframe.iterrows():\n",
    "    image_name = row['image_id']  # Adjust column name if needed\n",
    "    category = row['label']\n",
    "    src_path = os.path.join(standardize_dir, image_name)\n",
    "    dest_path = os.path.join(output_dir_task_1, str(category), image_name)\n",
    "\n",
    "    if os.path.exists(src_path):\n",
    "        shutil.copy(src_path, dest_path)\n",
    "print(\"Images has been split by label\")"
   ]
  },
  {
   "cell_type": "markdown",
   "metadata": {},
   "source": [
    "## Task 1: Visualize Class Distribution\n",
    "\n",
    "This cell calculates and visualizes the number of images per disease label in the `output_dir_task_1_all` directory. This helps in understanding the balance or imbalance of classes in the dataset prepared for Task 1."
   ]
  },
  {
   "cell_type": "code",
   "execution_count": null,
   "metadata": {
    "execution": {
     "iopub.execute_input": "2025-05-16T05:39:41.469458Z",
     "iopub.status.busy": "2025-05-16T05:39:41.469108Z",
     "iopub.status.idle": "2025-05-16T05:39:41.835819Z",
     "shell.execute_reply": "2025-05-16T05:39:41.834846Z",
     "shell.execute_reply.started": "2025-05-16T05:39:41.469435Z"
    },
    "trusted": true
   },
   "outputs": [
    {
     "name": "stdout",
     "output_type": "stream",
     "text": [
      "{'bacterial_leaf_streak', 'bacterial_leaf_blight', 'hispa', 'blast', 'downy_mildew', 'tungro', 'bacterial_panicle_blight', 'brown_spot', 'normal', 'dead_heart'}\n"
     ]
    },
    {
     "data": {
      "image/png": "[encoded data removed]",
      "text/plain": [
       "<Figure size 1000x600 with 1 Axes>"
      ]
     },
     "metadata": {},
     "output_type": "display_data"
    }
   ],
   "source": [
    "dataset_path_task1_all = output_dir_task_1_all\n",
    "print(f\"Visualizing class distribution for Task 1 from: {dataset_path_task1_all}\")\n",
    "\n",
    "task1_data_counts = [] # List to store label and count for plotting\n",
    "# Iterate through each item (expected to be label directories) in the Task 1 'all' dataset path\n",
    "for label_dir_name in sorted(os.listdir(dataset_path_task1_all)): # Sorted for consistent plot order\n",
    "    label_path = os.path.join(dataset_path_task1_all, label_dir_name)\n",
    "    # Check if the item is a directory\n",
    "    if os.path.isdir(label_path):\n",
    "        # Count the number of image files in the label directory\n",
    "        count = len([file for file in os.listdir(label_path) if os.path.isfile(os.path.join(label_path, file)) and file.lower().endswith(('.png', '.jpg', '.jpeg'))])\n",
    "        task1_data_counts.append({\"label\": label_dir_name, \"count\": count})\n",
    "        print(f\"Category: {label_dir_name}, Image Count: {count}\")\n",
    "\n",
    "# Create a DataFrame from the collected counts for Task 1\n",
    "df_counts_task1 = pd.DataFrame(task1_data_counts)\n",
    "\n",
    "if not df_counts_task1.empty:\n",
    "    # Sort by count for potentially better visualization, or keep alphabetical by label\n",
    "    df_counts_task1 = df_counts_task1.sort_values(by='count', ascending=False)\n",
    "\n",
    "    # Create the plot for Task 1\n",
    "    plt.figure(figsize=(10, 6)) # Adjust figure size for better readability\n",
    "    bars = plt.barh(df_counts_task1['label'], df_counts_task1['count'], color='cornflowerblue')\n",
    "\n",
    "    # Add text annotations for each bar\n",
    "    for bar in bars:\n",
    "        width = bar.get_width()\n",
    "        plt.text(width + 5,  # Adjust x-position for text slightly to the right of the bar\n",
    "                 bar.get_y() + bar.get_height()/2,\n",
    "                 f'{width}', \n",
    "                 va='center', \n",
    "                 fontsize=9)\n",
    "\n",
    "    plt.xlabel(\"Number of Images\")\n",
    "    plt.ylabel(\"Disease Label (Task 1)\")\n",
    "    plt.title(\"Distribution of Images per Disease Label (Task 1)\")\n",
    "    # plt.gca().invert_yaxis()  # Optional: Display the category with the highest count at the top\n",
    "    plt.tight_layout() # Adjust layout to prevent labels from overlapping\n",
    "    plt.show()\n",
    "else:\n",
    "    print(\"No data to plot for Task 1 class distribution.\")"
   ]
  },
  {
   "cell_type": "markdown",
   "metadata": {},
   "source": [
    "## Task 1: Split Data into Training and Validation Sets\n",
    "\n",
    "This cell applies a function `split_data_for_task` to divide the images within each disease label folder (located in `output_dir_task_1_all`) into separate training and validation sets. The split ratio is typically 80% for training and 20% for validation.\n",
    "\n",
    "- **Purpose**: To create distinct datasets for training the model and for evaluating its performance on unseen data during development, which helps in tuning hyperparameters and preventing overfitting.\n",
    "- **Why it Matters**: Separating data into training and validation sets is a cornerstone of robust machine learning model development. The model learns from the training set, and its ability to generalize to new, unseen data is assessed using the validation set. This helps in detecting overfitting and guiding model improvements."
   ]
  },
  {
   "cell_type": "code",
   "execution_count": null,
   "metadata": {
    "execution": {
     "iopub.execute_input": "2025-05-16T05:41:02.433538Z",
     "iopub.status.busy": "2025-05-16T05:41:02.433151Z",
     "iopub.status.idle": "2025-05-16T05:41:04.136674Z",
     "shell.execute_reply": "2025-05-16T05:41:04.135787Z",
     "shell.execute_reply.started": "2025-05-16T05:41:02.433514Z"
    },
    "trusted": true
   },
   "outputs": [
    {
     "name": "stdout",
     "output_type": "stream",
     "text": [
      "dead_heart: 1143 train, 286 val\n",
      "tungro: 864 train, 216 val\n",
      "normal: 1399 train, 350 val\n",
      "bacterial_panicle_blight: 268 train, 68 val\n",
      "blast: 1382 train, 346 val\n",
      "bacterial_leaf_streak: 304 train, 76 val\n",
      "brown_spot: 762 train, 191 val\n",
      "bacterial_leaf_blight: 376 train, 95 val\n",
      "downy_mildew: 494 train, 124 val\n",
      "hispa: 1271 train, 318 val\n"
     ]
    }
   ],
   "source": [
    "train_dir = f'/kaggle/working/output_images/Task_1/train'\n",
    "val_dir = f'/kaggle/working/output_images/Task_1/val'\n",
    "\n",
    "for category in os.listdir(output_dir_task_1):\n",
    "    category_path = os.path.join(output_dir_task_1, category)\n",
    "    if os.path.isdir(category_path):\n",
    "        split_train_val_with_sklearn(category_path, train_dir, val_dir, test_size=0.2)"
   ]
  },
  {
   "cell_type": "markdown",
   "metadata": {},
   "source": [
    "## Task 1: Zip Training and Validation Folders\n"
   ]
  },
  {
   "cell_type": "code",
   "execution_count": 33,
   "metadata": {
    "execution": {
     "iopub.execute_input": "2025-05-16T06:12:09.666782Z",
     "iopub.status.busy": "2025-05-16T06:12:09.666342Z",
     "iopub.status.idle": "2025-05-16T06:12:14.413381Z",
     "shell.execute_reply": "2025-05-16T06:12:14.412247Z",
     "shell.execute_reply.started": "2025-05-16T06:12:09.666752Z"
    },
    "trusted": true
   },
   "outputs": [
    {
     "name": "stdout",
     "output_type": "stream",
     "text": [
      "Zipped folders '/kaggle/working/output_images/Task_1/train' and '/kaggle/working/output_images/Task_1/val' into '/kaggle/working/zip_output/task_1_data.zip'\n"
     ]
    }
   ],
   "source": [
    "def zip_two_folders(folder1, folder2, output_zip):\n",
    "    with zipfile.ZipFile(output_zip, 'w', zipfile.ZIP_DEFLATED) as zipf:\n",
    "        # Add folder1\n",
    "        for root, dirs, files in os.walk(folder1):\n",
    "            for file in files:\n",
    "                file_path = os.path.join(root, file)\n",
    "                arcname = os.path.relpath(file_path, os.path.dirname(folder1))\n",
    "                zipf.write(file_path, arcname)\n",
    "        # Add folder2\n",
    "        for root, dirs, files in os.walk(folder2):\n",
    "            for file in files:\n",
    "                file_path = os.path.join(root, file)\n",
    "                arcname = os.path.relpath(file_path, os.path.dirname(folder2))\n",
    "                zipf.write(file_path, arcname)\n",
    "\n",
    "    print(f\"Zipped folders '{folder1}' and '{folder2}' into '{output_zip}'\")\n",
    "\n",
    "\n",
    "output_zip = '/kaggle/working/zip_output/task_1_data.zip'\n",
    "\n",
    "zip_two_folders(train_dir, val_dir, output_zip)"
   ]
  },
  {
   "cell_type": "markdown",
   "metadata": {},
   "source": [
    "# Task 2: Classification by Rice Variety\n",
    "\n",
    "This section focuses on preparing the data for Task 2, which involves classifying rice leaf images based on the rice variety. The process mirrors Task 1 but uses the 'variety' column from the metadata for organization.\n",
    "1.  Prepare an output directory structure for Task 2.\n",
    "2.  Organize images from `standardize_dir` into subfolders named after their respective rice varieties.\n",
    "3.  Visualize the class (variety) distribution.\n",
    "4.  Split the organized data into training and validation sets.\n",
    "5.  Zip the resulting training and validation folders."
   ]
  },
  {
   "cell_type": "markdown",
   "metadata": {},
   "source": [
    "## Task 2: Prepare Output Directory"
   ]
  },
  {
   "cell_type": "code",
   "execution_count": 4,
   "metadata": {
    "execution": {
     "iopub.execute_input": "2025-04-24T17:20:04.251579Z",
     "iopub.status.busy": "2025-04-24T17:20:04.250973Z",
     "iopub.status.idle": "2025-04-24T17:20:04.290230Z",
     "shell.execute_reply": "2025-04-24T17:20:04.289193Z",
     "shell.execute_reply.started": "2025-04-24T17:20:04.251552Z"
    },
    "trusted": true
   },
   "outputs": [],
   "source": [
    "MetaImagesDataframe = pd.read_csv('/kaggle/working/original_data/meta_train.csv')\n",
    "\n",
    "standardize_dir = \"/kaggle/working/standardized_images\"\n",
    "output_dir_task_2 = \"/kaggle/working/output_images/Task_2\"\n",
    "full_dir_task_2 = \"/kaggle/working/output_images/Task_2/full\"\n",
    "train_dir_task_2 = \"/kaggle/working/output_images/Task_2/train\"\n",
    "\n",
    "# Extract the plants variety\n",
    "variety_list =  set(MetaImagesDataframe['variety'])"
   ]
  },
  {
   "cell_type": "code",
   "execution_count": null,
   "metadata": {
    "trusted": true
   },
   "outputs": [],
   "source": [
    "# Delete the folder if it exists\n",
    "if os.path.exists(output_dir_task_2):\n",
    "    shutil.rmtree(output_dir_task_2)\n",
    "\n",
    "os.mkdir(output_dir_task_2)"
   ]
  },
  {
   "cell_type": "markdown",
   "metadata": {},
   "source": [
    "## Task 2: Organize Images by Variety\n",
    "\n",
    "This cell organizes images based on the 'variety' attribute from the `meta_train.csv` file. It creates subdirectories for each unique rice variety within `output_dir_task_2_all` and copies the corresponding images."
   ]
  },
  {
   "cell_type": "code",
   "execution_count": null,
   "metadata": {
    "trusted": true
   },
   "outputs": [],
   "source": [
    "# Create a folder of all images once inside output_dir_task_2\n",
    "full_dir_task_2 = os.path.join(output_dir_task_2, 'full')\n",
    "os.makedirs(full_dir_task_2, exist_ok=True)\n",
    "\n",
    "# Create output directories for each category inside the folder\n",
    "for category in variety_list:\n",
    "    category_dir = os.path.join(full_dir_task_2, str(category))\n",
    "    os.makedirs(category_dir, exist_ok=True)\n",
    "\n",
    "# Copy images into the corresponding category folder\n",
    "for _, row in MetaImagesDataframe.iterrows():\n",
    "    image_name = row['image_id']  # Make sure this matches your column name\n",
    "    category = row['variety']\n",
    "    src_path = os.path.join(standardize_dir, image_name)\n",
    "    dest_path = os.path.join(full_dir_task_2, str(category), image_name)\n",
    "\n",
    "    if os.path.exists(src_path):\n",
    "        shutil.copy(src_path, dest_path)\n",
    "\n",
    "print(\"Images has been split by variety\")"
   ]
  },
  {
   "cell_type": "markdown",
   "metadata": {},
   "source": [
    "## Task 2: Visualize Class (Variety) Distribution\n",
    "This cell calculates and visualizes the number of images per rice variety in the `output_dir_task_2_all` directory. This helps in understanding the balance or imbalance of varieties in the dataset prepared for Task 2."
   ]
  },
  {
   "cell_type": "code",
   "execution_count": 44,
   "metadata": {
    "execution": {
     "iopub.execute_input": "2025-04-24T16:31:33.531819Z",
     "iopub.status.busy": "2025-04-24T16:31:33.531461Z",
     "iopub.status.idle": "2025-04-24T16:31:33.840194Z",
     "shell.execute_reply": "2025-04-24T16:31:33.839070Z",
     "shell.execute_reply.started": "2025-04-24T16:31:33.531799Z"
    },
    "trusted": true
   },
   "outputs": [
    {
     "name": "stdout",
     "output_type": "stream",
     "text": [
      "{'ADT45', 'Zonal', 'Onthanel', 'Surya', 'AtchayaPonni', 'RR', 'IR20', 'KarnatakaPonni', 'Ponni', 'AndraPonni'}\n"
     ]
    },
    {
     "data": {
      "image/png": "[encoded data removed]",
      "text/plain": [
       "<Figure size 1000x600 with 1 Axes>"
      ]
     },
     "metadata": {},
     "output_type": "display_data"
    }
   ],
   "source": [
    "categories = variety_list\n",
    "dataset_path = full_dir_task_2\n",
    "\n",
    "print(categories)\n",
    "\n",
    "data = []\n",
    "for label in os.listdir(dataset_path):\n",
    "    label_path = os.path.join(dataset_path, label)\n",
    "    if os.path.isdir(label_path):\n",
    "        count = len([file for file in os.listdir(label_path) if file.endswith(('.png', '.jpg', '.jpeg'))])\n",
    "        data.append({\"label\": label, \"count\": count})\n",
    "\n",
    "df_counts = pd.DataFrame(data)\n",
    "\n",
    "plt.figure(figsize=(10,6))\n",
    "bars = plt.barh(df_counts['label'], df_counts['count'], color='skyblue')\n",
    "\n",
    "for bar in bars:\n",
    "    width = bar.get_width()\n",
    "    plt.text(width + 10, bar.get_y() + bar.get_height()/2,\n",
    "             str(width), va='center', fontsize=10)\n",
    "\n",
    "plt.xlabel(\"Image counts\")\n",
    "plt.title(\"Image counts in each folder\")\n",
    "plt.gca().invert_yaxis()\n",
    "plt.tight_layout()\n",
    "plt.show()"
   ]
  },
  {
   "cell_type": "markdown",
   "metadata": {},
   "source": [
    "## Task 2: Split Data into Training and Validation Sets\n"
   ]
  },
  {
   "cell_type": "code",
   "execution_count": 15,
   "metadata": {
    "execution": {
     "iopub.execute_input": "2025-04-24T17:26:25.302384Z",
     "iopub.status.busy": "2025-04-24T17:26:25.301962Z",
     "iopub.status.idle": "2025-04-24T17:26:33.048588Z",
     "shell.execute_reply": "2025-04-24T17:26:33.047522Z",
     "shell.execute_reply.started": "2025-04-24T17:26:25.302359Z"
    },
    "trusted": true
   },
   "outputs": [
    {
     "name": "stdout",
     "output_type": "stream",
     "text": [
      "Onthanel: 279 train, 70 val\n",
      "ADT45: 5544 train, 1386 val\n",
      "Ponni: 524 train, 132 val\n",
      "AndraPonni: 300 train, 76 val\n",
      "Zonal: 319 train, 80 val\n",
      "AtchayaPonni: 368 train, 92 val\n",
      "Surya: 25 train, 7 val\n",
      "RR: 28 train, 8 val\n",
      "IR20: 90 train, 23 val\n",
      "KarnatakaPonni: 785 train, 197 val\n"
     ]
    }
   ],
   "source": [
    "train_dir = f'/kaggle/working/output_images/Task_2/train'\n",
    "val_dir = f'/kaggle/working/output_images/Task_2/val'\n",
    "\n",
    "for category in os.listdir(full_dir_task_2):\n",
    "    category_path = os.path.join(full_dir_task_2, category)\n",
    "    if os.path.isdir(category_path):\n",
    "        split_train_val_with_sklearn(category_path, train_dir, val_dir, test_size=0.2)"
   ]
  },
  {
   "cell_type": "markdown",
   "metadata": {},
   "source": [
    "## Task 2: Under and Over Sampling the data\n",
    "Undersampling: using TomekLinks\n",
    "Oversampling: using SMOTE"
   ]
  },
  {
   "cell_type": "code",
   "execution_count": 16,
   "metadata": {
    "execution": {
     "iopub.execute_input": "2025-04-24T17:26:44.801892Z",
     "iopub.status.busy": "2025-04-24T17:26:44.800770Z",
     "iopub.status.idle": "2025-04-24T17:26:44.841209Z",
     "shell.execute_reply": "2025-04-24T17:26:44.840088Z",
     "shell.execute_reply.started": "2025-04-24T17:26:44.801856Z"
    },
    "trusted": true
   },
   "outputs": [
    {
     "name": "stdout",
     "output_type": "stream",
     "text": [
      "                                          image_path  label\n",
      "0  /kaggle/working/output_images/Task_2/train/Ont...      5\n",
      "1  /kaggle/working/output_images/Task_2/train/Ont...      5\n",
      "2  /kaggle/working/output_images/Task_2/train/Ont...      5\n",
      "3  /kaggle/working/output_images/Task_2/train/Ont...      5\n",
      "4  /kaggle/working/output_images/Task_2/train/Ont...      5\n"
     ]
    }
   ],
   "source": [
    "# Prepare data structures\n",
    "image_paths = []\n",
    "labels = []\n",
    "\n",
    "# Iterate through each class folder in the main directory\n",
    "for label in os.listdir(train_dir_task_2):\n",
    "    label_path = os.path.join(train_dir_task_2, label)\n",
    "    \n",
    "    # Ensure we're working with directories (class folders)\n",
    "    if os.path.isdir(label_path):\n",
    "        for img_name in os.listdir(label_path):\n",
    "            if img_name.endswith(('.png', '.jpg', '.jpeg')):\n",
    "                image_paths.append(os.path.join(label_path, img_name))  # Full image path\n",
    "                labels.append(label)  # The folder name is the label\n",
    "\n",
    "# Convert labels to integers\n",
    "label_map = {label: idx for idx, label in enumerate(sorted(set(labels)))}\n",
    "labels_int = [label_map[label] for label in labels]  # Map labels to integers\n",
    "\n",
    "# Create a DataFrame to hold the paths and labels\n",
    "Task2TrainFrame = pd.DataFrame({\n",
    "    'image_path': image_paths,\n",
    "    'label': labels_int\n",
    "})\n",
    "\n",
    "# Check the first few rows of the dataframe\n",
    "print(Task2TrainFrame.head())"
   ]
  },
  {
   "cell_type": "code",
   "execution_count": 17,
   "metadata": {
    "execution": {
     "iopub.execute_input": "2025-04-24T17:26:49.010722Z",
     "iopub.status.busy": "2025-04-24T17:26:49.009611Z",
     "iopub.status.idle": "2025-04-24T17:26:58.928227Z",
     "shell.execute_reply": "2025-04-24T17:26:58.926801Z",
     "shell.execute_reply.started": "2025-04-24T17:26:49.010693Z"
    },
    "scrolled": true,
    "trusted": true
   },
   "outputs": [
    {
     "name": "stdout",
     "output_type": "stream",
     "text": [
      "(8262, 150528)\n"
     ]
    }
   ],
   "source": [
    "# Function to load and preprocess images (No normalization)\n",
    "def load_images(image_paths):\n",
    "    image_data = []\n",
    "    for img_path in image_paths:\n",
    "        img = cv2.imread(img_path)\n",
    "        if img is not None:\n",
    "            img = cv2.cvtColor(img, cv2.COLOR_BGR2RGB)  # Convert right away\n",
    "            img = img.flatten()\n",
    "            image_data.append(img)\n",
    "    return np.array(image_data)\n",
    "\n",
    "\n",
    "# Load images and convert to numerical feature matrix X\n",
    "x_task_2 = load_images(Task2TrainFrame['image_path'])\n",
    "\n",
    "# Labels vector\n",
    "y_task_2 = np.array(Task2TrainFrame['label'])\n",
    "\n",
    "# Check the shape of the feature matrix\n",
    "print(x_task_2.shape)"
   ]
  },
  {
   "cell_type": "code",
   "execution_count": null,
   "metadata": {
    "execution": {
     "iopub.execute_input": "2025-04-24T17:27:08.293128Z",
     "iopub.status.busy": "2025-04-24T17:27:08.292073Z",
     "iopub.status.idle": "2025-04-24T17:30:12.298061Z",
     "shell.execute_reply": "2025-04-24T17:30:12.296559Z",
     "shell.execute_reply.started": "2025-04-24T17:27:08.293095Z"
    },
    "trusted": true
   },
   "outputs": [
    {
     "name": "stdout",
     "output_type": "stream",
     "text": [
      "After Tomek Links: Counter({0: 5538, 4: 785, 6: 524, 2: 368, 9: 319, 1: 300, 5: 279, 3: 90, 7: 28, 8: 25})\n",
      "Label 0: remains at 5538 samples (majority class)\n",
      "Label 1: from 300 ➜ 1812 samples\n",
      "Label 2: from 368 ➜ 2146 samples\n",
      "Label 3: from 90 ➜ 687 samples\n",
      "Label 4: from 785 ➜ 4059 samples\n",
      "Label 5: from 279 ➜ 1707 samples\n",
      "Label 6: from 524 ➜ 2884 samples\n",
      "Label 7: from 28 ➜ 286 samples\n",
      "Label 8: from 25 ➜ 264 samples\n",
      "Label 9: from 319 ➜ 1906 samples\n",
      "After SMOTE: Counter({0: 5538, 4: 4059, 6: 2884, 2: 2146, 9: 1906, 1: 1812, 5: 1707, 3: 687, 7: 286, 8: 264})\n"
     ]
    }
   ],
   "source": [
    "# Step 1: Apply Tomek Links (Undersampling)\n",
    "tomek = TomekLinks(sampling_strategy='majority')\n",
    "X_tomek, y_tomek = tomek.fit_resample(x_task_2, y_task_2)\n",
    "print(f\"After Tomek Links: {Counter(y_tomek)}\")\n",
    "\n",
    "# Step 2: Compute average class size\n",
    "unique, counts = np.unique(y_tomek, return_counts=True)\n",
    "avg_count = int(np.mean(counts))\n",
    "max_count = int(np.max(counts))\n",
    "\n",
    "from math import log\n",
    "\n",
    "sampling_strategy = {}\n",
    "for label, count in zip(unique, counts):\n",
    "    alpha = 4  # Increase this to push counts higher (try 1.1 to 1.5)\n",
    "    if count < max_count:\n",
    "        ratio = log(max_count + 1) / log(count + 1)\n",
    "        target = int(count * ratio * alpha)\n",
    "        sampling_strategy[label] = target\n",
    "        print(f\"Label {label}: from {count} ➜ {target} samples\")\n",
    "    # Majority class\n",
    "    else:\n",
    "        sampling_strategy[label] = count\n",
    "        print(f\"Label {label}: remains at {count} samples (majority class)\")\n",
    "\n",
    "# Step 4: Apply SMOTE (Oversampling)\n",
    "smote = SMOTE(sampling_strategy=sampling_strategy, random_state=42)\n",
    "X_balanced, y_balanced = smote.fit_resample(X_tomek, y_tomek)\n",
    "print(f\"After SMOTE: {Counter(y_balanced)}\")"
   ]
  },
  {
   "cell_type": "code",
   "execution_count": 39,
   "metadata": {
    "execution": {
     "iopub.execute_input": "2025-04-24T18:15:02.231892Z",
     "iopub.status.busy": "2025-04-24T18:15:02.231537Z",
     "iopub.status.idle": "2025-04-24T18:17:44.328183Z",
     "shell.execute_reply": "2025-04-24T18:17:44.326746Z",
     "shell.execute_reply.started": "2025-04-24T18:15:02.231860Z"
    },
    "trusted": true
   },
   "outputs": [
    {
     "name": "stdout",
     "output_type": "stream",
     "text": [
      "After Tomek Links: Counter({0: 5538, 4: 785, 6: 524, 2: 368, 9: 319, 1: 300, 5: 279, 3: 90, 7: 28, 8: 25})\n",
      "Final distribution: Counter({0: 5538, 4: 4059, 6: 2884, 2: 2146, 9: 1906, 1: 1812, 5: 1707, 3: 687, 7: 286, 8: 264})\n",
      "X shape: (21289, 150528)\n"
     ]
    }
   ],
   "source": [
    "# === Step 1: Apply Tomek Links (undersample only majority class) ===\n",
    "tomek = TomekLinks(sampling_strategy='majority')\n",
    "X_tomek, y_tomek = tomek.fit_resample(x_task_2, y_task_2)\n",
    "print(\"After Tomek Links:\", Counter(y_tomek))\n",
    "\n",
    "# === Step 2: Target class counts you want to reach ===\n",
    "target_counts = {0: 5538, 4: 4059, 6: 2884, 2: 2146, 9: 1906,\n",
    "                 1: 1812, 5: 1707, 3: 687, 7: 286, 8: 264}\n",
    "\n",
    "# === Step 3: Duplicate (upsample) to match target counts ===\n",
    "X_final = []\n",
    "y_final = []\n",
    "\n",
    "for label, target in target_counts.items():\n",
    "    # Get all current samples of this class\n",
    "    mask = y_tomek == label\n",
    "    X_class = X_tomek[mask]\n",
    "    y_class = y_tomek[mask]\n",
    "    \n",
    "    current_count = len(X_class)\n",
    "    \n",
    "    if current_count == 0:\n",
    "        print(f\"Warning: No samples for class {label} after Tomek Links.\")\n",
    "        continue\n",
    "\n",
    "    if current_count >= target:\n",
    "        # If already at or above target, truncate\n",
    "        X_final.append(X_class[:target])\n",
    "        y_final.append(y_class[:target])\n",
    "    else:\n",
    "        # Need to duplicate samples\n",
    "        reps = target // current_count\n",
    "        remainder = target % current_count\n",
    "\n",
    "        # Repeat and then add some extra random samples\n",
    "        X_upsampled = np.concatenate([X_class] * reps + [X_class[:remainder]])\n",
    "        y_upsampled = np.array([label] * len(X_upsampled))\n",
    "\n",
    "        X_final.append(X_upsampled)\n",
    "        y_final.append(y_upsampled)\n",
    "\n",
    "# === Step 4: Combine all classes ===\n",
    "X_balanced = np.concatenate(X_final, axis=0)\n",
    "y_balanced = np.concatenate(y_final, axis=0)\n",
    "\n",
    "# Final check\n",
    "print(\"Final distribution:\", Counter(y_balanced))\n",
    "print(\"X shape:\", X_balanced.shape)"
   ]
  },
  {
   "cell_type": "code",
   "execution_count": 40,
   "metadata": {
    "execution": {
     "iopub.execute_input": "2025-04-24T18:17:59.352519Z",
     "iopub.status.busy": "2025-04-24T18:17:59.351569Z",
     "iopub.status.idle": "2025-04-24T18:17:59.606005Z",
     "shell.execute_reply": "2025-04-24T18:17:59.604658Z",
     "shell.execute_reply.started": "2025-04-24T18:17:59.352486Z"
    },
    "trusted": true
   },
   "outputs": [
    {
     "data": {
      "image/png": "[encoded data removed]",
      "text/plain": [
       "<Figure size 800x500 with 1 Axes>"
      ]
     },
     "metadata": {},
     "output_type": "display_data"
    }
   ],
   "source": [
    "reverse_label_map = {v: k for k, v in label_map.items()}\n",
    "\n",
    "# Example Counter object (after label encoding)\n",
    "image_counts = Counter(y_balanced)\n",
    "\n",
    "# Decode integer labels back to class names\n",
    "class_names = [reverse_label_map[label] for label in image_counts.keys()]\n",
    "counts = list(image_counts.values())\n",
    "\n",
    "# Create the bar plot\n",
    "plt.figure(figsize=(8, 5))\n",
    "bars = plt.barh(class_names, counts, color='skyblue')\n",
    "for bar in bars:\n",
    "    width = bar.get_width()\n",
    "    plt.text(width + 10, bar.get_y() + bar.get_height()/2,\n",
    "             str(width), va='center', fontsize=10)\n",
    "plt.xlabel('Class')\n",
    "plt.ylabel('Number of Images')\n",
    "plt.title('Image Count per Class')\n",
    "plt.xticks(rotation=45)\n",
    "plt.tight_layout()\n",
    "plt.show()"
   ]
  },
  {
   "cell_type": "code",
   "execution_count": 41,
   "metadata": {
    "execution": {
     "iopub.execute_input": "2025-04-24T18:18:29.243584Z",
     "iopub.status.busy": "2025-04-24T18:18:29.243175Z",
     "iopub.status.idle": "2025-04-24T18:18:43.206312Z",
     "shell.execute_reply": "2025-04-24T18:18:43.205376Z",
     "shell.execute_reply.started": "2025-04-24T18:18:29.243556Z"
    },
    "scrolled": true,
    "trusted": true
   },
   "outputs": [],
   "source": [
    "reverse_label_map = {v: k for k, v in label_map.items()}\n",
    "\n",
    "# Reset the current trainning folder\n",
    "if os.path.exists(train_dir_task_2):\n",
    "    shutil.rmtree(train_dir_task_2)\n",
    "os.mkdir(train_dir_task_2)\n",
    "\n",
    "# Replacing the folder with new images\n",
    "for i in range(len(X_balanced)):\n",
    "    cleaned_img = X_balanced[i].reshape(224, 224, 3).astype(np.uint8)\n",
    "    cleaned_img_pil = Image.fromarray(cleaned_img)\n",
    "\n",
    "    # Get class label name\n",
    "    label_name = reverse_label_map[y_balanced[i]]\n",
    "\n",
    "    # Create destination folder\n",
    "    label_train_dir = os.path.join(train_dir_task_2, label_name)\n",
    "    os.makedirs(label_train_dir, exist_ok=True)\n",
    "    \n",
    "    # Save image\n",
    "    label_train_dir = os.path.join(train_dir_task_2, label_name)\n",
    "    \n",
    "    # Save image with a unique filename\n",
    "    filename = f\"task2_{i}.jpg\"\n",
    "    cleaned_img_pil.save(os.path.join(label_train_dir, filename))"
   ]
  },
  {
   "cell_type": "markdown",
   "metadata": {},
   "source": [
    "## Task 2: Zip Training and Validation Folders"
   ]
  },
  {
   "cell_type": "code",
   "execution_count": null,
   "metadata": {},
   "outputs": [],
   "source": [
    "# Define the output zip file name for Task 2 data\n",
    "task_2_output_zip = zip_output_dir / \"task_2_data.zip\"\n",
    "\n",
    "# Call the function to zip the Task 2 directory\n",
    "# task_2_base_dir was defined as /kaggle/working/output_images/Task_2\n",
    "if os.path.isdir(task_2_base_dir):\n",
    "    zip_folder_contents(task_2_base_dir, task_2_output_zip)\n",
    "else:\n",
    "    print(f\"Error: Task 2 base directory ({task_2_base_dir}) not found. Skipping zipping.\")"
   ]
  },
  {
   "cell_type": "markdown",
   "metadata": {},
   "source": [
    "# Task 3: Classification by Leaf Age\n",
    "\n",
    "This section handles data preparation for Task 3: classifying rice leaf images by the age of the leaf. The structure follows that of Tasks 1 and 2, using the 'age' column from the metadata.\n",
    "1.  Prepare an output directory structure for Task 3.\n",
    "2.  Organize images from `standardize_dir` into subfolders named after their respective leaf ages.\n",
    "3.  Visualize the class (age) distribution.\n",
    "4.  Split the organized data into training and validation sets.\n",
    "5.  Zip the resulting training and validation folders."
   ]
  },
  {
   "cell_type": "markdown",
   "metadata": {},
   "source": [
    "## Task 3: Prepare Output Directory\n"
   ]
  },
  {
   "cell_type": "code",
   "execution_count": 25,
   "metadata": {
    "execution": {
     "iopub.execute_input": "2025-05-16T06:04:33.165603Z",
     "iopub.status.busy": "2025-05-16T06:04:33.165279Z",
     "iopub.status.idle": "2025-05-16T06:04:33.170659Z",
     "shell.execute_reply": "2025-05-16T06:04:33.169649Z",
     "shell.execute_reply.started": "2025-05-16T06:04:33.165584Z"
    },
    "trusted": true
   },
   "outputs": [],
   "source": [
    "output_dir_task_3 = \"/kaggle/working/output_images/Task_3/full\""
   ]
  },
  {
   "cell_type": "code",
   "execution_count": 26,
   "metadata": {
    "execution": {
     "iopub.execute_input": "2025-05-16T06:04:39.005531Z",
     "iopub.status.busy": "2025-05-16T06:04:39.005199Z",
     "iopub.status.idle": "2025-05-16T06:04:39.370578Z",
     "shell.execute_reply": "2025-05-16T06:04:39.369326Z",
     "shell.execute_reply.started": "2025-05-16T06:04:39.005509Z"
    },
    "trusted": true
   },
   "outputs": [],
   "source": [
    "# Delete the folder if it exists\n",
    "if os.path.exists(output_dir_task_3):\n",
    "    shutil.rmtree(output_dir_task_3)\n",
    "\n",
    "os.mkdir(output_dir_task_3)"
   ]
  },
  {
   "cell_type": "markdown",
   "metadata": {},
   "source": [
    "## Task 3: Organize Images by Leaf Age\n",
    "\n",
    "This cell organizes images based on the 'age' attribute from `meta_train.csv`. It creates subdirectories for each unique leaf age within `output_dir_task_3_all` and copies the images accordingly.\n"
   ]
  },
  {
   "cell_type": "code",
   "execution_count": 27,
   "metadata": {
    "execution": {
     "iopub.execute_input": "2025-05-16T06:04:43.864716Z",
     "iopub.status.busy": "2025-05-16T06:04:43.864369Z",
     "iopub.status.idle": "2025-05-16T06:04:46.722567Z",
     "shell.execute_reply": "2025-05-16T06:04:46.720759Z",
     "shell.execute_reply.started": "2025-05-16T06:04:43.864696Z"
    },
    "trusted": true
   },
   "outputs": [
    {
     "name": "stdout",
     "output_type": "stream",
     "text": [
      "Images copied to single folder for regression task. Task3AgeFrame created.\n"
     ]
    }
   ],
   "source": [
    "# Create list to store image-age mappings\n",
    "task3_data = []\n",
    "\n",
    "# Copy images into the output folder and build mapping DataFrame\n",
    "for _, row in MetaImagesDataframe.iterrows():\n",
    "    image_name = row['image_id']\n",
    "    age = row['age']\n",
    "    \n",
    "    src_path = os.path.join(standardize_dir, image_name)\n",
    "    dest_path = os.path.join(output_dir_task_3, image_name)\n",
    "\n",
    "    if os.path.exists(src_path):\n",
    "        shutil.copy(src_path, dest_path)\n",
    "        task3_data.append({\"image_id\": image_name, \"age\": age})\n",
    "\n",
    "# Create the mapping DataFrame\n",
    "Task3AgeFrame = pd.DataFrame(task3_data)\n",
    "print(\"Images copied to single folder for regression task. Task3AgeFrame created.\")"
   ]
  },
  {
   "cell_type": "markdown",
   "metadata": {},
   "source": [
    "## Task 3: Visualize Class (Leaf Age) Distribution\n"
   ]
  },
  {
   "cell_type": "code",
   "execution_count": 28,
   "metadata": {
    "execution": {
     "iopub.execute_input": "2025-05-16T06:04:50.449614Z",
     "iopub.status.busy": "2025-05-16T06:04:50.449224Z",
     "iopub.status.idle": "2025-05-16T06:04:51.817406Z",
     "shell.execute_reply": "2025-05-16T06:04:51.816064Z",
     "shell.execute_reply.started": "2025-05-16T06:04:50.449586Z"
    },
    "trusted": true
   },
   "outputs": [
    {
     "name": "stderr",
     "output_type": "stream",
     "text": [
      "/usr/local/lib/python3.11/dist-packages/seaborn/_oldcore.py:1119: FutureWarning: use_inf_as_na option is deprecated and will be removed in a future version. Convert inf values to NaN before operating instead.\n",
      "  with pd.option_context('mode.use_inf_as_na', True):\n",
      "/usr/local/lib/python3.11/dist-packages/seaborn/_oldcore.py:1119: FutureWarning: use_inf_as_na option is deprecated and will be removed in a future version. Convert inf values to NaN before operating instead.\n",
      "  with pd.option_context('mode.use_inf_as_na', True):\n"
     ]
    },
    {
     "data": {
      "image/png": "[encoded data removed]",
      "text/plain": [
       "<Figure size 900x700 with 4 Axes>"
      ]
     },
     "metadata": {},
     "output_type": "display_data"
    }
   ],
   "source": [
    "#Create a 2x2 grid of subplots for different visualizations of the age distribution\n",
    "fig, axes = plt.subplots(2, 2, figsize=(9, 7))  # 2 rows, 2 columns of plots\n",
    "\n",
    "# 1. Histogram with KDE (Kernel Density Estimate) overlay\n",
    "# Shows the frequency distribution of ages with a smoothed density curve\n",
    "sns.histplot(\n",
    "    Task3AgeFrame['age'],\n",
    "    bins=30,                # Number of bins (bars)\n",
    "    kde=True,               # Add density curve\n",
    "    color='lightgreen',     # Bar color\n",
    "    edgecolor='black',      # Bar outline color\n",
    "    ax=axes[0, 0]           # Place in top-left position\n",
    ")\n",
    "axes[0, 0].set_title(\"Age Distribution of Training Set\")\n",
    "axes[0, 0].set_xlabel(\"Age (days)\")\n",
    "axes[0, 0].set_ylabel(\"Frequency\")\n",
    "\n",
    "# 2. Violin plot\n",
    "# Shows distribution shape, with width indicating density at each age value\n",
    "sns.violinplot(\n",
    "    x=Task3AgeFrame['age'],\n",
    "    color='lightblue',\n",
    "    ax=axes[0, 1]           # Place in top-right position\n",
    ")\n",
    "axes[0, 1].set_title(\"Violin Plot of Age Distribution\")\n",
    "axes[0, 1].set_xlabel(\"Age (days)\")\n",
    "\n",
    "# 3. Density plot (KDE)\n",
    "# Shows the probability density function of the age distribution\n",
    "sns.kdeplot(\n",
    "    Task3AgeFrame['age'],\n",
    "    fill=True,              # Fill area under the curve\n",
    "    color='purple',\n",
    "    ax=axes[1, 0]           # Place in bottom-left position\n",
    ")\n",
    "axes[1, 0].set_title(\"Density Plot of Age Distribution\")\n",
    "axes[1, 0].set_xlabel(\"Age (days)\")\n",
    "axes[1, 0].set_ylabel(\"Density\")\n",
    "\n",
    "# 4. Boxplot\n",
    "# Shows median, quartiles, and potential outliers\n",
    "sns.boxplot(\n",
    "    x=Task3AgeFrame['age'],\n",
    "    color='lightblue',\n",
    "    ax=axes[1, 1]           # Place in bottom-right position\n",
    ")\n",
    "axes[1, 1].set_title(\"Boxplot of Age Distribution\")\n",
    "axes[1, 1].set_xlabel(\"Age (days)\")\n",
    "\n",
    "# Adjust layout to prevent overlap\n",
    "plt.tight_layout()\n",
    "plt.show()  # Display all plots"
   ]
  },
  {
   "cell_type": "markdown",
   "metadata": {},
   "source": [
    "Age distributions are heavily skewed with missing data, very hard to apply any normal samping techniques"
   ]
  },
  {
   "cell_type": "code",
   "execution_count": 29,
   "metadata": {
    "execution": {
     "iopub.execute_input": "2025-05-16T06:05:00.534926Z",
     "iopub.status.busy": "2025-05-16T06:05:00.534533Z",
     "iopub.status.idle": "2025-05-16T06:05:00.952241Z",
     "shell.execute_reply": "2025-05-16T06:05:00.950449Z",
     "shell.execute_reply.started": "2025-05-16T06:05:00.534900Z"
    },
    "trusted": true
   },
   "outputs": [
    {
     "name": "stderr",
     "output_type": "stream",
     "text": [
      "/usr/local/lib/python3.11/dist-packages/seaborn/_oldcore.py:1119: FutureWarning: use_inf_as_na option is deprecated and will be removed in a future version. Convert inf values to NaN before operating instead.\n",
      "  with pd.option_context('mode.use_inf_as_na', True):\n"
     ]
    },
    {
     "data": {
      "image/png": "[encoded data removed]",
      "text/plain": [
       "<Figure size 800x500 with 1 Axes>"
      ]
     },
     "metadata": {},
     "output_type": "display_data"
    }
   ],
   "source": [
    "import matplotlib.pyplot as plt\n",
    "import seaborn as sns\n",
    "\n",
    "# Assuming your labels are in a variable called `ages`\n",
    "plt.figure(figsize=(8, 5))\n",
    "sns.histplot(Task3AgeFrame['age'], kde=True, bins=30)\n",
    "plt.title(\"Age Distribution\")\n",
    "plt.xlabel(\"Age\")\n",
    "plt.ylabel(\"Frequency\")\n",
    "plt.show()"
   ]
  },
  {
   "cell_type": "code",
   "execution_count": 52,
   "metadata": {
    "execution": {
     "iopub.execute_input": "2025-04-24T18:28:18.233566Z",
     "iopub.status.busy": "2025-04-24T18:28:18.233139Z",
     "iopub.status.idle": "2025-04-24T18:28:18.248630Z",
     "shell.execute_reply": "2025-04-24T18:28:18.247308Z",
     "shell.execute_reply.started": "2025-04-24T18:28:18.233537Z"
    },
    "trusted": true
   },
   "outputs": [
    {
     "name": "stdout",
     "output_type": "stream",
     "text": [
      "Basic Age Statistics:\n",
      "Mean: 64.04\n",
      "Std: 8.96\n",
      "Min: 45\n",
      "Max: 82\n",
      "Skew: -0.59\n"
     ]
    }
   ],
   "source": [
    "import numpy as np\n",
    "import pandas as pd\n",
    "from scipy.stats import skew  # More reliable for skewness\n",
    "\n",
    "ages = Task3AgeFrame['age']  # Use Series instead of DataFrame with double brackets\n",
    "\n",
    "print(\"Basic Age Statistics:\")\n",
    "print(f\"Mean: {ages.mean():.2f}\")\n",
    "print(f\"Std: {ages.std():.2f}\")\n",
    "print(f\"Min: {ages.min()}\")\n",
    "print(f\"Max: {ages.max()}\")\n",
    "print(f\"Skew: {skew(ages):.2f}\")  # Now using scipy.stats.skew"
   ]
  },
  {
   "cell_type": "markdown",
   "metadata": {},
   "source": [
    "## Task 3: Split Data into Training and Validation Sets\n"
   ]
  },
  {
   "cell_type": "code",
   "execution_count": null,
   "metadata": {
    "execution": {
     "iopub.execute_input": "2025-04-24T18:45:35.441628Z",
     "iopub.status.busy": "2025-04-24T18:45:35.440661Z",
     "iopub.status.idle": "2025-04-24T18:45:37.386991Z",
     "shell.execute_reply": "2025-04-24T18:45:37.385489Z",
     "shell.execute_reply.started": "2025-04-24T18:45:35.441584Z"
    },
    "trusted": true
   },
   "outputs": [
    {
     "name": "stdout",
     "output_type": "stream",
     "text": [
      "full: 8266 train, 2067 val\n"
     ]
    }
   ],
   "source": [
    "train_dir = f'/kaggle/working/output_images/Task_3/train'\n",
    "val_dir = f'/kaggle/working/output_images/Task_3/val'\n",
    "\n",
    "split_train_val_with_sklearn(full_dir_task_3, train_dir, val_dir, test_size=0.2)"
   ]
  },
  {
   "cell_type": "markdown",
   "metadata": {},
   "source": [
    "## Task 3: Zip Training and Validation Folders\n"
   ]
  },
  {
   "cell_type": "code",
   "execution_count": 32,
   "metadata": {
    "execution": {
     "iopub.execute_input": "2025-05-16T06:09:22.170168Z",
     "iopub.status.busy": "2025-05-16T06:09:22.169658Z",
     "iopub.status.idle": "2025-05-16T06:09:26.936225Z",
     "shell.execute_reply": "2025-05-16T06:09:26.935065Z",
     "shell.execute_reply.started": "2025-05-16T06:09:22.170126Z"
    },
    "trusted": true
   },
   "outputs": [
    {
     "data": {
      "text/plain": [
       "'/kaggle/working/zip_output/task_3_data.zip'"
      ]
     },
     "execution_count": 32,
     "metadata": {},
     "output_type": "execute_result"
    }
   ],
   "source": [
    "# Replace with your actual folder and output zip path\n",
    "folder_to_zip = '/kaggle/working/output_images/Task_3/full'\n",
    "output_zip = 'zip_output/task_3_data.zip'\n",
    "\n",
    "shutil.make_archive(output_zip.replace('.zip', ''), 'zip', folder_to_zip)"
   ]
  },
  {
   "cell_type": "markdown",
   "metadata": {},
   "source": [
    "## Save Processed Metadata"
   ]
  },
  {
   "cell_type": "code",
   "execution_count": 31,
   "metadata": {
    "execution": {
     "iopub.execute_input": "2025-05-16T06:08:24.990742Z",
     "iopub.status.busy": "2025-05-16T06:08:24.990384Z",
     "iopub.status.idle": "2025-05-16T06:08:25.015270Z",
     "shell.execute_reply": "2025-05-16T06:08:25.014076Z",
     "shell.execute_reply.started": "2025-05-16T06:08:24.990721Z"
    },
    "trusted": true
   },
   "outputs": [
    {
     "name": "stdout",
     "output_type": "stream",
     "text": [
      "DataFrame saved to /kaggle/working/output_images/Task_3/task_3_metadata.csv\n"
     ]
    }
   ],
   "source": [
    "# Save to CSV\n",
    "csv_path = '/kaggle/working/output_images/Task_3/task_3_metadata.csv'\n",
    "Task3AgeFrame.to_csv(csv_path, index=False)\n",
    "\n",
    "print(f\"DataFrame saved to {csv_path}\")"
   ]
  },
  {
   "cell_type": "markdown",
   "metadata": {},
   "source": [
    "## Conclusion\n",
    "\n",
    "This notebook has performed the following key steps:\n",
    "1.  **Environment Setup**: Installed necessary libraries with specific versions.\n",
    "2.  **Data Acquisition**: Downloaded the main image dataset and its metadata.\n",
    "3.  **Data Cleaning**: Checked for missing metadata and removed duplicate/corrupted images from a consolidated image folder.\n",
    "4.  **Data Preprocessing**: Standardized all images (resize, convert to RGB, normalize, blur).\n",
    "5.  **Task-Specific Preparation (Tasks 1, 2, and 3)**:\n",
    "    a.  Created dedicated output directories.\n",
    "    b.  Organized images into subfolders based on task-specific criteria (disease label, rice variety, leaf age).\n",
    "    c.  Visualized class distributions for each task.\n",
    "    d.  Split the data into training (80%) and validation (20%) sets for each task.\n",
    "    e.  Zipped the final `train` and `val` folders for each task into `task_1_data.zip`, `task_2_data.zip`, and `task_3_data.zip` respectively, located in the `/kaggle/working/zip_output/` directory.\n",
    "6.  **Metadata Saving**: Optionally saved the processed metadata.\n",
    "\n",
    "The resulting zip files contain the prepared datasets ready for model training for each of the three classification tasks."
   ]
  }
 ],
 "metadata": {
  "kaggle": {
   "accelerator": "none",
   "dataSources": [],
   "dockerImageVersionId": 31012,
   "isGpuEnabled": false,
   "isInternetEnabled": true,
   "language": "python",
   "sourceType": "notebook"
  },
  "kernelspec": {
   "display_name": "Python 3",
   "language": "python",
   "name": "python3"
  },
  "language_info": {
   "codemirror_mode": {
    "name": "ipython",
    "version": 3
   },
   "file_extension": ".py",
   "mimetype": "text/x-python",
   "name": "python",
   "nbconvert_exporter": "python",
   "pygments_lexer": "ipython3",
   "version": "3.11.11"
  }
 },
 "nbformat": 4,
 "nbformat_minor": 4
}
