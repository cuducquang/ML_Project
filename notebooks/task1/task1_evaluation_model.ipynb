{
 "cells": [
  {
   "cell_type": "markdown",
   "id": "e182c503",
   "metadata": {},
   "source": [
    "# From task1_customCNN and task1_resNet50, we have the result:"
   ]
  },
  {
   "cell_type": "markdown",
   "id": "c180106e",
   "metadata": {},
   "source": [
    "## Model Comparison: resNet50 vs custom CNN (Task 1)\n",
    "\n",
    "| Model        | Best Val Accuracy | Best Val Loss | Final Train Accuracy | Final Train Loss | Training Time per Epoch |\n",
    "|--------------|-------------------|---------------|-----------------------|------------------|--------------------------|\n",
    "| **custom CNN**  | 0.9174            | 0.2804        | 0.9154                | 0.2535           | 447ms/step               |\n",
    "| **resNet50**    | **0.9282**      | **0.2413**    | **0.9378**            | **0.1915**       | **393ms/step**           |\n",
    "\n",
    "### Evaluation\n",
    "\n",
    "The comparison between **ResNet50** and the **custom CNN** reveals several key performance differences:\n",
    "\n",
    "- **Accuracy**: ResNet50 outperforms custom CNN with a best validation accuracy of **92.82%** compared to 91.74%, and final training accuracy of **93.78%** versus 91.54%.\n",
    "- **Loss**: ResNet50 also yields lower loss both in validation (**0.2413**) and training (**0.1915**), indicating better generalization and learning capability.\n",
    "- **Training Efficiency**: ResNet50 trains faster with **393ms/step** compared to **447ms/step** for the custom CNN, despite its deeper architecture.\n",
    "\n",
    "While the custom CNN shows decent results, it lags behind ResNet50 in every key metric.\n",
    "\n",
    "---\n",
    "\n",
    "### Ultimate Judgement\n",
    "\n",
    "-> **ResNet50 is selected as the final model for Task 1** due to its superior validation accuracy, lower loss, and faster training speed.  \n",
    "Its consistent performance across training and validation metrics makes it the most reliable architecture for rice disease classification in this project.\n",
    "\n",
    "\n",
    "\n"
   ]
  }
 ],
 "metadata": {
  "language_info": {
   "name": "python"
  }
 },
 "nbformat": 4,
 "nbformat_minor": 5
}
