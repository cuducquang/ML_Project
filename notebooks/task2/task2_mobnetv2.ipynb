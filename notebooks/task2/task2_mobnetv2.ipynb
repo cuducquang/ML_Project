{
 "cells": [
  {
   "cell_type": "markdown",
   "metadata": {},
   "source": [
    "# Task 2 - Paddy Variety Classification using MobileNetV2"
   ]
  },
  {
   "cell_type": "markdown",
   "metadata": {},
   "source": [
    "## Importing Required Libraries"
   ]
  },
  {
   "cell_type": "code",
   "execution_count": null,
   "metadata": {
    "execution": {
     "iopub.execute_input": "2025-05-11T15:12:32.694435Z",
     "iopub.status.busy": "2025-05-11T15:12:32.693778Z",
     "iopub.status.idle": "2025-05-11T15:12:57.275990Z",
     "shell.execute_reply": "2025-05-11T15:12:57.275432Z",
     "shell.execute_reply.started": "2025-05-11T15:12:32.694406Z"
    },
    "trusted": true
   },
   "outputs": [
    {
     "name": "stderr",
     "output_type": "stream",
     "text": [
      "2025-05-11 15:12:40.639883: E external/local_xla/xla/stream_executor/cuda/cuda_fft.cc:477] Unable to register cuFFT factory: Attempting to register factory for plugin cuFFT when one has already been registered\n",
      "WARNING: All log messages before absl::InitializeLog() is called are written to STDERR\n",
      "E0000 00:00:1746976361.039792      31 cuda_dnn.cc:8310] Unable to register cuDNN factory: Attempting to register factory for plugin cuDNN when one has already been registered\n",
      "E0000 00:00:1746976361.155344      31 cuda_blas.cc:1418] Unable to register cuBLAS factory: Attempting to register factory for plugin cuBLAS when one has already been registered\n"
     ]
    }
   ],
   "source": [
    "import os\n",
    "import pandas as pd\n",
    "import matplotlib.pyplot as plt\n",
    "from PIL import Image\n",
    "import numpy as np\n",
    "from tensorflow.keras.applications import MobileNetV2\n",
    "from tensorflow.keras.models import Model\n",
    "from tensorflow.keras.layers import Dense, Dropout, GlobalAveragePooling2D, Flatten, Activation, BatchNormalization\n",
    "from tensorflow.keras.optimizers import Adam\n",
    "from tensorflow.keras.callbacks import EarlyStopping, ReduceLROnPlateau\n",
    "from tensorflow.keras.preprocessing.image import ImageDataGenerator\n",
    "from keras_tuner import HyperParameters\n",
    "import keras_tuner as kt\n",
    "from tensorflow import keras\n",
    "import tensorflow as tf"
   ]
  },
  {
   "cell_type": "markdown",
   "metadata": {},
   "source": [
    "## Data Augmentation\n",
    "- Use `ImageDataGenerator` for data augmentation with techniques like rotation, zoom, brightness adjustment, and horizontal flipping.  \n",
    "- Rescale validation data without applying augmentation.  "
   ]
  },
  {
   "cell_type": "code",
   "execution_count": null,
   "metadata": {
    "execution": {
     "iopub.execute_input": "2025-05-11T15:12:57.277093Z",
     "iopub.status.busy": "2025-05-11T15:12:57.276600Z",
     "iopub.status.idle": "2025-05-11T15:13:09.450981Z",
     "shell.execute_reply": "2025-05-11T15:13:09.450428Z",
     "shell.execute_reply.started": "2025-05-11T15:12:57.277072Z"
    },
    "trusted": true
   },
   "outputs": [
    {
     "name": "stdout",
     "output_type": "stream",
     "text": [
      "Found 21289 images belonging to 10 classes.\n",
      "Found 2071 images belonging to 10 classes.\n"
     ]
    }
   ],
   "source": [
    "# Define directories for training and validation datasets\n",
    "train_dir = '/kaggle/input/task2_tomek_smote/train'\n",
    "val_dir = '/kaggle/input/task2_tomek_smote/val'\n",
    "\n",
    "# Data augmentation for training dataset\n",
    "train_datagen = ImageDataGenerator(\n",
    "    rescale=1.0/255.0,\n",
    "    rotation_range=10,\n",
    "    width_shift_range=0.05,\n",
    "    height_shift_range=0.05,\n",
    "    zoom_range=0.1,\n",
    "    horizontal_flip=True,\n",
    "    brightness_range=[0.8, 1.2],\n",
    "    fill_mode='nearest'\n",
    ")\n",
    "\n",
    "# Training data generator\n",
    "train_generator = train_datagen.flow_from_directory(\n",
    "    directory=train_dir,\n",
    "    target_size=(224, 224),\n",
    "    batch_size=32,\n",
    "    class_mode='categorical'\n",
    ")\n",
    "\n",
    "# Rescaling for validation dataset\n",
    "val_test_datagen = ImageDataGenerator(rescale=1.0/255.0)\n",
    "\n",
    "# Validation data generator\n",
    "val_generator = val_test_datagen.flow_from_directory(\n",
    "    directory=val_dir,\n",
    "    target_size=(224, 224),\n",
    "    batch_size=64,\n",
    "    class_mode='categorical'\n",
    ")\n",
    "\n",
    "# Fetch a batch of training data\n",
    "x_batch, y_batch = next(train_generator)"
   ]
  },
  {
   "cell_type": "markdown",
   "metadata": {},
   "source": [
    "## Model Building\n",
    "The `custom_mobnetv2` function is defined to build a MobileNetV2-based deep learning model for multi-class classification. Key features of the model include:\n",
    "- **Base Architecture**: MobileNetV2 is used as the backbone, initialized without pre-trained weights to allow training from scratch.\n",
    "- **Global Average Pooling**: The output of the base model is passed through a global average pooling layer to reduce dimensionality.\n",
    "- **Dense Blocks**: Two fully connected (dense) layers are added, with tunable hyperparameters for:\n",
    "    - The number of units in each layer.\n",
    "    - Dropout rates to prevent overfitting.\n",
    "    - Batch normalization and ReLU activation for improved training stability and non-linearity.\n",
    "- **Output Layer**: A softmax-activated dense layer is used to predict probabilities for each class.\n",
    "- **Compilation**: The model is compiled with the Adam optimizer, categorical crossentropy loss, and accuracy as the evaluation metric.\n",
    "\n",
    "Additionally, callbacks and the Keras Tuner are employed to enhance training efficiency and model performance:\n",
    "- **Early Stopping**: Implemented to monitor validation accuracy and stop training when it stops improving, restoring the best weights to prevent overfitting.  \n",
    "- **Learning Rate Reduction**: A callback to reduce the learning rate when the validation loss plateaus, improving convergence.  \n",
    "- **Hyperparameter Tuning**: Keras Tuner's Bayesian Optimization is used to search for the best hyperparameters, optimizing validation accuracy over multiple trials.  "
   ]
  },
  {
   "cell_type": "code",
   "execution_count": null,
   "metadata": {
    "execution": {
     "iopub.execute_input": "2025-05-11T15:13:09.452989Z",
     "iopub.status.busy": "2025-05-11T15:13:09.452702Z",
     "iopub.status.idle": "2025-05-11T15:13:14.288300Z",
     "shell.execute_reply": "2025-05-11T15:13:14.287586Z",
     "shell.execute_reply.started": "2025-05-11T15:13:09.452971Z"
    },
    "trusted": true
   },
   "outputs": [
    {
     "name": "stderr",
     "output_type": "stream",
     "text": [
      "I0000 00:00:1746976391.912919      31 gpu_device.cc:2022] Created device /job:localhost/replica:0/task:0/device:GPU:0 with 13942 MB memory:  -> device: 0, name: Tesla T4, pci bus id: 0000:00:04.0, compute capability: 7.5\n",
      "I0000 00:00:1746976391.913594      31 gpu_device.cc:2022] Created device /job:localhost/replica:0/task:0/device:GPU:1 with 13942 MB memory:  -> device: 1, name: Tesla T4, pci bus id: 0000:00:05.0, compute capability: 7.5\n"
     ]
    }
   ],
   "source": [
    "def custom_mobnetv2(hp):\n",
    "    \"\"\"\n",
    "    Constructs a MobileNetV2 model with tunable hyperparameters.\n",
    "    Args:\n",
    "        hp: Keras Tuner HyperParameters object for hyperparameter tuning.\n",
    "    Returns:\n",
    "        model: A compiled Keras model ready for training.\n",
    "    \"\"\"\n",
    "    base_model = MobileNetV2(\n",
    "        weights=None,  # Train from scratch\n",
    "        include_top=False,\n",
    "        input_shape=(224, 224, 3)\n",
    "    )\n",
    "\n",
    "    x = base_model.output\n",
    "    x = GlobalAveragePooling2D()(x)\n",
    "\n",
    "    # Dense Block 1\n",
    "    x = Dense(hp.Int('dense1_units', min_value=256, max_value=1024, step=256))(x)\n",
    "    x = BatchNormalization()(x)\n",
    "    x = Activation('relu')(x)\n",
    "    x = Dropout(hp.Float('dropout_rate1', min_value=0.2, max_value=0.5, step=0.1))(x)\n",
    "\n",
    "    # Dense Block 2\n",
    "    x = Dense(hp.Int('dense2_units', min_value=128, max_value=512, step=64))(x)\n",
    "    x = BatchNormalization()(x)\n",
    "    x = Activation('relu')(x)\n",
    "    x = Dropout(hp.Float('dropout_rate2', min_value=0.1, max_value=0.4, step=0.1))(x)\n",
    "\n",
    "    # Output Layer (assuming 10 classes)\n",
    "    outputs = Dense(10, activation='softmax')(x)\n",
    "\n",
    "    model = Model(inputs=base_model.input, outputs=outputs)\n",
    "\n",
    "    # Compile the model with Adam optimizer and categorical crossentropy loss\n",
    "    model.compile(\n",
    "        optimizer=Adam(hp.Choice('learning_rate', [1e-2, 1e-3, 5e-4, 1e-4])),\n",
    "        loss='categorical_crossentropy',\n",
    "        metrics=['accuracy']\n",
    "    )\n",
    "\n",
    "    return model\n",
    "\n",
    "# Early stopping to prevent overfitting\n",
    "early_stopping = EarlyStopping(\n",
    "    monitor='val_accuracy',\n",
    "    patience=5,\n",
    "    restore_best_weights=True,\n",
    "    verbose=1\n",
    ")\n",
    "\n",
    "# Reduce learning rate when a metric has stopped improving\n",
    "reduce_lr = ReduceLROnPlateau(\n",
    "    monitor='val_loss',\n",
    "    factor=0.5,\n",
    "    patience=2,\n",
    "    verbose=1,\n",
    "    min_lr=1e-6\n",
    ")\n",
    "\n",
    "# Bayesian Optimization for hyperparameter tuning\n",
    "tuner = kt.BayesianOptimization(\n",
    "    custom_mobnetv2,\n",
    "    objective='val_accuracy',\n",
    "    max_trials=10,\n",
    "    directory='kt_bayesian',\n",
    "    project_name='rice_variety_tuning_mobilenetv2'\n",
    ")"
   ]
  },
  {
   "cell_type": "markdown",
   "metadata": {},
   "source": [
    "## Hyperparameter Tuning\n",
    "Using Keras Tuner's Bayesian Optimization, I search for the best hyperparameters for the model. The tuning process optimizes for validation accuracy over a specified number of trials."
   ]
  },
  {
   "cell_type": "code",
   "execution_count": null,
   "metadata": {
    "execution": {
     "iopub.execute_input": "2025-05-11T15:13:14.289400Z",
     "iopub.status.busy": "2025-05-11T15:13:14.289124Z"
    },
    "trusted": true
   },
   "outputs": [
    {
     "name": "stdout",
     "output_type": "stream",
     "text": [
      "Trial 4 Complete [00h 29m 50s]\n",
      "val_accuracy: 0.6692419052124023\n",
      "\n",
      "Best val_accuracy So Far: 0.9642684459686279\n",
      "Total elapsed time: 03h 09m 36s\n",
      "\n",
      "Search: Running Trial #5\n",
      "\n",
      "Value             |Best Value So Far |Hyperparameter\n",
      "1024              |256               |dense1_units\n",
      "0.4               |0.3               |dropout_rate1\n",
      "256               |384               |dense2_units\n",
      "0.1               |0.2               |dropout_rate2\n",
      "0.01              |0.001             |learning_rate\n",
      "\n",
      "Epoch 1/20\n",
      "\u001b[1m144/666\u001b[0m \u001b[32m━━━━\u001b[0m\u001b[37m━━━━━━━━━━━━━━━━\u001b[0m \u001b[1m3:32\u001b[0m 407ms/step - accuracy: 0.3122 - loss: 2.0931"
     ]
    }
   ],
   "source": [
    "tuner.search(\n",
    "    train_generator,\n",
    "    validation_data=val_generator,\n",
    "    epochs=20,\n",
    "    callbacks=[early_stopping, reduce_lr]\n",
    ")\n",
    "\n",
    "# Get the best hyperparameters\n",
    "best_hps = tuner.get_best_hyperparameters(num_trials=1)[0]\n",
    "print(f\"Best Hyperparameters: {best_hps.values}\")"
   ]
  },
  {
   "cell_type": "markdown",
   "metadata": {},
   "source": [
    "## Training the Best Model"
   ]
  },
  {
   "cell_type": "code",
   "execution_count": 5,
   "metadata": {
    "execution": {
     "iopub.execute_input": "2025-05-11T18:38:52.409410Z",
     "iopub.status.busy": "2025-05-11T18:38:52.409137Z",
     "iopub.status.idle": "2025-05-11T20:36:31.366545Z",
     "shell.execute_reply": "2025-05-11T20:36:31.365719Z",
     "shell.execute_reply.started": "2025-05-11T18:38:52.409392Z"
    },
    "trusted": true
   },
   "outputs": [
    {
     "name": "stdout",
     "output_type": "stream",
     "text": [
      "Epoch 1/25\n",
      "\u001b[1m666/666\u001b[0m \u001b[32m━━━━━━━━━━━━━━━━━━━━\u001b[0m\u001b[37m\u001b[0m \u001b[1m361s\u001b[0m 457ms/step - accuracy: 0.3909 - loss: 1.8384 - val_accuracy: 0.0637 - val_loss: 1.8676 - learning_rate: 0.0010\n",
      "Epoch 2/25\n",
      "\u001b[1m666/666\u001b[0m \u001b[32m━━━━━━━━━━━━━━━━━━━━\u001b[0m\u001b[37m\u001b[0m \u001b[1m283s\u001b[0m 420ms/step - accuracy: 0.4800 - loss: 1.4777 - val_accuracy: 0.0386 - val_loss: 1.8473 - learning_rate: 0.0010\n",
      "Epoch 3/25\n",
      "\u001b[1m666/666\u001b[0m \u001b[32m━━━━━━━━━━━━━━━━━━━━\u001b[0m\u001b[37m\u001b[0m \u001b[1m282s\u001b[0m 420ms/step - accuracy: 0.5492 - loss: 1.2905 - val_accuracy: 0.6692 - val_loss: 1.6500 - learning_rate: 0.0010\n",
      "Epoch 4/25\n",
      "\u001b[1m666/666\u001b[0m \u001b[32m━━━━━━━━━━━━━━━━━━━━\u001b[0m\u001b[37m\u001b[0m \u001b[1m278s\u001b[0m 413ms/step - accuracy: 0.6017 - loss: 1.1325 - val_accuracy: 0.6692 - val_loss: 1.5288 - learning_rate: 0.0010\n",
      "Epoch 5/25\n",
      "\u001b[1m666/666\u001b[0m \u001b[32m━━━━━━━━━━━━━━━━━━━━\u001b[0m\u001b[37m\u001b[0m \u001b[1m281s\u001b[0m 418ms/step - accuracy: 0.6572 - loss: 0.9870 - val_accuracy: 0.6692 - val_loss: 1.7327 - learning_rate: 0.0010\n",
      "Epoch 6/25\n",
      "\u001b[1m666/666\u001b[0m \u001b[32m━━━━━━━━━━━━━━━━━━━━\u001b[0m\u001b[37m\u001b[0m \u001b[1m0s\u001b[0m 405ms/step - accuracy: 0.6974 - loss: 0.8705\n",
      "Epoch 6: ReduceLROnPlateau reducing learning rate to 0.0005000000237487257.\n",
      "\u001b[1m666/666\u001b[0m \u001b[32m━━━━━━━━━━━━━━━━━━━━\u001b[0m\u001b[37m\u001b[0m \u001b[1m278s\u001b[0m 414ms/step - accuracy: 0.6975 - loss: 0.8704 - val_accuracy: 0.3670 - val_loss: 2.8868 - learning_rate: 0.0010\n",
      "Epoch 7/25\n",
      "\u001b[1m666/666\u001b[0m \u001b[32m━━━━━━━━━━━━━━━━━━━━\u001b[0m\u001b[37m\u001b[0m \u001b[1m278s\u001b[0m 413ms/step - accuracy: 0.7877 - loss: 0.6259 - val_accuracy: 0.6688 - val_loss: 2.3106 - learning_rate: 5.0000e-04\n",
      "Epoch 8/25\n",
      "\u001b[1m666/666\u001b[0m \u001b[32m━━━━━━━━━━━━━━━━━━━━\u001b[0m\u001b[37m\u001b[0m \u001b[1m279s\u001b[0m 415ms/step - accuracy: 0.8174 - loss: 0.5280 - val_accuracy: 0.7113 - val_loss: 1.5031 - learning_rate: 5.0000e-04\n",
      "Epoch 9/25\n",
      "\u001b[1m666/666\u001b[0m \u001b[32m━━━━━━━━━━━━━━━━━━━━\u001b[0m\u001b[37m\u001b[0m \u001b[1m280s\u001b[0m 416ms/step - accuracy: 0.8526 - loss: 0.4393 - val_accuracy: 0.7190 - val_loss: 1.0203 - learning_rate: 5.0000e-04\n",
      "Epoch 10/25\n",
      "\u001b[1m666/666\u001b[0m \u001b[32m━━━━━━━━━━━━━━━━━━━━\u001b[0m\u001b[37m\u001b[0m \u001b[1m285s\u001b[0m 424ms/step - accuracy: 0.8641 - loss: 0.3933 - val_accuracy: 0.7006 - val_loss: 0.9106 - learning_rate: 5.0000e-04\n",
      "Epoch 11/25\n",
      "\u001b[1m666/666\u001b[0m \u001b[32m━━━━━━━━━━━━━━━━━━━━\u001b[0m\u001b[37m\u001b[0m \u001b[1m283s\u001b[0m 420ms/step - accuracy: 0.8816 - loss: 0.3475 - val_accuracy: 0.7919 - val_loss: 0.8020 - learning_rate: 5.0000e-04\n",
      "Epoch 12/25\n",
      "\u001b[1m666/666\u001b[0m \u001b[32m━━━━━━━━━━━━━━━━━━━━\u001b[0m\u001b[37m\u001b[0m \u001b[1m281s\u001b[0m 418ms/step - accuracy: 0.8874 - loss: 0.3277 - val_accuracy: 0.6012 - val_loss: 1.5238 - learning_rate: 5.0000e-04\n",
      "Epoch 13/25\n",
      "\u001b[1m666/666\u001b[0m \u001b[32m━━━━━━━━━━━━━━━━━━━━\u001b[0m\u001b[37m\u001b[0m \u001b[1m0s\u001b[0m 411ms/step - accuracy: 0.9025 - loss: 0.2772\n",
      "Epoch 13: ReduceLROnPlateau reducing learning rate to 0.0002500000118743628.\n",
      "\u001b[1m666/666\u001b[0m \u001b[32m━━━━━━━━━━━━━━━━━━━━\u001b[0m\u001b[37m\u001b[0m \u001b[1m281s\u001b[0m 418ms/step - accuracy: 0.9025 - loss: 0.2772 - val_accuracy: 0.6683 - val_loss: 1.3483 - learning_rate: 5.0000e-04\n",
      "Epoch 14/25\n",
      "\u001b[1m666/666\u001b[0m \u001b[32m━━━━━━━━━━━━━━━━━━━━\u001b[0m\u001b[37m\u001b[0m \u001b[1m280s\u001b[0m 416ms/step - accuracy: 0.9310 - loss: 0.1985 - val_accuracy: 0.9010 - val_loss: 0.3025 - learning_rate: 2.5000e-04\n",
      "Epoch 15/25\n",
      "\u001b[1m666/666\u001b[0m \u001b[32m━━━━━━━━━━━━━━━━━━━━\u001b[0m\u001b[37m\u001b[0m \u001b[1m277s\u001b[0m 412ms/step - accuracy: 0.9464 - loss: 0.1594 - val_accuracy: 0.9377 - val_loss: 0.1757 - learning_rate: 2.5000e-04\n",
      "Epoch 16/25\n",
      "\u001b[1m666/666\u001b[0m \u001b[32m━━━━━━━━━━━━━━━━━━━━\u001b[0m\u001b[37m\u001b[0m \u001b[1m276s\u001b[0m 410ms/step - accuracy: 0.9499 - loss: 0.1496 - val_accuracy: 0.8754 - val_loss: 0.3855 - learning_rate: 2.5000e-04\n",
      "Epoch 17/25\n",
      "\u001b[1m666/666\u001b[0m \u001b[32m━━━━━━━━━━━━━━━━━━━━\u001b[0m\u001b[37m\u001b[0m \u001b[1m0s\u001b[0m 404ms/step - accuracy: 0.9522 - loss: 0.1423\n",
      "Epoch 17: ReduceLROnPlateau reducing learning rate to 0.0001250000059371814.\n",
      "\u001b[1m666/666\u001b[0m \u001b[32m━━━━━━━━━━━━━━━━━━━━\u001b[0m\u001b[37m\u001b[0m \u001b[1m278s\u001b[0m 413ms/step - accuracy: 0.9522 - loss: 0.1423 - val_accuracy: 0.8696 - val_loss: 0.3607 - learning_rate: 2.5000e-04\n",
      "Epoch 18/25\n",
      "\u001b[1m666/666\u001b[0m \u001b[32m━━━━━━━━━━━━━━━━━━━━\u001b[0m\u001b[37m\u001b[0m \u001b[1m281s\u001b[0m 417ms/step - accuracy: 0.9620 - loss: 0.1102 - val_accuracy: 0.9469 - val_loss: 0.1706 - learning_rate: 1.2500e-04\n",
      "Epoch 19/25\n",
      "\u001b[1m666/666\u001b[0m \u001b[32m━━━━━━━━━━━━━━━━━━━━\u001b[0m\u001b[37m\u001b[0m \u001b[1m278s\u001b[0m 414ms/step - accuracy: 0.9679 - loss: 0.0964 - val_accuracy: 0.9667 - val_loss: 0.1128 - learning_rate: 1.2500e-04\n",
      "Epoch 20/25\n",
      "\u001b[1m666/666\u001b[0m \u001b[32m━━━━━━━━━━━━━━━━━━━━\u001b[0m\u001b[37m\u001b[0m \u001b[1m276s\u001b[0m 410ms/step - accuracy: 0.9725 - loss: 0.0849 - val_accuracy: 0.9614 - val_loss: 0.1176 - learning_rate: 1.2500e-04\n",
      "Epoch 21/25\n",
      "\u001b[1m666/666\u001b[0m \u001b[32m━━━━━━━━━━━━━━━━━━━━\u001b[0m\u001b[37m\u001b[0m \u001b[1m0s\u001b[0m 406ms/step - accuracy: 0.9756 - loss: 0.0721\n",
      "Epoch 21: ReduceLROnPlateau reducing learning rate to 6.25000029685907e-05.\n",
      "\u001b[1m666/666\u001b[0m \u001b[32m━━━━━━━━━━━━━━━━━━━━\u001b[0m\u001b[37m\u001b[0m \u001b[1m278s\u001b[0m 413ms/step - accuracy: 0.9756 - loss: 0.0721 - val_accuracy: 0.9604 - val_loss: 0.1604 - learning_rate: 1.2500e-04\n",
      "Epoch 22/25\n",
      "\u001b[1m666/666\u001b[0m \u001b[32m━━━━━━━━━━━━━━━━━━━━\u001b[0m\u001b[37m\u001b[0m \u001b[1m275s\u001b[0m 408ms/step - accuracy: 0.9762 - loss: 0.0695 - val_accuracy: 0.9696 - val_loss: 0.1106 - learning_rate: 6.2500e-05\n",
      "Epoch 23/25\n",
      "\u001b[1m666/666\u001b[0m \u001b[32m━━━━━━━━━━━━━━━━━━━━\u001b[0m\u001b[37m\u001b[0m \u001b[1m275s\u001b[0m 409ms/step - accuracy: 0.9791 - loss: 0.0665 - val_accuracy: 0.9614 - val_loss: 0.1258 - learning_rate: 6.2500e-05\n",
      "Epoch 24/25\n",
      "\u001b[1m666/666\u001b[0m \u001b[32m━━━━━━━━━━━━━━━━━━━━\u001b[0m\u001b[37m\u001b[0m \u001b[1m0s\u001b[0m 400ms/step - accuracy: 0.9819 - loss: 0.0555\n",
      "Epoch 24: ReduceLROnPlateau reducing learning rate to 3.125000148429535e-05.\n",
      "\u001b[1m666/666\u001b[0m \u001b[32m━━━━━━━━━━━━━━━━━━━━\u001b[0m\u001b[37m\u001b[0m \u001b[1m275s\u001b[0m 408ms/step - accuracy: 0.9819 - loss: 0.0555 - val_accuracy: 0.9619 - val_loss: 0.1191 - learning_rate: 6.2500e-05\n",
      "Epoch 25/25\n",
      "\u001b[1m666/666\u001b[0m \u001b[32m━━━━━━━━━━━━━━━━━━━━\u001b[0m\u001b[37m\u001b[0m \u001b[1m277s\u001b[0m 412ms/step - accuracy: 0.9829 - loss: 0.0534 - val_accuracy: 0.9773 - val_loss: 0.0899 - learning_rate: 3.1250e-05\n",
      "Restoring model weights from the end of the best epoch: 25.\n"
     ]
    }
   ],
   "source": [
    "best_hps = HyperParameters()\n",
    "best_hps.Fixed('dense1_units', 384)\n",
    "best_hps.Fixed('dropout_rate1', 0.3)\n",
    "best_hps.Fixed('dense2_units', 256)\n",
    "best_hps.Fixed('dropout_rate2', 0.2)\n",
    "best_hps.Fixed('learning_rate', 0.001)\n",
    "\n",
    "# Rebuild the best model\n",
    "final_model = tuner.hypermodel.build(best_hps)\n",
    "\n",
    "# Fit the best model with callbacks\n",
    "mobnetv2 = final_model.fit(\n",
    "    train_generator,\n",
    "    validation_data=val_generator,\n",
    "    epochs=25,\n",
    "    callbacks=[early_stopping, reduce_lr],\n",
    "    verbose=1\n",
    ")"
   ]
  },
  {
   "cell_type": "markdown",
   "metadata": {},
   "source": [
    "## Performance Evaluation"
   ]
  },
  {
   "cell_type": "code",
   "execution_count": 7,
   "metadata": {
    "execution": {
     "iopub.execute_input": "2025-05-11T20:42:47.082335Z",
     "iopub.status.busy": "2025-05-11T20:42:47.081521Z",
     "iopub.status.idle": "2025-05-11T20:42:47.463069Z",
     "shell.execute_reply": "2025-05-11T20:42:47.462451Z",
     "shell.execute_reply.started": "2025-05-11T20:42:47.082303Z"
    },
    "trusted": true
   },
   "outputs": [
    {
     "data": {
      "image/png": "[encoded data removed]",
      "text/plain": [
       "<Figure size 1200x500 with 2 Axes>"
      ]
     },
     "metadata": {},
     "output_type": "display_data"
    }
   ],
   "source": [
    "# Plot accuracy\n",
    "plt.figure(figsize=(12, 5))\n",
    "\n",
    "# Accuracy plot\n",
    "plt.subplot(1, 2, 1)\n",
    "plt.plot(mobnetv2.history['accuracy'], label='Training Accuracy')\n",
    "plt.plot(mobnetv2.history['val_accuracy'], label='Validation Accuracy')\n",
    "plt.title('Accuracy over Epochs')\n",
    "plt.xlabel('Epochs')\n",
    "plt.ylabel('Accuracy')\n",
    "plt.legend()\n",
    "plt.grid(True)\n",
    "\n",
    "# Loss plot\n",
    "plt.subplot(1, 2, 2)\n",
    "plt.plot(mobnetv2.history['loss'], label='Training Loss')\n",
    "plt.plot(mobnetv2.history['val_loss'], label='Validation Loss')\n",
    "plt.title('Loss over Epochs')\n",
    "plt.xlabel('Epochs')\n",
    "plt.ylabel('Loss')\n",
    "plt.legend()\n",
    "plt.grid(True)\n",
    "\n",
    "plt.tight_layout()\n",
    "plt.show()"
   ]
  },
  {
   "cell_type": "code",
   "execution_count": null,
   "metadata": {
    "execution": {
     "iopub.execute_input": "2025-05-11T21:26:20.025216Z",
     "iopub.status.busy": "2025-05-11T21:26:20.024619Z",
     "iopub.status.idle": "2025-05-11T21:26:20.529090Z",
     "shell.execute_reply": "2025-05-11T21:26:20.528522Z",
     "shell.execute_reply.started": "2025-05-11T21:26:20.025187Z"
    },
    "trusted": true
   },
   "outputs": [],
   "source": [
    "# Save the trained model to a file\n",
    "final_model.save(\"best_mobnetv2_model.h5\")"
   ]
  },
  {
   "cell_type": "markdown",
   "metadata": {},
   "source": [
    " ## Making Predictions and Exporting Results"
   ]
  },
  {
   "cell_type": "code",
   "execution_count": null,
   "metadata": {
    "execution": {
     "iopub.execute_input": "2025-05-11T21:46:57.179407Z",
     "iopub.status.busy": "2025-05-11T21:46:57.179042Z",
     "iopub.status.idle": "2025-05-11T21:51:09.104624Z",
     "shell.execute_reply": "2025-05-11T21:51:09.103950Z",
     "shell.execute_reply.started": "2025-05-11T21:46:57.179385Z"
    },
    "trusted": true
   },
   "outputs": [
    {
     "name": "stdout",
     "output_type": "stream",
     "text": [
      "[✓] Predictions saved to: variety_predictions.csv\n"
     ]
    }
   ],
   "source": [
    "from tensorflow.keras.models import load_model\n",
    "from tensorflow.keras.preprocessing.image import load_img, img_to_array\n",
    "\n",
    "def predict_and_export(model_path, image_dir, output_csv, target_size=(224, 224)):\n",
    "    \"\"\"\n",
    "    Predicts the class of images in a directory using a trained model and exports results to a CSV file.\n",
    "    Args:\n",
    "        model_path (str): Path to the trained model.\n",
    "        image_dir (str): Directory containing images to predict.\n",
    "        output_csv (str): Path to save the output CSV file.\n",
    "        target_size (tuple): Target size for image resizing.\n",
    "    \"\"\"\n",
    "    # Load the trained model\n",
    "    model = load_model(model_path)\n",
    "\n",
    "    # Get class labels from model if needed \n",
    "    class_labels = list(train_generator.class_indices.keys())\n",
    "\n",
    "    predictions = []\n",
    "\n",
    "    for fname in sorted(os.listdir(image_dir)):\n",
    "        if fname.lower().endswith('.jpg'):\n",
    "            fpath = os.path.join(image_dir, fname)\n",
    "\n",
    "            # Preprocess image\n",
    "            img = load_img(fpath, target_size=target_size)\n",
    "            img_arr = img_to_array(img) / 255.0\n",
    "            img_arr = np.expand_dims(img_arr, axis=0)\n",
    "\n",
    "            # Predict\n",
    "            probs = model.predict(img_arr, verbose=0)\n",
    "            predicted_class = class_labels[np.argmax(probs)]\n",
    "\n",
    "            predictions.append({\n",
    "                'filename': fname,\n",
    "                'predicted_label': predicted_class\n",
    "            })\n",
    "\n",
    "    # Export to CSV\n",
    "    df = pd.DataFrame(predictions)\n",
    "    df.to_csv(output_csv, index=False)\n",
    "    print(f\"[✓] Predictions saved to: {output_csv}\")\n",
    "\n",
    "# Usage\n",
    "predict_and_export(\n",
    "    model_path='best_mobnetv2_model.h5',\n",
    "    image_dir='/kaggle/input/train-images/test_images',\n",
    "    output_csv='variety_predictions.csv'\n",
    ")"
   ]
  }
 ],
 "metadata": {
  "kaggle": {
   "accelerator": "nvidiaTeslaT4",
   "dataSources": [
    {
     "datasetId": 7389640,
     "sourceId": 11770480,
     "sourceType": "datasetVersion"
    },
    {
     "datasetId": 7392376,
     "sourceId": 11774478,
     "sourceType": "datasetVersion"
    }
   ],
   "dockerImageVersionId": 31011,
   "isGpuEnabled": true,
   "isInternetEnabled": true,
   "language": "python",
   "sourceType": "notebook"
  },
  "kernelspec": {
   "display_name": "Python 3",
   "language": "python",
   "name": "python3"
  },
  "language_info": {
   "codemirror_mode": {
    "name": "ipython",
    "version": 3
   },
   "file_extension": ".py",
   "mimetype": "text/x-python",
   "name": "python",
   "nbconvert_exporter": "python",
   "pygments_lexer": "ipython3",
   "version": "3.11.11"
  }
 },
 "nbformat": 4,
 "nbformat_minor": 4
}
