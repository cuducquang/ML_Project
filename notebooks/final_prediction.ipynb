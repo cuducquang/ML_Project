{
  "cells": [
    {
      "cell_type": "markdown",
      "metadata": {
        "colab_type": "text",
        "id": "view-in-github"
      },
      "source": [
        "<a href=\"https://colab.research.google.com/github/cuducquang/ML_Project/blob/main/final_prediction.ipynb\" target=\"_parent\"><img src=\"https://colab.research.google.com/assets/colab-badge.svg\" alt=\"Open In Colab\"/></a>"
      ]
    },
    {
      "cell_type": "markdown",
      "metadata": {
        "id": "cW9k1i1wp75B"
      },
      "source": [
        "# Import Libraries\n",
        "\n",
        "## This cell imports the essential Python libraries used throughout the notebook for various tasks such as file handling, data processing, image manipulation, and deep learning."
      ]
    },
    {
      "cell_type": "code",
      "execution_count": 1,
      "metadata": {
        "id": "xrU_VVXmhkS8"
      },
      "outputs": [],
      "source": [
        "from google.colab import drive\n",
        "import gdown\n",
        "import os\n",
        "import shutil\n",
        "import pandas as pd\n",
        "import matplotlib.pyplot as plt\n",
        "import cv2\n",
        "import random\n",
        "import hashlib\n",
        "from PIL import Image\n",
        "import tensorflow as tf\n",
        "from google.colab import files"
      ]
    },
    {
      "cell_type": "markdown",
      "metadata": {
        "id": "Vh8kInT4qBz3"
      },
      "source": [
        "# Download Test Images\n",
        "\n",
        "## This cell downloads a zip file (test_images.zip) containing the test images from Google Drive using the gdown library."
      ]
    },
    {
      "cell_type": "code",
      "execution_count": 2,
      "metadata": {
        "colab": {
          "base_uri": "https://localhost:8080/"
        },
        "id": "qPAshUnFgjVk",
        "outputId": "042afcd0-6d87-485e-d404-aa83a13b0069"
      },
      "outputs": [
        {
          "name": "stderr",
          "output_type": "stream",
          "text": [
            "Downloading...\n",
            "From (original): https://drive.google.com/uc?id=1othgf5BTO_sZYXBOWykn2OkitSCna7J6\n",
            "From (redirected): https://drive.google.com/uc?id=1othgf5BTO_sZYXBOWykn2OkitSCna7J6&confirm=t&uuid=629511c3-4e62-492d-a010-08c4f92d7e42\n",
            "To: /content/test_images.zip\n",
            "100%|██████████| 274M/274M [00:04<00:00, 64.1MB/s]"
          ]
        },
        {
          "name": "stdout",
          "output_type": "stream",
          "text": [
            "Downloaded: /content/test_images.zip\n"
          ]
        },
        {
          "name": "stderr",
          "output_type": "stream",
          "text": [
            "\n"
          ]
        }
      ],
      "source": [
        "# Google Drive file ID (from the shared link)\n",
        "file_test_id = \"1othgf5BTO_sZYXBOWykn2OkitSCna7J6\"\n",
        "file_test_name = \"test_images.zip\"\n",
        "file_test_path = \"/content/\" + file_test_name\n",
        "\n",
        "# Download the file\n",
        "gdown.download(f\"https://drive.google.com/uc?id={file_test_id}\", file_test_path, quiet=False)\n",
        "print(f\"Downloaded: {file_test_path}\")"
      ]
    },
    {
      "cell_type": "markdown",
      "metadata": {
        "id": "OexjWvmpqJGS"
      },
      "source": [
        "# Unzip Test Images\n",
        "\n",
        "## This cell extracts the contents of the test_images.zip file into a directory named extracted_test_folder in the Colab environment."
      ]
    },
    {
      "cell_type": "code",
      "execution_count": 3,
      "metadata": {
        "id": "KFV3LUeBhqW7"
      },
      "outputs": [],
      "source": [
        "!unzip -q $file_test_path -d /content/extracted_test_folder"
      ]
    },
    {
      "cell_type": "markdown",
      "metadata": {
        "id": "SQlP6rLEqOjj"
      },
      "source": [
        "# Download Models and Test CSV\n",
        "\n",
        "## This cell downloads the pre-trained models and a prediction CSV file from Google Drive, which are necessary for making predictions on the test images."
      ]
    },
    {
      "cell_type": "code",
      "execution_count": null,
      "metadata": {
        "colab": {
          "base_uri": "https://localhost:8080/",
          "height": 331
        },
        "id": "kO4j3X49l9A9",
        "outputId": "b217cbc4-b3b3-4681-8d2f-98341f27d337"
      },
      "outputs": [
        {
          "name": "stderr",
          "output_type": "stream",
          "text": [
            "Downloading...\n",
            "From (original): https://drive.google.com/uc?id=16RTT_6ULyt2rgGD0A5b-OE_WcS9su62R\n",
            "From (redirected): https://drive.google.com/uc?id=16RTT_6ULyt2rgGD0A5b-OE_WcS9su62R&confirm=t&uuid=db724e87-0258-43e9-bc6c-9ff37fcd3918\n",
            "To: /content/disease_model.h5\n",
            "100%|██████████| 320M/320M [00:05<00:00, 58.4MB/s]\n",
            "Downloading...\n",
            "From: https://drive.google.com/uc?id=1FfyDsHhZY70FpgZbuP7gve71fQScdTFh\n",
            "To: /content/variety_model.h5\n",
            "100%|██████████| 34.7M/34.7M [00:00<00:00, 47.3MB/s]\n",
            "Downloading...\n",
            "From: https://drive.google.com/uc?id=1NAM2FhkpTCEuqTrbnN6wtOHOZTmaRgjD\n",
            "To: /content/age_model.pth\n",
            "100%|██████████| 19.5M/19.5M [00:00<00:00, 33.7MB/s]\n",
            "Downloading...\n",
            "From: https://drive.google.com/uc?id=1mL7YyoufZE12-tMuIxlks48IRkYPDeU4\n",
            "To: /content/test.csv\n",
            "100%|██████████| 52.1k/52.1k [00:00<00:00, 2.71MB/s]\n"
          ]
        },
        {
          "data": {
            "application/vnd.google.colaboratory.intrinsic+json": {
              "type": "string"
            },
            "text/plain": [
              "'test.csv'"
            ]
          },
          "execution_count": 5,
          "metadata": {},
          "output_type": "execute_result"
        }
      ],
      "source": [
        "# ==== Download models from Google Drive ====\n",
        "# Disease model (Keras)\n",
        "gdown.download(id=\"1VLPAeiCB1CnTR_SRKW7ssXhBXgqoxuUe\", output=\"disease_model.h5\", quiet=False)\n",
        "\n",
        "# Variety model (Keras)\n",
        "gdown.download(id=\"1FfyDsHhZY70FpgZbuP7gve71fQScdTFh\", output=\"variety_model.h5\", quiet=False)\n",
        "\n",
        "# Age model (PyTorch)\n",
        "gdown.download(id=\"1NAM2FhkpTCEuqTrbnN6wtOHOZTmaRgjD\", output=\"age_model.pth\", quiet=False)\n",
        "\n",
        "# Test CSV\n",
        "gdown.download(id=\"1mL7YyoufZE12-tMuIxlks48IRkYPDeU4\", output=\"test.csv\", quiet=False)"
      ]
    },
    {
      "cell_type": "markdown",
      "metadata": {
        "id": "Pko7YVHbqbsY"
      },
      "source": [
        "# Load Models and Make Predictions\n",
        "\n",
        "## This cell loads the pre-trained disease, variety, and age models, processes the test images, makes predictions, and saves the results to a CSV file (prediction_output.csv)."
      ]
    },
    {
      "cell_type": "code",
      "execution_count": 6,
      "metadata": {
        "colab": {
          "base_uri": "https://localhost:8080/"
        },
        "id": "cwqspnt_huoa",
        "outputId": "5acfd153-c119-42d0-8e93-f49df7ac7ee1"
      },
      "outputs": [
        {
          "name": "stderr",
          "output_type": "stream",
          "text": [
            "WARNING:absl:Compiled the loaded model, but the compiled metrics have yet to be built. `model.compile_metrics` will be empty until you train or evaluate the model.\n",
            "WARNING:absl:Compiled the loaded model, but the compiled metrics have yet to be built. `model.compile_metrics` will be empty until you train or evaluate the model.\n"
          ]
        },
        {
          "name": "stdout",
          "output_type": "stream",
          "text": [
            "prediction_output.csv generated.\n"
          ]
        }
      ],
      "source": [
        "import os\n",
        "import torch\n",
        "import torch.nn as nn\n",
        "from torchvision import models, transforms\n",
        "import numpy as np\n",
        "from tensorflow.keras.models import load_model\n",
        "\n",
        "# ==== Load models ====\n",
        "disease_model = load_model('/content/disease_model.h5')\n",
        "variety_model = load_model('/content/variety_model.h5')\n",
        "\n",
        "class AgeRegressor(nn.Module):\n",
        "    def __init__(self, num_labels, num_varieties):\n",
        "        super().__init__()\n",
        "        self.base = models.efficientnet_b0(weights=None)\n",
        "        self.base.classifier = nn.Identity()\n",
        "        self.metadata_dim = num_labels + num_varieties + 1\n",
        "        self.head = nn.Sequential(\n",
        "            nn.Linear(1280 + self.metadata_dim, 512),\n",
        "            nn.BatchNorm1d(512),\n",
        "            nn.ReLU(),\n",
        "            nn.Dropout(0.3),\n",
        "            nn.Linear(512, 256),\n",
        "            nn.BatchNorm1d(256),\n",
        "            nn.ReLU(),\n",
        "            nn.Dropout(0.2),\n",
        "            nn.Linear(256, 1)\n",
        "        )\n",
        "\n",
        "    def forward(self, x, label_vec, variety_vec, grvi_scalar):\n",
        "        features = self.base(x)\n",
        "        meta = torch.cat([label_vec, variety_vec, grvi_scalar], dim=1)\n",
        "        combined = torch.cat([features, meta], dim=1)\n",
        "        return self.head(combined)\n",
        "\n",
        "age_model = AgeRegressor(num_labels=3, num_varieties=17)\n",
        "age_model.load_state_dict(torch.load('/content/age_model.pth'))\n",
        "age_model.eval()\n",
        "\n",
        "\n",
        "transform = transforms.Compose([\n",
        "    transforms.Resize((224, 224)),\n",
        "    transforms.ToTensor(),\n",
        "])\n",
        "\n",
        "\n",
        "df = pd.read_csv('/content/test.csv')\n",
        "\n",
        "label_classes = ['bacterial_leaf_blight', 'bacterial_leaf_streak', 'bacterial_panicle_blight', 'blast', 'brown_spot', 'dead_heart', 'downy_mildew', 'hispa', 'normal', 'tungro']\n",
        "variety_classes = ['ADT45', 'AndraPonni', 'AtchayaPonni', 'IR20', 'KarnatakaPonni', 'Onthanel', 'Ponni', 'RR', 'Surya', 'Zonal']\n",
        "\n",
        "img_folder = '/content/extracted_test_folder/test_images'\n",
        "\n",
        "label_preds = []\n",
        "variety_preds = []\n",
        "age_preds = []\n",
        "\n",
        "for idx, row in df.iterrows():\n",
        "    img_path = os.path.join(img_folder, row['image_id'])\n",
        "    image = Image.open(img_path).convert(\"RGB\")\n",
        "\n",
        "    # For disease/variety model (Keras - expect Numpy)\n",
        "    img_np = np.array(image.resize((224, 224))) / 255.0\n",
        "    img_np = np.expand_dims(img_np, axis=0)\n",
        "\n",
        "    # For age model (PyTorch - expect Tensor)\n",
        "    img_tensor = transform(image).unsqueeze(0)\n",
        "\n",
        "    # === Predict label ===\n",
        "    label_logits = disease_model.predict(img_np, verbose=0)\n",
        "    label_idx = np.argmax(label_logits)\n",
        "    label_name = label_classes[label_idx]\n",
        "    label_preds.append(label_name)\n",
        "\n",
        "    # === Predict variety ===\n",
        "    variety_logits = variety_model.predict(img_np, verbose=0)\n",
        "    variety_idx = np.argmax(variety_logits)\n",
        "    variety_name = variety_classes[variety_idx]\n",
        "    variety_preds.append(variety_name)\n",
        "\n",
        "    # === Predict age ===\n",
        "    label_onehot = torch.zeros((1, 3))\n",
        "    if label_idx < 3:  # Ensure index safe for 3-class onehot\n",
        "        label_onehot[0, label_idx] = 1.0\n",
        "\n",
        "    variety_onehot = torch.zeros((1, 17))\n",
        "    if variety_idx < 17:\n",
        "        variety_onehot[0, variety_idx] = 1.0\n",
        "\n",
        "    grvi_scalar = torch.tensor([[0.5]])  # Default GRVI if not known\n",
        "\n",
        "    with torch.no_grad():\n",
        "        age_pred = age_model(img_tensor, label_onehot, variety_onehot, grvi_scalar)\n",
        "        age_preds.append(int(round(age_pred.item())))\n",
        "\n",
        "# ==== Save to CSV ====\n",
        "df[\"label\"] = label_preds\n",
        "df[\"variety\"] = variety_preds\n",
        "df[\"age\"] = age_preds\n",
        "df.to_csv('/content/prediction_output.csv', index=False)\n",
        "print(\"prediction_output.csv generated.\")"
      ]
    }
  ],
  "metadata": {
    "accelerator": "GPU",
    "colab": {
      "authorship_tag": "ABX9TyOXRUPUDcgxEUNxaeH8QVGb",
      "gpuType": "L4",
      "include_colab_link": true,
      "provenance": []
    },
    "kernelspec": {
      "display_name": "Python 3",
      "name": "python3"
    },
    "language_info": {
      "name": "python"
    }
  },
  "nbformat": 4,
  "nbformat_minor": 0
}
