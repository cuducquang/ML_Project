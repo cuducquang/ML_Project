{
  "nbformat": 4,
  "nbformat_minor": 0,
  "metadata": {
    "colab": {
      "provenance": [],
      "gpuType": "L4"
    },
    "kernelspec": {
      "name": "python3",
      "display_name": "Python 3"
    },
    "language_info": {
      "name": "python"
    },
    "accelerator": "GPU"
  },
  "cells": [
    {
      "cell_type": "code",
      "source": [
        "from google.colab import drive\n",
        "import gdown\n",
        "import os\n",
        "import shutil\n",
        "import pandas as pd\n",
        "import matplotlib.pyplot as plt\n",
        "import cv2\n",
        "import random\n",
        "import hashlib\n",
        "from PIL import Image\n",
        "import tensorflow as tf\n",
        "from google.colab import files"
      ],
      "metadata": {
        "id": "xrU_VVXmhkS8"
      },
      "execution_count": 1,
      "outputs": []
    },
    {
      "cell_type": "code",
      "execution_count": 2,
      "metadata": {
        "colab": {
          "base_uri": "https://localhost:8080/"
        },
        "id": "qPAshUnFgjVk",
        "outputId": "dc462343-b04e-44d0-cb92-94ac6324e980"
      },
      "outputs": [
        {
          "output_type": "stream",
          "name": "stderr",
          "text": [
            "Downloading...\n",
            "From (original): https://drive.google.com/uc?id=1othgf5BTO_sZYXBOWykn2OkitSCna7J6\n",
            "From (redirected): https://drive.google.com/uc?id=1othgf5BTO_sZYXBOWykn2OkitSCna7J6&confirm=t&uuid=81666624-2136-47fe-9992-cd22f7153360\n",
            "To: /content/test_images.zip\n",
            "100%|██████████| 274M/274M [00:04<00:00, 66.9MB/s]"
          ]
        },
        {
          "output_type": "stream",
          "name": "stdout",
          "text": [
            "Downloaded: /content/test_images.zip\n"
          ]
        },
        {
          "output_type": "stream",
          "name": "stderr",
          "text": [
            "\n"
          ]
        }
      ],
      "source": [
        "# Google Drive file ID (from the shared link)\n",
        "file_test_id = \"1othgf5BTO_sZYXBOWykn2OkitSCna7J6\"\n",
        "file_test_name = \"test_images.zip\"\n",
        "file_test_path = \"/content/\" + file_test_name\n",
        "\n",
        "# Download the file\n",
        "gdown.download(f\"https://drive.google.com/uc?id={file_test_id}\", file_test_path, quiet=False)\n",
        "print(f\"Downloaded: {file_test_path}\")"
      ]
    },
    {
      "cell_type": "code",
      "source": [
        "!unzip -q $file_test_path -d /content/extracted_test_folder"
      ],
      "metadata": {
        "id": "KFV3LUeBhqW7"
      },
      "execution_count": 3,
      "outputs": []
    },
    {
      "cell_type": "code",
      "source": [
        "import os\n",
        "import torch\n",
        "import torch.nn as nn\n",
        "from torchvision import models, transforms\n",
        "import numpy as np\n",
        "from tensorflow.keras.models import load_model\n",
        "\n",
        "# ==== Load models ====\n",
        "disease_model = load_model('/content/diseased_model.h5')\n",
        "variety_model = load_model('/content/variety_model.h5')\n",
        "\n",
        "class AgeRegressor(nn.Module):\n",
        "    def __init__(self, num_labels, num_varieties):\n",
        "        super().__init__()\n",
        "        self.base = models.efficientnet_b0(weights=None)\n",
        "        self.base.classifier = nn.Identity()\n",
        "        self.metadata_dim = num_labels + num_varieties + 1\n",
        "        self.head = nn.Sequential(\n",
        "            nn.Linear(1280 + self.metadata_dim, 512),\n",
        "            nn.BatchNorm1d(512),\n",
        "            nn.ReLU(),\n",
        "            nn.Dropout(0.3),\n",
        "            nn.Linear(512, 256),\n",
        "            nn.BatchNorm1d(256),\n",
        "            nn.ReLU(),\n",
        "            nn.Dropout(0.2),\n",
        "            nn.Linear(256, 1)\n",
        "        )\n",
        "\n",
        "    def forward(self, x, label_vec, variety_vec, grvi_scalar):\n",
        "        features = self.base(x)\n",
        "        meta = torch.cat([label_vec, variety_vec, grvi_scalar], dim=1)\n",
        "        combined = torch.cat([features, meta], dim=1)\n",
        "        return self.head(combined)\n",
        "\n",
        "age_model = AgeRegressor(num_labels=3, num_varieties=17)\n",
        "age_model.load_state_dict(torch.load('/content/age_model.pth'))\n",
        "age_model.eval()\n",
        "\n",
        "\n",
        "transform = transforms.Compose([\n",
        "    transforms.Resize((224, 224)),\n",
        "    transforms.ToTensor(),\n",
        "])\n",
        "\n",
        "\n",
        "df = pd.read_csv('/content/prediction_submission.csv')\n",
        "\n",
        "label_classes = ['bacterial_leaf_blight', 'bacterial_leaf_streak', 'bacterial_panicle_blight', 'blast', 'brown_spot', 'dead_heart', 'downy_mildew', 'hispa', 'normal', 'tungro']\n",
        "variety_classes = ['ADT45', 'AndraPonni', 'AtchayaPonni', 'IR20', 'KarnatakaPonni', 'Onthanel', 'Ponni', 'RR', 'Surya', 'Zonal']\n",
        "\n",
        "img_folder = '/content/extracted_test_folder/test_images'\n",
        "\n",
        "df = pd.read_csv(\"/content/prediction_submission.csv\")\n",
        "\n",
        "label_preds = []\n",
        "variety_preds = []\n",
        "age_preds = []\n",
        "\n",
        "for idx, row in df.iterrows():\n",
        "    img_path = os.path.join(img_folder, row['image_id'])\n",
        "    image = Image.open(img_path).convert(\"RGB\")\n",
        "\n",
        "    # For disease/variety model (Keras - expect Numpy)\n",
        "    img_np = np.array(image.resize((224, 224))) / 255.0\n",
        "    img_np = np.expand_dims(img_np, axis=0)\n",
        "\n",
        "    # For age model (PyTorch - expect Tensor)\n",
        "    img_tensor = transform(image).unsqueeze(0)\n",
        "\n",
        "    # === Predict label ===\n",
        "    label_logits = disease_model.predict(img_np, verbose=0)\n",
        "    label_idx = np.argmax(label_logits)\n",
        "    label_name = label_classes[label_idx]\n",
        "    label_preds.append(label_name)\n",
        "\n",
        "    # === Predict variety ===\n",
        "    variety_logits = variety_model.predict(img_np, verbose=0)\n",
        "    variety_idx = np.argmax(variety_logits)\n",
        "    variety_name = variety_classes[variety_idx]\n",
        "    variety_preds.append(variety_name)\n",
        "\n",
        "    # === Predict age ===\n",
        "    label_onehot = torch.zeros((1, 3))\n",
        "    if label_idx < 3:  # Ensure index safe for 3-class onehot\n",
        "        label_onehot[0, label_idx] = 1.0\n",
        "\n",
        "    variety_onehot = torch.zeros((1, 17))\n",
        "    if variety_idx < 17:\n",
        "        variety_onehot[0, variety_idx] = 1.0\n",
        "\n",
        "    grvi_scalar = torch.tensor([[0.5]])  # Default GRVI if not known\n",
        "\n",
        "    with torch.no_grad():\n",
        "        age_pred = age_model(img_tensor, label_onehot, variety_onehot, grvi_scalar)\n",
        "        age_preds.append(int(round(age_pred.item())))\n",
        "\n",
        "# ==== Save to CSV ====\n",
        "df[\"label\"] = label_preds\n",
        "df[\"variety\"] = variety_preds\n",
        "df[\"age\"] = age_preds\n",
        "df.to_csv('/content/prediction_output.csv', index=False)\n",
        "print(\"prediction_output.csv generated.\")"
      ],
      "metadata": {
        "colab": {
          "base_uri": "https://localhost:8080/"
        },
        "id": "cwqspnt_huoa",
        "outputId": "e70a3d1b-30a5-4452-ec44-3cee5b38af7c"
      },
      "execution_count": 6,
      "outputs": [
        {
          "output_type": "stream",
          "name": "stderr",
          "text": [
            "WARNING:absl:Compiled the loaded model, but the compiled metrics have yet to be built. `model.compile_metrics` will be empty until you train or evaluate the model.\n",
            "WARNING:absl:Compiled the loaded model, but the compiled metrics have yet to be built. `model.compile_metrics` will be empty until you train or evaluate the model.\n"
          ]
        },
        {
          "output_type": "stream",
          "name": "stdout",
          "text": [
            "prediction_output.csv generated.\n"
          ]
        }
      ]
    }
  ]
}