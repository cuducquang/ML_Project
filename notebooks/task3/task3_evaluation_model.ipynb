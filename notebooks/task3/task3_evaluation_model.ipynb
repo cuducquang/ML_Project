{
 "cells": [
  {
   "cell_type": "markdown",
   "id": "3e6017f0",
   "metadata": {},
   "source": [
    "# From task3_inceptionV3 and task3_efficientNetB0, we have the result"
   ]
  },
  {
   "cell_type": "markdown",
   "id": "02cb6ab2",
   "metadata": {},
   "source": [
    "### Objective:\n",
    "To predict the **age** of rice plants based on input images.\n",
    "\n",
    "\n",
    "### Model Results Summary\n",
    "\n",
    "#### **InceptionV3**\n",
    "- **Final Validation MAE (Age)**: 1.1508  \n",
    "- **Final Validation Loss (Age)**: 3.9012  \n",
    "- **Validation Accuracy (Group classification)**: 87.90%  \n",
    "- **Total Validation Loss**: 4.0819  \n",
    "- **Early Stopping**: Epoch 46  \n",
    "\n",
    "#### **EfficientNetB0**\n",
    "- **Final Validation MAE (Age)**: **2.5685**  \n",
    "- **Validation MSE**: **13.4470**  \n",
    "- **Validation RMSE**: **3.6670**  \n",
    "- **R² Score**: **0.8352**  \n",
    "- **Total Validation Loss**: **13.3972**  \n",
    "- **Early Stopping**: Epoch 97  \n",
    "\n",
    "\n",
    "### Evaluation\n",
    "\n",
    "- **Regression Performance**: EfficientNetB0 provides a full set of regression metrics:\n",
    "  - **RMSE = 3.6670**, indicating low prediction error.\n",
    "  - **R² = 0.8352**, showing strong correlation and explaining ~83.5% of the variance in the age data.\n",
    "\n",
    "- While InceptionV3 achieves a lower **MAE**, EfficientNetB0 still performs well with acceptable error margins for practical deployment.\n",
    "\n",
    "- **Training Stability**: EfficientNetB0 converged steadily and avoided overfitting, completing 97 epochs with consistent improvement, demonstrating strong generalization potential.\n",
    "\n",
    "- **Deployment Readiness**: EfficientNetB0 is lighter and more efficient compared to InceptionV3, making it highly suitable for **mobile or edge deployment** — a key consideration for real-world agricultural applications.\n",
    "\n",
    "\n",
    "### Ultimate Judgement\n",
    "\n",
    "**EfficientNetB0 is chosen as the final model** for rice age prediction.\n",
    "\n",
    "It offers:\n",
    "- Reliable regression performance (RMSE & R²),\n",
    "- Simplicity and speed,\n",
    "- Scalability for future datasets,\n",
    "- And ease of deployment on resource-constrained devices.\n",
    "\n",
    "> While InceptionV3 slightly edges out in MAE, **EfficientNetB0 provides a better balance of performance, efficiency, and practical usability**, making it the optimal model for production.\n"
   ]
  }
 ],
 "metadata": {
  "language_info": {
   "name": "python"
  }
 },
 "nbformat": 4,
 "nbformat_minor": 5
}
