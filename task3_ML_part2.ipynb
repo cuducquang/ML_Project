{
  "nbformat": 4,
  "nbformat_minor": 0,
  "metadata": {
    "colab": {
      "provenance": [],
      "gpuType": "L4",
      "authorship_tag": "ABX9TyPWRJNfby2atnWteNQihSdQ",
      "include_colab_link": true
    },
    "kernelspec": {
      "name": "python3",
      "display_name": "Python 3"
    },
    "language_info": {
      "name": "python"
    },
    "accelerator": "GPU"
  },
  "cells": [
    {
      "cell_type": "markdown",
      "metadata": {
        "id": "view-in-github",
        "colab_type": "text"
      },
      "source": [
        "<a href=\"https://colab.research.google.com/github/cuducquang/ML_Project/blob/main/task3_ML_part2.ipynb\" target=\"_parent\"><img src=\"https://colab.research.google.com/assets/colab-badge.svg\" alt=\"Open In Colab\"/></a>"
      ]
    },
    {
      "cell_type": "code",
      "source": [
        "!pip install keras-tuner"
      ],
      "metadata": {
        "colab": {
          "base_uri": "https://localhost:8080/"
        },
        "id": "kYK_EpAtLvKU",
        "outputId": "c7230a4f-59b9-42b9-bbfc-19f629d8c897"
      },
      "execution_count": 1,
      "outputs": [
        {
          "output_type": "stream",
          "name": "stdout",
          "text": [
            "Collecting keras-tuner\n",
            "  Downloading keras_tuner-1.4.7-py3-none-any.whl.metadata (5.4 kB)\n",
            "Requirement already satisfied: keras in /usr/local/lib/python3.11/dist-packages (from keras-tuner) (3.8.0)\n",
            "Requirement already satisfied: packaging in /usr/local/lib/python3.11/dist-packages (from keras-tuner) (24.2)\n",
            "Requirement already satisfied: requests in /usr/local/lib/python3.11/dist-packages (from keras-tuner) (2.32.3)\n",
            "Collecting kt-legacy (from keras-tuner)\n",
            "  Downloading kt_legacy-1.0.5-py3-none-any.whl.metadata (221 bytes)\n",
            "Requirement already satisfied: absl-py in /usr/local/lib/python3.11/dist-packages (from keras->keras-tuner) (1.4.0)\n",
            "Requirement already satisfied: numpy in /usr/local/lib/python3.11/dist-packages (from keras->keras-tuner) (2.0.2)\n",
            "Requirement already satisfied: rich in /usr/local/lib/python3.11/dist-packages (from keras->keras-tuner) (13.9.4)\n",
            "Requirement already satisfied: namex in /usr/local/lib/python3.11/dist-packages (from keras->keras-tuner) (0.0.9)\n",
            "Requirement already satisfied: h5py in /usr/local/lib/python3.11/dist-packages (from keras->keras-tuner) (3.13.0)\n",
            "Requirement already satisfied: optree in /usr/local/lib/python3.11/dist-packages (from keras->keras-tuner) (0.15.0)\n",
            "Requirement already satisfied: ml-dtypes in /usr/local/lib/python3.11/dist-packages (from keras->keras-tuner) (0.4.1)\n",
            "Requirement already satisfied: charset-normalizer<4,>=2 in /usr/local/lib/python3.11/dist-packages (from requests->keras-tuner) (3.4.1)\n",
            "Requirement already satisfied: idna<4,>=2.5 in /usr/local/lib/python3.11/dist-packages (from requests->keras-tuner) (3.10)\n",
            "Requirement already satisfied: urllib3<3,>=1.21.1 in /usr/local/lib/python3.11/dist-packages (from requests->keras-tuner) (2.4.0)\n",
            "Requirement already satisfied: certifi>=2017.4.17 in /usr/local/lib/python3.11/dist-packages (from requests->keras-tuner) (2025.4.26)\n",
            "Requirement already satisfied: typing-extensions>=4.5.0 in /usr/local/lib/python3.11/dist-packages (from optree->keras->keras-tuner) (4.13.2)\n",
            "Requirement already satisfied: markdown-it-py>=2.2.0 in /usr/local/lib/python3.11/dist-packages (from rich->keras->keras-tuner) (3.0.0)\n",
            "Requirement already satisfied: pygments<3.0.0,>=2.13.0 in /usr/local/lib/python3.11/dist-packages (from rich->keras->keras-tuner) (2.19.1)\n",
            "Requirement already satisfied: mdurl~=0.1 in /usr/local/lib/python3.11/dist-packages (from markdown-it-py>=2.2.0->rich->keras->keras-tuner) (0.1.2)\n",
            "Downloading keras_tuner-1.4.7-py3-none-any.whl (129 kB)\n",
            "\u001b[2K   \u001b[90m━━━━━━━━━━━━━━━━━━━━━━━━━━━━━━━━━━━━━━━━\u001b[0m \u001b[32m129.1/129.1 kB\u001b[0m \u001b[31m11.7 MB/s\u001b[0m eta \u001b[36m0:00:00\u001b[0m\n",
            "\u001b[?25hDownloading kt_legacy-1.0.5-py3-none-any.whl (9.6 kB)\n",
            "Installing collected packages: kt-legacy, keras-tuner\n",
            "Successfully installed keras-tuner-1.4.7 kt-legacy-1.0.5\n"
          ]
        }
      ]
    },
    {
      "cell_type": "code",
      "source": [
        "from google.colab import drive\n",
        "import gdown\n",
        "import os\n",
        "import shutil\n",
        "import pandas as pd\n",
        "import matplotlib.pyplot as plt\n",
        "import cv2\n",
        "import random\n",
        "import hashlib\n",
        "from PIL import Image\n",
        "from sklearn.model_selection import train_test_split\n",
        "from sklearn.utils import resample\n",
        "import numpy as np\n",
        "import math\n",
        "from tensorflow.keras.preprocessing.image import ImageDataGenerator\n",
        "import keras_tuner as kt\n",
        "from tensorflow.keras.applications import InceptionV3\n",
        "from tensorflow.keras.models import Model\n",
        "from tensorflow.keras.layers import Dense, Flatten, Dropout, GlobalAveragePooling2D\n",
        "from tensorflow.keras.optimizers import Adam\n",
        "from tensorflow.keras.callbacks import EarlyStopping\n",
        "from keras.callbacks import ReduceLROnPlateau\n",
        "from keras_tuner import HyperParameters\n",
        "from tensorflow import keras\n",
        "import tensorflow as tf\n",
        "from google.colab import files"
      ],
      "metadata": {
        "id": "psthemVWL2yU"
      },
      "execution_count": 2,
      "outputs": []
    },
    {
      "cell_type": "code",
      "source": [
        "drive.mount('/content/drive')\n",
        "\n",
        "# Google Drive file ID (from the shared link)\n",
        "file_id = \"1imVvr3Ydu8CdhM-mjEJ0Wc7IiH5wKV5e\"\n",
        "file_name = \"train_images.zip\"\n",
        "file_path = \"/content/\" + file_name\n",
        "\n",
        "# Download the file\n",
        "gdown.download(f\"https://drive.google.com/uc?id={file_id}\", file_path, quiet=False)\n",
        "print(f\"Downloaded: {file_path}\")"
      ],
      "metadata": {
        "colab": {
          "base_uri": "https://localhost:8080/"
        },
        "id": "SIJ7C5lNL9sr",
        "outputId": "44378c6b-8b5e-4442-be4d-7e9b8b6d027b"
      },
      "execution_count": 3,
      "outputs": [
        {
          "output_type": "stream",
          "name": "stdout",
          "text": [
            "Mounted at /content/drive\n"
          ]
        },
        {
          "output_type": "stream",
          "name": "stderr",
          "text": [
            "Downloading...\n",
            "From (original): https://drive.google.com/uc?id=1imVvr3Ydu8CdhM-mjEJ0Wc7IiH5wKV5e\n",
            "From (redirected): https://drive.google.com/uc?id=1imVvr3Ydu8CdhM-mjEJ0Wc7IiH5wKV5e&confirm=t&uuid=cb026f1e-49db-43ae-b9d0-673fcec55254\n",
            "To: /content/train_images.zip\n",
            "100%|██████████| 820M/820M [00:16<00:00, 51.2MB/s]"
          ]
        },
        {
          "output_type": "stream",
          "name": "stdout",
          "text": [
            "Downloaded: /content/train_images.zip\n"
          ]
        },
        {
          "output_type": "stream",
          "name": "stderr",
          "text": [
            "\n"
          ]
        }
      ]
    },
    {
      "cell_type": "code",
      "source": [
        "!unzip -q $file_path -d /content/extracted_folder"
      ],
      "metadata": {
        "id": "9Fmb0pYVMFPT"
      },
      "execution_count": 4,
      "outputs": []
    },
    {
      "cell_type": "code",
      "source": [
        "src_root = '/content/extracted_folder/train_images'\n",
        "dst_root = '/content/images_all'\n",
        "\n",
        "os.makedirs(dst_root, exist_ok=True)\n",
        "\n",
        "for label_folder in os.listdir(src_root):\n",
        "    subdir = os.path.join(src_root, label_folder)\n",
        "    if os.path.isdir(subdir):\n",
        "        for filename in os.listdir(subdir):\n",
        "            src_file = os.path.join(subdir, filename)\n",
        "            dst_file = os.path.join(dst_root, filename)\n",
        "            shutil.copy2(src_file, dst_file)"
      ],
      "metadata": {
        "id": "wh9NOMl5MXBa"
      },
      "execution_count": 5,
      "outputs": []
    },
    {
      "cell_type": "code",
      "execution_count": 6,
      "metadata": {
        "id": "4MbYLMWFLmKi"
      },
      "outputs": [],
      "source": [
        "import pandas as pd\n",
        "import os\n",
        "import tensorflow as tf\n",
        "from sklearn.preprocessing import LabelEncoder\n",
        "\n",
        "df = pd.read_csv('/content/meta_train.csv')\n",
        "df = df[df['age'] >= 45].copy()\n",
        "\n",
        "df['image_path'] = df['image_id'].apply(lambda x: os.path.join('/content/images_all', x))\n",
        "\n",
        "def map_age_to_group(age):\n",
        "    if 45 <= age <= 49:\n",
        "        return '45-49'\n",
        "    elif 50 <= age <= 54:\n",
        "        return '50-54'\n",
        "    elif 55 <= age <= 59:\n",
        "        return '55-59'\n",
        "    elif 60 <= age <= 64:\n",
        "        return '60-64'\n",
        "    elif 65 <= age <= 69:\n",
        "        return '65-69'\n",
        "    elif 70 <= age <= 74:\n",
        "        return '70-74'\n",
        "    else:\n",
        "        return '75+'\n",
        "\n",
        "df['age_group'] = df['age'].apply(map_age_to_group)\n",
        "\n",
        "le = LabelEncoder()\n",
        "df['age_group_label'] = le.fit_transform(df['age_group'])\n",
        "\n",
        "df = df.sample(frac=1.0, random_state=42).reset_index(drop=True)"
      ]
    },
    {
      "cell_type": "code",
      "source": [
        "from tensorflow.keras.applications.inception_v3 import preprocess_input\n",
        "\n",
        "from sklearn.model_selection import train_test_split\n",
        "train_df, val_df = train_test_split(df, test_size=0.2, random_state=42)\n",
        "\n",
        "def load_and_preprocess(image_path, age, group_label):\n",
        "    img = tf.io.read_file(image_path)\n",
        "    img = tf.image.decode_jpeg(img, channels=3)\n",
        "    img = tf.image.resize(img, [299, 299])\n",
        "    img = preprocess_input(img)\n",
        "    return img, {\n",
        "        'age_output': tf.cast(age, tf.float32),\n",
        "        'group_output': tf.cast(group_label, tf.int32)\n",
        "    }\n",
        "\n",
        "def create_dataset(df, batch_size=32):\n",
        "    paths = df['image_path'].values\n",
        "    ages = df['age'].values\n",
        "    groups = df['age_group_label'].values\n",
        "    ds = tf.data.Dataset.from_tensor_slices((paths, ages, groups))\n",
        "    ds = ds.map(load_and_preprocess, num_parallel_calls=tf.data.AUTOTUNE)\n",
        "    ds = ds.shuffle(512).batch(batch_size).prefetch(tf.data.AUTOTUNE)\n",
        "    return ds\n",
        "\n",
        "train_ds = create_dataset(train_df)\n",
        "val_ds = create_dataset(val_df)"
      ],
      "metadata": {
        "id": "Z4cczAlZNfZz"
      },
      "execution_count": 7,
      "outputs": []
    },
    {
      "cell_type": "code",
      "source": [
        "from tensorflow.keras.models import load_model, Model\n",
        "from tensorflow.keras.layers import Dense, Dropout\n",
        "\n",
        "model_part1 = load_model('/content/best_rice_age_model.h5')\n",
        "\n",
        "for layer in model_part1.layers[:-10]:\n",
        "    layer.trainable = False\n",
        "\n",
        "x = model_part1.layers[-4].output\n",
        "x = Dropout(0.4)(x)\n",
        "\n",
        "age_output = Dense(1, name='age_output')(x)\n",
        "group_output = Dense(7, activation='softmax', name='group_output')(x)\n",
        "\n",
        "multi_model = Model(inputs=model_part1.input, outputs=[age_output, group_output])\n",
        "\n",
        "multi_model.compile(\n",
        "    optimizer=Adam(1e-3),\n",
        "    loss={'age_output': 'mse', 'group_output': 'sparse_categorical_crossentropy'},\n",
        "    loss_weights={'age_output': 1.0, 'group_output': 0.4},\n",
        "    metrics={'age_output': ['mae'], 'group_output': ['accuracy']}\n",
        ")\n",
        "\n",
        "multi_model.fit(train_ds, validation_data=val_ds, epochs=5)"
      ],
      "metadata": {
        "colab": {
          "base_uri": "https://localhost:8080/"
        },
        "id": "deMcRzwVN_FT",
        "outputId": "df0da59b-29d9-4122-f17b-5e15984d9d6b"
      },
      "execution_count": 8,
      "outputs": [
        {
          "output_type": "stream",
          "name": "stderr",
          "text": [
            "WARNING:absl:Compiled the loaded model, but the compiled metrics have yet to be built. `model.compile_metrics` will be empty until you train or evaluate the model.\n"
          ]
        },
        {
          "output_type": "stream",
          "name": "stdout",
          "text": [
            "Epoch 1/5\n",
            "\u001b[1m261/261\u001b[0m \u001b[32m━━━━━━━━━━━━━━━━━━━━\u001b[0m\u001b[37m\u001b[0m \u001b[1m63s\u001b[0m 150ms/step - age_output_loss: 3722.2090 - age_output_mae: 60.5782 - group_output_accuracy: 0.7110 - group_output_loss: 0.9027 - loss: 3722.6082 - val_age_output_loss: 1082.5518 - val_age_output_mae: 32.5809 - val_group_output_accuracy: 0.9313 - val_group_output_loss: 0.2343 - val_loss: 1081.2017\n",
            "Epoch 2/5\n",
            "\u001b[1m261/261\u001b[0m \u001b[32m━━━━━━━━━━━━━━━━━━━━\u001b[0m\u001b[37m\u001b[0m \u001b[1m15s\u001b[0m 58ms/step - age_output_loss: 493.8125 - age_output_mae: 19.4680 - group_output_accuracy: 0.8941 - group_output_loss: 0.3315 - loss: 493.9482 - val_age_output_loss: 22.1127 - val_age_output_mae: 3.5750 - val_group_output_accuracy: 0.9452 - val_group_output_loss: 0.2178 - val_loss: 21.4060\n",
            "Epoch 3/5\n",
            "\u001b[1m261/261\u001b[0m \u001b[32m━━━━━━━━━━━━━━━━━━━━\u001b[0m\u001b[37m\u001b[0m \u001b[1m16s\u001b[0m 59ms/step - age_output_loss: 60.9699 - age_output_mae: 6.1398 - group_output_accuracy: 0.9061 - group_output_loss: 0.2912 - loss: 61.0855 - val_age_output_loss: 21.8820 - val_age_output_mae: 3.5651 - val_group_output_accuracy: 0.9486 - val_group_output_loss: 0.1778 - val_loss: 21.5309\n",
            "Epoch 4/5\n",
            "\u001b[1m261/261\u001b[0m \u001b[32m━━━━━━━━━━━━━━━━━━━━\u001b[0m\u001b[37m\u001b[0m \u001b[1m16s\u001b[0m 59ms/step - age_output_loss: 52.4493 - age_output_mae: 5.6464 - group_output_accuracy: 0.9211 - group_output_loss: 0.2556 - loss: 52.5513 - val_age_output_loss: 13.0574 - val_age_output_mae: 2.7028 - val_group_output_accuracy: 0.9486 - val_group_output_loss: 0.1728 - val_loss: 13.2926\n",
            "Epoch 5/5\n",
            "\u001b[1m261/261\u001b[0m \u001b[32m━━━━━━━━━━━━━━━━━━━━\u001b[0m\u001b[37m\u001b[0m \u001b[1m16s\u001b[0m 59ms/step - age_output_loss: 49.8456 - age_output_mae: 5.5264 - group_output_accuracy: 0.9167 - group_output_loss: 0.2697 - loss: 49.9535 - val_age_output_loss: 11.9732 - val_age_output_mae: 2.5574 - val_group_output_accuracy: 0.9486 - val_group_output_loss: 0.1704 - val_loss: 12.1465\n"
          ]
        },
        {
          "output_type": "execute_result",
          "data": {
            "text/plain": [
              "<keras.src.callbacks.history.History at 0x783015ee2950>"
            ]
          },
          "metadata": {},
          "execution_count": 8
        }
      ]
    },
    {
      "cell_type": "code",
      "source": [
        "# PHASE 2: UNFREEZE & FINE-TUNE\n",
        "for layer in multi_model.layers:\n",
        "    layer.trainable = True\n",
        "\n",
        "# Re-compile with smaller LR\n",
        "multi_model.compile(\n",
        "    optimizer=Adam(1e-4),\n",
        "    loss={'age_output': 'mse', 'group_output': 'sparse_categorical_crossentropy'},\n",
        "    loss_weights={'age_output': 1.0, 'group_output': 0.4},\n",
        "    metrics={'age_output': ['mae'], 'group_output': ['accuracy']}\n",
        ")\n",
        "early_stop = EarlyStopping(monitor='val_loss', patience=5, restore_best_weights=True, verbose=1)\n",
        "reduce_lr = ReduceLROnPlateau(monitor='val_loss', patience=2, factor=0.5, verbose=1)\n",
        "\n",
        "# Continue training\n",
        "multi_model.fit(train_ds, validation_data=val_ds, epochs=200,\n",
        "                callbacks=[early_stop, reduce_lr])"
      ],
      "metadata": {
        "colab": {
          "base_uri": "https://localhost:8080/"
        },
        "id": "CEwMit9jOJkz",
        "outputId": "d71f7f91-72c8-46df-b9b6-6ef120b86958"
      },
      "execution_count": 9,
      "outputs": [
        {
          "output_type": "stream",
          "name": "stdout",
          "text": [
            "Epoch 1/200\n",
            "\u001b[1m261/261\u001b[0m \u001b[32m━━━━━━━━━━━━━━━━━━━━\u001b[0m\u001b[37m\u001b[0m \u001b[1m165s\u001b[0m 343ms/step - age_output_loss: 68.5914 - age_output_mae: 6.4428 - group_output_accuracy: 0.6321 - group_output_loss: 1.5684 - loss: 69.2190 - val_age_output_loss: 180.5939 - val_age_output_mae: 9.5386 - val_group_output_accuracy: 0.4323 - val_group_output_loss: 3.6783 - val_loss: 184.2966 - learning_rate: 1.0000e-04\n",
            "Epoch 2/200\n",
            "\u001b[1m261/261\u001b[0m \u001b[32m━━━━━━━━━━━━━━━━━━━━\u001b[0m\u001b[37m\u001b[0m \u001b[1m48s\u001b[0m 183ms/step - age_output_loss: 63.5340 - age_output_mae: 6.2458 - group_output_accuracy: 0.5852 - group_output_loss: 1.3844 - loss: 64.0888 - val_age_output_loss: 40.8982 - val_age_output_mae: 4.5688 - val_group_output_accuracy: 0.5768 - val_group_output_loss: 1.8328 - val_loss: 42.1684 - learning_rate: 1.0000e-04\n",
            "Epoch 3/200\n",
            "\u001b[1m261/261\u001b[0m \u001b[32m━━━━━━━━━━━━━━━━━━━━\u001b[0m\u001b[37m\u001b[0m \u001b[1m47s\u001b[0m 181ms/step - age_output_loss: 56.2673 - age_output_mae: 5.8106 - group_output_accuracy: 0.6111 - group_output_loss: 1.2212 - loss: 56.7556 - val_age_output_loss: 85.7496 - val_age_output_mae: 7.2197 - val_group_output_accuracy: 0.5101 - val_group_output_loss: 1.8459 - val_loss: 86.7399 - learning_rate: 1.0000e-04\n",
            "Epoch 4/200\n",
            "\u001b[1m261/261\u001b[0m \u001b[32m━━━━━━━━━━━━━━━━━━━━\u001b[0m\u001b[37m\u001b[0m \u001b[1m48s\u001b[0m 182ms/step - age_output_loss: 60.4373 - age_output_mae: 6.0207 - group_output_accuracy: 0.5577 - group_output_loss: 1.3750 - loss: 60.9884 - val_age_output_loss: 34.1192 - val_age_output_mae: 4.2265 - val_group_output_accuracy: 0.5783 - val_group_output_loss: 1.2681 - val_loss: 34.5365 - learning_rate: 1.0000e-04\n",
            "Epoch 5/200\n",
            "\u001b[1m261/261\u001b[0m \u001b[32m━━━━━━━━━━━━━━━━━━━━\u001b[0m\u001b[37m\u001b[0m \u001b[1m48s\u001b[0m 182ms/step - age_output_loss: 48.5653 - age_output_mae: 5.4066 - group_output_accuracy: 0.5976 - group_output_loss: 1.1725 - loss: 49.0344 - val_age_output_loss: 28.2515 - val_age_output_mae: 3.9085 - val_group_output_accuracy: 0.6282 - val_group_output_loss: 1.0450 - val_loss: 28.6776 - learning_rate: 1.0000e-04\n",
            "Epoch 6/200\n",
            "\u001b[1m261/261\u001b[0m \u001b[32m━━━━━━━━━━━━━━━━━━━━\u001b[0m\u001b[37m\u001b[0m \u001b[1m48s\u001b[0m 181ms/step - age_output_loss: 45.5066 - age_output_mae: 5.1823 - group_output_accuracy: 0.6215 - group_output_loss: 1.0363 - loss: 45.9186 - val_age_output_loss: 33.4427 - val_age_output_mae: 4.2714 - val_group_output_accuracy: 0.5720 - val_group_output_loss: 1.1258 - val_loss: 33.3660 - learning_rate: 1.0000e-04\n",
            "Epoch 7/200\n",
            "\u001b[1m261/261\u001b[0m \u001b[32m━━━━━━━━━━━━━━━━━━━━\u001b[0m\u001b[37m\u001b[0m \u001b[1m48s\u001b[0m 182ms/step - age_output_loss: 43.2728 - age_output_mae: 5.0762 - group_output_accuracy: 0.6300 - group_output_loss: 1.0180 - loss: 43.6806 - val_age_output_loss: 15.7631 - val_age_output_mae: 2.8394 - val_group_output_accuracy: 0.6436 - val_group_output_loss: 0.9939 - val_loss: 16.1686 - learning_rate: 1.0000e-04\n",
            "Epoch 8/200\n",
            "\u001b[1m261/261\u001b[0m \u001b[32m━━━━━━━━━━━━━━━━━━━━\u001b[0m\u001b[37m\u001b[0m \u001b[1m48s\u001b[0m 181ms/step - age_output_loss: 43.2789 - age_output_mae: 5.0630 - group_output_accuracy: 0.6309 - group_output_loss: 1.0434 - loss: 43.6972 - val_age_output_loss: 35.7777 - val_age_output_mae: 4.6794 - val_group_output_accuracy: 0.5552 - val_group_output_loss: 1.3495 - val_loss: 36.3281 - learning_rate: 1.0000e-04\n",
            "Epoch 9/200\n",
            "\u001b[1m260/261\u001b[0m \u001b[32m━━━━━━━━━━━━━━━━━━━\u001b[0m\u001b[37m━\u001b[0m \u001b[1m0s\u001b[0m 170ms/step - age_output_loss: 44.1652 - age_output_mae: 5.0257 - group_output_accuracy: 0.6200 - group_output_loss: 1.0768 - loss: 44.5959\n",
            "Epoch 9: ReduceLROnPlateau reducing learning rate to 4.999999873689376e-05.\n",
            "\u001b[1m261/261\u001b[0m \u001b[32m━━━━━━━━━━━━━━━━━━━━\u001b[0m\u001b[37m\u001b[0m \u001b[1m48s\u001b[0m 181ms/step - age_output_loss: 44.1660 - age_output_mae: 5.0260 - group_output_accuracy: 0.6201 - group_output_loss: 1.0764 - loss: 44.5956 - val_age_output_loss: 36.0265 - val_age_output_mae: 4.4013 - val_group_output_accuracy: 0.6374 - val_group_output_loss: 1.0306 - val_loss: 36.9176 - learning_rate: 1.0000e-04\n",
            "Epoch 10/200\n",
            "\u001b[1m261/261\u001b[0m \u001b[32m━━━━━━━━━━━━━━━━━━━━\u001b[0m\u001b[37m\u001b[0m \u001b[1m48s\u001b[0m 182ms/step - age_output_loss: 40.8754 - age_output_mae: 4.9184 - group_output_accuracy: 0.6576 - group_output_loss: 0.9037 - loss: 41.2367 - val_age_output_loss: 9.7925 - val_age_output_mae: 2.0713 - val_group_output_accuracy: 0.7637 - val_group_output_loss: 0.6426 - val_loss: 10.1836 - learning_rate: 5.0000e-05\n",
            "Epoch 11/200\n",
            "\u001b[1m261/261\u001b[0m \u001b[32m━━━━━━━━━━━━━━━━━━━━\u001b[0m\u001b[37m\u001b[0m \u001b[1m47s\u001b[0m 181ms/step - age_output_loss: 35.4696 - age_output_mae: 4.5974 - group_output_accuracy: 0.6829 - group_output_loss: 0.8135 - loss: 35.7943 - val_age_output_loss: 11.9913 - val_age_output_mae: 2.4701 - val_group_output_accuracy: 0.7061 - val_group_output_loss: 0.7807 - val_loss: 12.2648 - learning_rate: 5.0000e-05\n",
            "Epoch 12/200\n",
            "\u001b[1m260/261\u001b[0m \u001b[32m━━━━━━━━━━━━━━━━━━━\u001b[0m\u001b[37m━\u001b[0m \u001b[1m0s\u001b[0m 169ms/step - age_output_loss: 34.9505 - age_output_mae: 4.5792 - group_output_accuracy: 0.6541 - group_output_loss: 0.8877 - loss: 35.3056\n",
            "Epoch 12: ReduceLROnPlateau reducing learning rate to 2.499999936844688e-05.\n",
            "\u001b[1m261/261\u001b[0m \u001b[32m━━━━━━━━━━━━━━━━━━━━\u001b[0m\u001b[37m\u001b[0m \u001b[1m47s\u001b[0m 181ms/step - age_output_loss: 34.9461 - age_output_mae: 4.5791 - group_output_accuracy: 0.6542 - group_output_loss: 0.8875 - loss: 35.3016 - val_age_output_loss: 11.6269 - val_age_output_mae: 2.3095 - val_group_output_accuracy: 0.7176 - val_group_output_loss: 0.7072 - val_loss: 11.6495 - learning_rate: 5.0000e-05\n",
            "Epoch 13/200\n",
            "\u001b[1m261/261\u001b[0m \u001b[32m━━━━━━━━━━━━━━━━━━━━\u001b[0m\u001b[37m\u001b[0m \u001b[1m48s\u001b[0m 182ms/step - age_output_loss: 33.0060 - age_output_mae: 4.4592 - group_output_accuracy: 0.7032 - group_output_loss: 0.7558 - loss: 33.3085 - val_age_output_loss: 7.5542 - val_age_output_mae: 1.7871 - val_group_output_accuracy: 0.8348 - val_group_output_loss: 0.5392 - val_loss: 7.1466 - learning_rate: 2.5000e-05\n",
            "Epoch 14/200\n",
            "\u001b[1m261/261\u001b[0m \u001b[32m━━━━━━━━━━━━━━━━━━━━\u001b[0m\u001b[37m\u001b[0m \u001b[1m48s\u001b[0m 181ms/step - age_output_loss: 32.1199 - age_output_mae: 4.3714 - group_output_accuracy: 0.7272 - group_output_loss: 0.6953 - loss: 32.3982 - val_age_output_loss: 7.3424 - val_age_output_mae: 1.7993 - val_group_output_accuracy: 0.7843 - val_group_output_loss: 0.5910 - val_loss: 7.5048 - learning_rate: 2.5000e-05\n",
            "Epoch 15/200\n",
            "\u001b[1m260/261\u001b[0m \u001b[32m━━━━━━━━━━━━━━━━━━━\u001b[0m\u001b[37m━\u001b[0m \u001b[1m0s\u001b[0m 170ms/step - age_output_loss: 31.7590 - age_output_mae: 4.3752 - group_output_accuracy: 0.7276 - group_output_loss: 0.7052 - loss: 32.0411\n",
            "Epoch 15: ReduceLROnPlateau reducing learning rate to 1.249999968422344e-05.\n",
            "\u001b[1m261/261\u001b[0m \u001b[32m━━━━━━━━━━━━━━━━━━━━\u001b[0m\u001b[37m\u001b[0m \u001b[1m48s\u001b[0m 181ms/step - age_output_loss: 31.7596 - age_output_mae: 4.3753 - group_output_accuracy: 0.7276 - group_output_loss: 0.7052 - loss: 32.0417 - val_age_output_loss: 7.1134 - val_age_output_mae: 1.8149 - val_group_output_accuracy: 0.7834 - val_group_output_loss: 0.5824 - val_loss: 7.4436 - learning_rate: 2.5000e-05\n",
            "Epoch 16/200\n",
            "\u001b[1m261/261\u001b[0m \u001b[32m━━━━━━━━━━━━━━━━━━━━\u001b[0m\u001b[37m\u001b[0m \u001b[1m48s\u001b[0m 182ms/step - age_output_loss: 30.6727 - age_output_mae: 4.3096 - group_output_accuracy: 0.7338 - group_output_loss: 0.6864 - loss: 30.9471 - val_age_output_loss: 5.0820 - val_age_output_mae: 1.4255 - val_group_output_accuracy: 0.8261 - val_group_output_loss: 0.5115 - val_loss: 5.3581 - learning_rate: 1.2500e-05\n",
            "Epoch 17/200\n",
            "\u001b[1m261/261\u001b[0m \u001b[32m━━━━━━━━━━━━━━━━━━━━\u001b[0m\u001b[37m\u001b[0m \u001b[1m48s\u001b[0m 181ms/step - age_output_loss: 31.5278 - age_output_mae: 4.3759 - group_output_accuracy: 0.7359 - group_output_loss: 0.6613 - loss: 31.7904 - val_age_output_loss: 5.4550 - val_age_output_mae: 1.5129 - val_group_output_accuracy: 0.8122 - val_group_output_loss: 0.5353 - val_loss: 5.6818 - learning_rate: 1.2500e-05\n",
            "Epoch 18/200\n",
            "\u001b[1m260/261\u001b[0m \u001b[32m━━━━━━━━━━━━━━━━━━━\u001b[0m\u001b[37m━\u001b[0m \u001b[1m0s\u001b[0m 170ms/step - age_output_loss: 32.1626 - age_output_mae: 4.3824 - group_output_accuracy: 0.7329 - group_output_loss: 0.6713 - loss: 32.4311\n",
            "Epoch 18: ReduceLROnPlateau reducing learning rate to 6.24999984211172e-06.\n",
            "\u001b[1m261/261\u001b[0m \u001b[32m━━━━━━━━━━━━━━━━━━━━\u001b[0m\u001b[37m\u001b[0m \u001b[1m48s\u001b[0m 181ms/step - age_output_loss: 32.1607 - age_output_mae: 4.3824 - group_output_accuracy: 0.7329 - group_output_loss: 0.6713 - loss: 32.4293 - val_age_output_loss: 5.4886 - val_age_output_mae: 1.5313 - val_group_output_accuracy: 0.8108 - val_group_output_loss: 0.5529 - val_loss: 5.6767 - learning_rate: 1.2500e-05\n",
            "Epoch 19/200\n",
            "\u001b[1m261/261\u001b[0m \u001b[32m━━━━━━━━━━━━━━━━━━━━\u001b[0m\u001b[37m\u001b[0m \u001b[1m48s\u001b[0m 182ms/step - age_output_loss: 30.4166 - age_output_mae: 4.3177 - group_output_accuracy: 0.7292 - group_output_loss: 0.6678 - loss: 30.6826 - val_age_output_loss: 4.9235 - val_age_output_mae: 1.3827 - val_group_output_accuracy: 0.8064 - val_group_output_loss: 0.5452 - val_loss: 5.1839 - learning_rate: 6.2500e-06\n",
            "Epoch 20/200\n",
            "\u001b[1m261/261\u001b[0m \u001b[32m━━━━━━━━━━━━━━━━━━━━\u001b[0m\u001b[37m\u001b[0m \u001b[1m48s\u001b[0m 182ms/step - age_output_loss: 29.9007 - age_output_mae: 4.2620 - group_output_accuracy: 0.7517 - group_output_loss: 0.6272 - loss: 30.1516 - val_age_output_loss: 4.9065 - val_age_output_mae: 1.3714 - val_group_output_accuracy: 0.8487 - val_group_output_loss: 0.5042 - val_loss: 5.1789 - learning_rate: 6.2500e-06\n",
            "Epoch 21/200\n",
            "\u001b[1m261/261\u001b[0m \u001b[32m━━━━━━━━━━━━━━━━━━━━\u001b[0m\u001b[37m\u001b[0m \u001b[1m48s\u001b[0m 182ms/step - age_output_loss: 30.9274 - age_output_mae: 4.2958 - group_output_accuracy: 0.7512 - group_output_loss: 0.6279 - loss: 31.1779 - val_age_output_loss: 4.7087 - val_age_output_mae: 1.3140 - val_group_output_accuracy: 0.8425 - val_group_output_loss: 0.5011 - val_loss: 4.9675 - learning_rate: 6.2500e-06\n",
            "Epoch 22/200\n",
            "\u001b[1m261/261\u001b[0m \u001b[32m━━━━━━━━━━━━━━━━━━━━\u001b[0m\u001b[37m\u001b[0m \u001b[1m48s\u001b[0m 182ms/step - age_output_loss: 29.6208 - age_output_mae: 4.2228 - group_output_accuracy: 0.7559 - group_output_loss: 0.6024 - loss: 29.8601 - val_age_output_loss: 4.8839 - val_age_output_mae: 1.3724 - val_group_output_accuracy: 0.8473 - val_group_output_loss: 0.4845 - val_loss: 4.9369 - learning_rate: 6.2500e-06\n",
            "Epoch 23/200\n",
            "\u001b[1m261/261\u001b[0m \u001b[32m━━━━━━━━━━━━━━━━━━━━\u001b[0m\u001b[37m\u001b[0m \u001b[1m48s\u001b[0m 182ms/step - age_output_loss: 30.1336 - age_output_mae: 4.2545 - group_output_accuracy: 0.7620 - group_output_loss: 0.6016 - loss: 30.3742 - val_age_output_loss: 4.5616 - val_age_output_mae: 1.3392 - val_group_output_accuracy: 0.8626 - val_group_output_loss: 0.4535 - val_loss: 4.8019 - learning_rate: 6.2500e-06\n",
            "Epoch 24/200\n",
            "\u001b[1m261/261\u001b[0m \u001b[32m━━━━━━━━━━━━━━━━━━━━\u001b[0m\u001b[37m\u001b[0m \u001b[1m48s\u001b[0m 182ms/step - age_output_loss: 32.1032 - age_output_mae: 4.3842 - group_output_accuracy: 0.7706 - group_output_loss: 0.5993 - loss: 32.3411 - val_age_output_loss: 4.3777 - val_age_output_mae: 1.2874 - val_group_output_accuracy: 0.8405 - val_group_output_loss: 0.4884 - val_loss: 4.6367 - learning_rate: 6.2500e-06\n",
            "Epoch 25/200\n",
            "\u001b[1m261/261\u001b[0m \u001b[32m━━━━━━━━━━━━━━━━━━━━\u001b[0m\u001b[37m\u001b[0m \u001b[1m48s\u001b[0m 182ms/step - age_output_loss: 30.1898 - age_output_mae: 4.2374 - group_output_accuracy: 0.7560 - group_output_loss: 0.6191 - loss: 30.4380 - val_age_output_loss: 4.1874 - val_age_output_mae: 1.2598 - val_group_output_accuracy: 0.8540 - val_group_output_loss: 0.4631 - val_loss: 4.4301 - learning_rate: 6.2500e-06\n",
            "Epoch 26/200\n",
            "\u001b[1m261/261\u001b[0m \u001b[32m━━━━━━━━━━━━━━━━━━━━\u001b[0m\u001b[37m\u001b[0m \u001b[1m47s\u001b[0m 181ms/step - age_output_loss: 29.9056 - age_output_mae: 4.2390 - group_output_accuracy: 0.7597 - group_output_loss: 0.5917 - loss: 30.1420 - val_age_output_loss: 4.3472 - val_age_output_mae: 1.2817 - val_group_output_accuracy: 0.8386 - val_group_output_loss: 0.4657 - val_loss: 4.5742 - learning_rate: 6.2500e-06\n",
            "Epoch 27/200\n",
            "\u001b[1m260/261\u001b[0m \u001b[32m━━━━━━━━━━━━━━━━━━━\u001b[0m\u001b[37m━\u001b[0m \u001b[1m0s\u001b[0m 170ms/step - age_output_loss: 29.8452 - age_output_mae: 4.2426 - group_output_accuracy: 0.7614 - group_output_loss: 0.6045 - loss: 30.0870\n",
            "Epoch 27: ReduceLROnPlateau reducing learning rate to 3.12499992105586e-06.\n",
            "\u001b[1m261/261\u001b[0m \u001b[32m━━━━━━━━━━━━━━━━━━━━\u001b[0m\u001b[37m\u001b[0m \u001b[1m47s\u001b[0m 181ms/step - age_output_loss: 29.8469 - age_output_mae: 4.2428 - group_output_accuracy: 0.7614 - group_output_loss: 0.6045 - loss: 30.0882 - val_age_output_loss: 4.4964 - val_age_output_mae: 1.2694 - val_group_output_accuracy: 0.8324 - val_group_output_loss: 0.4801 - val_loss: 4.6626 - learning_rate: 6.2500e-06\n",
            "Epoch 28/200\n",
            "\u001b[1m261/261\u001b[0m \u001b[32m━━━━━━━━━━━━━━━━━━━━\u001b[0m\u001b[37m\u001b[0m \u001b[1m48s\u001b[0m 181ms/step - age_output_loss: 29.6524 - age_output_mae: 4.2096 - group_output_accuracy: 0.7699 - group_output_loss: 0.5952 - loss: 29.8908 - val_age_output_loss: 4.2969 - val_age_output_mae: 1.2572 - val_group_output_accuracy: 0.8420 - val_group_output_loss: 0.4627 - val_loss: 4.5192 - learning_rate: 3.1250e-06\n",
            "Epoch 29/200\n",
            "\u001b[1m260/261\u001b[0m \u001b[32m━━━━━━━━━━━━━━━━━━━\u001b[0m\u001b[37m━\u001b[0m \u001b[1m0s\u001b[0m 170ms/step - age_output_loss: 29.4536 - age_output_mae: 4.1983 - group_output_accuracy: 0.7697 - group_output_loss: 0.5819 - loss: 29.6863\n",
            "Epoch 29: ReduceLROnPlateau reducing learning rate to 1.56249996052793e-06.\n",
            "\u001b[1m261/261\u001b[0m \u001b[32m━━━━━━━━━━━━━━━━━━━━\u001b[0m\u001b[37m\u001b[0m \u001b[1m48s\u001b[0m 181ms/step - age_output_loss: 29.4571 - age_output_mae: 4.1985 - group_output_accuracy: 0.7697 - group_output_loss: 0.5819 - loss: 29.6896 - val_age_output_loss: 4.3698 - val_age_output_mae: 1.2684 - val_group_output_accuracy: 0.8525 - val_group_output_loss: 0.4468 - val_loss: 4.5460 - learning_rate: 3.1250e-06\n",
            "Epoch 30/200\n",
            "\u001b[1m261/261\u001b[0m \u001b[32m━━━━━━━━━━━━━━━━━━━━\u001b[0m\u001b[37m\u001b[0m \u001b[1m48s\u001b[0m 182ms/step - age_output_loss: 28.6775 - age_output_mae: 4.1691 - group_output_accuracy: 0.7860 - group_output_loss: 0.5580 - loss: 28.9011 - val_age_output_loss: 4.1869 - val_age_output_mae: 1.2310 - val_group_output_accuracy: 0.8521 - val_group_output_loss: 0.4448 - val_loss: 4.4125 - learning_rate: 1.5625e-06\n",
            "Epoch 31/200\n",
            "\u001b[1m261/261\u001b[0m \u001b[32m━━━━━━━━━━━━━━━━━━━━\u001b[0m\u001b[37m\u001b[0m \u001b[1m48s\u001b[0m 182ms/step - age_output_loss: 30.1000 - age_output_mae: 4.2454 - group_output_accuracy: 0.7859 - group_output_loss: 0.5585 - loss: 30.3225 - val_age_output_loss: 4.0811 - val_age_output_mae: 1.2186 - val_group_output_accuracy: 0.8698 - val_group_output_loss: 0.4373 - val_loss: 4.3031 - learning_rate: 1.5625e-06\n",
            "Epoch 32/200\n",
            "\u001b[1m261/261\u001b[0m \u001b[32m━━━━━━━━━━━━━━━━━━━━\u001b[0m\u001b[37m\u001b[0m \u001b[1m48s\u001b[0m 181ms/step - age_output_loss: 29.3177 - age_output_mae: 4.2238 - group_output_accuracy: 0.7929 - group_output_loss: 0.5370 - loss: 29.5324 - val_age_output_loss: 4.0542 - val_age_output_mae: 1.1811 - val_group_output_accuracy: 0.8718 - val_group_output_loss: 0.4283 - val_loss: 4.2621 - learning_rate: 1.5625e-06\n",
            "Epoch 33/200\n",
            "\u001b[1m261/261\u001b[0m \u001b[32m━━━━━━━━━━━━━━━━━━━━\u001b[0m\u001b[37m\u001b[0m \u001b[1m48s\u001b[0m 182ms/step - age_output_loss: 29.2219 - age_output_mae: 4.2053 - group_output_accuracy: 0.7906 - group_output_loss: 0.5483 - loss: 29.4412 - val_age_output_loss: 4.0292 - val_age_output_mae: 1.2150 - val_group_output_accuracy: 0.8751 - val_group_output_loss: 0.4255 - val_loss: 4.2513 - learning_rate: 1.5625e-06\n",
            "Epoch 34/200\n",
            "\u001b[1m261/261\u001b[0m \u001b[32m━━━━━━━━━━━━━━━━━━━━\u001b[0m\u001b[37m\u001b[0m \u001b[1m48s\u001b[0m 181ms/step - age_output_loss: 29.9408 - age_output_mae: 4.2076 - group_output_accuracy: 0.7895 - group_output_loss: 0.5408 - loss: 30.1552 - val_age_output_loss: 4.0803 - val_age_output_mae: 1.2021 - val_group_output_accuracy: 0.8727 - val_group_output_loss: 0.4284 - val_loss: 4.3004 - learning_rate: 1.5625e-06\n",
            "Epoch 35/200\n",
            "\u001b[1m260/261\u001b[0m \u001b[32m━━━━━━━━━━━━━━━━━━━\u001b[0m\u001b[37m━\u001b[0m \u001b[1m0s\u001b[0m 170ms/step - age_output_loss: 29.1855 - age_output_mae: 4.1939 - group_output_accuracy: 0.7835 - group_output_loss: 0.5568 - loss: 29.4082\n",
            "Epoch 35: ReduceLROnPlateau reducing learning rate to 7.81249980263965e-07.\n",
            "\u001b[1m261/261\u001b[0m \u001b[32m━━━━━━━━━━━━━━━━━━━━\u001b[0m\u001b[37m\u001b[0m \u001b[1m47s\u001b[0m 181ms/step - age_output_loss: 29.1898 - age_output_mae: 4.1939 - group_output_accuracy: 0.7835 - group_output_loss: 0.5569 - loss: 29.4109 - val_age_output_loss: 4.0769 - val_age_output_mae: 1.1909 - val_group_output_accuracy: 0.8770 - val_group_output_loss: 0.4384 - val_loss: 4.2824 - learning_rate: 1.5625e-06\n",
            "Epoch 36/200\n",
            "\u001b[1m261/261\u001b[0m \u001b[32m━━━━━━━━━━━━━━━━━━━━\u001b[0m\u001b[37m\u001b[0m \u001b[1m48s\u001b[0m 182ms/step - age_output_loss: 29.0813 - age_output_mae: 4.1751 - group_output_accuracy: 0.7970 - group_output_loss: 0.5291 - loss: 29.2915 - val_age_output_loss: 4.0055 - val_age_output_mae: 1.1847 - val_group_output_accuracy: 0.8775 - val_group_output_loss: 0.4259 - val_loss: 4.2231 - learning_rate: 7.8125e-07\n",
            "Epoch 37/200\n",
            "\u001b[1m261/261\u001b[0m \u001b[32m━━━━━━━━━━━━━━━━━━━━\u001b[0m\u001b[37m\u001b[0m \u001b[1m48s\u001b[0m 182ms/step - age_output_loss: 28.3999 - age_output_mae: 4.1076 - group_output_accuracy: 0.7867 - group_output_loss: 0.5457 - loss: 28.6180 - val_age_output_loss: 3.9629 - val_age_output_mae: 1.1832 - val_group_output_accuracy: 0.8742 - val_group_output_loss: 0.4240 - val_loss: 4.1864 - learning_rate: 7.8125e-07\n",
            "Epoch 38/200\n",
            "\u001b[1m261/261\u001b[0m \u001b[32m━━━━━━━━━━━━━━━━━━━━\u001b[0m\u001b[37m\u001b[0m \u001b[1m48s\u001b[0m 182ms/step - age_output_loss: 29.8537 - age_output_mae: 4.2485 - group_output_accuracy: 0.7848 - group_output_loss: 0.5515 - loss: 30.0743 - val_age_output_loss: 3.9529 - val_age_output_mae: 1.1887 - val_group_output_accuracy: 0.8785 - val_group_output_loss: 0.4196 - val_loss: 4.1562 - learning_rate: 7.8125e-07\n",
            "Epoch 39/200\n",
            "\u001b[1m261/261\u001b[0m \u001b[32m━━━━━━━━━━━━━━━━━━━━\u001b[0m\u001b[37m\u001b[0m \u001b[1m48s\u001b[0m 182ms/step - age_output_loss: 29.2616 - age_output_mae: 4.1806 - group_output_accuracy: 0.7910 - group_output_loss: 0.5396 - loss: 29.4733 - val_age_output_loss: 3.9110 - val_age_output_mae: 1.1779 - val_group_output_accuracy: 0.8751 - val_group_output_loss: 0.4245 - val_loss: 4.1344 - learning_rate: 7.8125e-07\n",
            "Epoch 40/200\n",
            "\u001b[1m261/261\u001b[0m \u001b[32m━━━━━━━━━━━━━━━━━━━━\u001b[0m\u001b[37m\u001b[0m \u001b[1m48s\u001b[0m 182ms/step - age_output_loss: 29.5997 - age_output_mae: 4.1948 - group_output_accuracy: 0.7833 - group_output_loss: 0.5488 - loss: 29.8195 - val_age_output_loss: 3.9008 - val_age_output_mae: 1.1596 - val_group_output_accuracy: 0.8766 - val_group_output_loss: 0.4240 - val_loss: 4.1259 - learning_rate: 7.8125e-07\n",
            "Epoch 41/200\n",
            "\u001b[1m261/261\u001b[0m \u001b[32m━━━━━━━━━━━━━━━━━━━━\u001b[0m\u001b[37m\u001b[0m \u001b[1m48s\u001b[0m 182ms/step - age_output_loss: 30.3840 - age_output_mae: 4.2772 - group_output_accuracy: 0.7850 - group_output_loss: 0.5439 - loss: 30.6012 - val_age_output_loss: 3.8581 - val_age_output_mae: 1.1645 - val_group_output_accuracy: 0.8770 - val_group_output_loss: 0.4194 - val_loss: 4.0805 - learning_rate: 7.8125e-07\n",
            "Epoch 42/200\n",
            "\u001b[1m261/261\u001b[0m \u001b[32m━━━━━━━━━━━━━━━━━━━━\u001b[0m\u001b[37m\u001b[0m \u001b[1m48s\u001b[0m 181ms/step - age_output_loss: 29.2693 - age_output_mae: 4.2427 - group_output_accuracy: 0.7871 - group_output_loss: 0.5366 - loss: 29.4838 - val_age_output_loss: 3.9143 - val_age_output_mae: 1.1711 - val_group_output_accuracy: 0.8785 - val_group_output_loss: 0.4311 - val_loss: 4.1220 - learning_rate: 7.8125e-07\n",
            "Epoch 43/200\n",
            "\u001b[1m260/261\u001b[0m \u001b[32m━━━━━━━━━━━━━━━━━━━\u001b[0m\u001b[37m━\u001b[0m \u001b[1m0s\u001b[0m 170ms/step - age_output_loss: 29.2782 - age_output_mae: 4.2002 - group_output_accuracy: 0.7893 - group_output_loss: 0.5347 - loss: 29.4920\n",
            "Epoch 43: ReduceLROnPlateau reducing learning rate to 3.906249901319825e-07.\n",
            "\u001b[1m261/261\u001b[0m \u001b[32m━━━━━━━━━━━━━━━━━━━━\u001b[0m\u001b[37m\u001b[0m \u001b[1m47s\u001b[0m 181ms/step - age_output_loss: 29.2824 - age_output_mae: 4.2004 - group_output_accuracy: 0.7893 - group_output_loss: 0.5347 - loss: 29.4963 - val_age_output_loss: 3.8703 - val_age_output_mae: 1.1553 - val_group_output_accuracy: 0.8785 - val_group_output_loss: 0.4203 - val_loss: 4.0929 - learning_rate: 7.8125e-07\n",
            "Epoch 44/200\n",
            "\u001b[1m261/261\u001b[0m \u001b[32m━━━━━━━━━━━━━━━━━━━━\u001b[0m\u001b[37m\u001b[0m \u001b[1m48s\u001b[0m 181ms/step - age_output_loss: 29.7123 - age_output_mae: 4.2388 - group_output_accuracy: 0.7910 - group_output_loss: 0.5320 - loss: 29.9256 - val_age_output_loss: 3.8778 - val_age_output_mae: 1.1666 - val_group_output_accuracy: 0.8770 - val_group_output_loss: 0.4213 - val_loss: 4.0998 - learning_rate: 3.9062e-07\n",
            "Epoch 45/200\n",
            "\u001b[1m260/261\u001b[0m \u001b[32m━━━━━━━━━━━━━━━━━━━\u001b[0m\u001b[37m━\u001b[0m \u001b[1m0s\u001b[0m 170ms/step - age_output_loss: 30.2661 - age_output_mae: 4.2780 - group_output_accuracy: 0.7834 - group_output_loss: 0.5606 - loss: 30.4904\n",
            "Epoch 45: ReduceLROnPlateau reducing learning rate to 1.9531249506599124e-07.\n",
            "\u001b[1m261/261\u001b[0m \u001b[32m━━━━━━━━━━━━━━━━━━━━\u001b[0m\u001b[37m\u001b[0m \u001b[1m48s\u001b[0m 181ms/step - age_output_loss: 30.2652 - age_output_mae: 4.2778 - group_output_accuracy: 0.7835 - group_output_loss: 0.5605 - loss: 30.4894 - val_age_output_loss: 3.8922 - val_age_output_mae: 1.1612 - val_group_output_accuracy: 0.8775 - val_group_output_loss: 0.4209 - val_loss: 4.1112 - learning_rate: 3.9062e-07\n",
            "Epoch 46/200\n",
            "\u001b[1m261/261\u001b[0m \u001b[32m━━━━━━━━━━━━━━━━━━━━\u001b[0m\u001b[37m\u001b[0m \u001b[1m47s\u001b[0m 181ms/step - age_output_loss: 31.0612 - age_output_mae: 4.3236 - group_output_accuracy: 0.7909 - group_output_loss: 0.5367 - loss: 31.2761 - val_age_output_loss: 3.9012 - val_age_output_mae: 1.1508 - val_group_output_accuracy: 0.8790 - val_group_output_loss: 0.4225 - val_loss: 4.0819 - learning_rate: 1.9531e-07\n",
            "Epoch 46: early stopping\n",
            "Restoring model weights from the end of the best epoch: 41.\n"
          ]
        },
        {
          "output_type": "execute_result",
          "data": {
            "text/plain": [
              "<keras.src.callbacks.history.History at 0x782fcb323b90>"
            ]
          },
          "metadata": {},
          "execution_count": 9
        }
      ]
    },
    {
      "cell_type": "code",
      "source": [
        "multi_model.save(\"best_rice_age_model_part_2.h5\")"
      ],
      "metadata": {
        "colab": {
          "base_uri": "https://localhost:8080/"
        },
        "id": "0H1krUTAjpnp",
        "outputId": "9cf0c13f-1ac2-4778-9879-de5f03f74ef4"
      },
      "execution_count": 10,
      "outputs": [
        {
          "output_type": "stream",
          "name": "stderr",
          "text": [
            "WARNING:absl:You are saving your model as an HDF5 file via `model.save()` or `keras.saving.save_model(model)`. This file format is considered legacy. We recommend using instead the native Keras format, e.g. `model.save('my_model.keras')` or `keras.saving.save_model(model, 'my_model.keras')`. \n"
          ]
        }
      ]
    },
    {
      "cell_type": "code",
      "source": [
        "# Google Drive file ID (from the shared link)\n",
        "file_test_id = \"1othgf5BTO_sZYXBOWykn2OkitSCna7J6\"\n",
        "file_test_name = \"test_images.zip\"\n",
        "file_test_path = \"/content/\" + file_test_name\n",
        "\n",
        "# Download the file\n",
        "gdown.download(f\"https://drive.google.com/uc?id={file_test_id}\", file_test_path, quiet=False)\n",
        "print(f\"Downloaded: {file_test_path}\")"
      ],
      "metadata": {
        "colab": {
          "base_uri": "https://localhost:8080/"
        },
        "id": "-RgjcA8ej4pI",
        "outputId": "92c0094d-7102-4b6c-ba3a-675656fdf7f6"
      },
      "execution_count": 12,
      "outputs": [
        {
          "output_type": "stream",
          "name": "stderr",
          "text": [
            "Downloading...\n",
            "From (original): https://drive.google.com/uc?id=1othgf5BTO_sZYXBOWykn2OkitSCna7J6\n",
            "From (redirected): https://drive.google.com/uc?id=1othgf5BTO_sZYXBOWykn2OkitSCna7J6&confirm=t&uuid=b29e2d66-6e72-4cd8-b2d7-8d4433753f35\n",
            "To: /content/test_images.zip\n",
            "100%|██████████| 274M/274M [00:04<00:00, 62.0MB/s]"
          ]
        },
        {
          "output_type": "stream",
          "name": "stdout",
          "text": [
            "Downloaded: /content/test_images.zip\n"
          ]
        },
        {
          "output_type": "stream",
          "name": "stderr",
          "text": [
            "\n"
          ]
        }
      ]
    },
    {
      "cell_type": "code",
      "source": [
        "!unzip -q $file_test_path -d /content/extracted_test_folder"
      ],
      "metadata": {
        "id": "hrn8rgDaj7Kg"
      },
      "execution_count": 13,
      "outputs": []
    },
    {
      "cell_type": "code",
      "source": [
        "from tensorflow.keras.models import load_model\n",
        "from tensorflow.keras.preprocessing import image\n",
        "\n",
        "def predict_folder_to_csv(model, test_folder, output_csv_path):\n",
        "    results = []\n",
        "\n",
        "    for img_name in os.listdir(test_folder):\n",
        "        if img_name.lower().endswith(('.jpg', '.jpeg', '.png')):\n",
        "            img_path = os.path.join(test_folder, img_name)\n",
        "\n",
        "            img = image.load_img(img_path, target_size=(299, 299))\n",
        "            img_array = image.img_to_array(img) / 255.0\n",
        "            img_batch = np.expand_dims(img_array, axis=0)\n",
        "\n",
        "            # Predict age only\n",
        "            pred = model.predict(img_batch, verbose=0)\n",
        "            predicted_age = int(round(float(pred[0][0])))\n",
        "\n",
        "            results.append({\n",
        "                'filename': img_name,\n",
        "                'predicted_age': predicted_age\n",
        "            })\n",
        "\n",
        "    results = sorted(results, key=lambda x: int(x['filename'].split('.')[0]))\n",
        "\n",
        "    df = pd.DataFrame(results)\n",
        "    df.to_csv(output_csv_path, index=False)\n",
        "    print(f\"Prediction results saved to {output_csv_path}\")\n",
        "\n",
        "model = load_model('/content/best_rice_age_model_part_2.h5', compile=False)\n",
        "\n",
        "# Predict\n",
        "predict_folder_to_csv(\n",
        "    model=model,\n",
        "    test_folder=\"/content/extracted_test_folder/test_images\",\n",
        "    output_csv_path=\"/content/predicted_age_results.csv\"\n",
        ")\n"
      ],
      "metadata": {
        "colab": {
          "base_uri": "https://localhost:8080/"
        },
        "id": "fup-uLKXj80J",
        "outputId": "ca424690-ea07-410d-869a-794e5a4fd6f7"
      },
      "execution_count": 23,
      "outputs": [
        {
          "output_type": "stream",
          "name": "stderr",
          "text": [
            "<ipython-input-23-cd94fb2d5865>:17: DeprecationWarning: Conversion of an array with ndim > 0 to a scalar is deprecated, and will error in future. Ensure you extract a single element from your array before performing this operation. (Deprecated NumPy 1.25.)\n",
            "  predicted_age = int(round(float(pred[0][0])))\n"
          ]
        },
        {
          "output_type": "stream",
          "name": "stdout",
          "text": [
            "Prediction results saved to /content/predicted_age_results.csv\n"
          ]
        }
      ]
    }
  ]
}